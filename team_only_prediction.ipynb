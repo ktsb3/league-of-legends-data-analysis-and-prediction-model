{
 "cells": [
  {
   "cell_type": "markdown",
   "metadata": {},
   "source": [
    "team_only_prediction.ipynb is a jupyter notebook that has as a main objective\n",
    "determining if the database obtained from lol_df_creation.ipynb is optimal\n",
    "to create a model to predict the results from each league of legends game\n",
    "contained in the database\n",
    "Copyright (C) Keshava Tonathiu Sanchez Barbosa (keshava.t.s.b@gmail.com)\n",
    "\n",
    "This program is free software: you can redistribute it and/or modify\n",
    "it under the terms of the GNU General Public License as published by\n",
    "the Free Software Foundation, either version 3 of the License, or\n",
    "(at your option) any later version.\n",
    "\n",
    "This program is distributed in the hope that it will be useful,\n",
    "but WITHOUT ANY WARRANTY; without even the implied warranty of\n",
    "MERCHANTABILITY or FITNESS FOR A PARTICULAR PURPOSE.  See the\n",
    "GNU General Public License for more details.\n",
    "\n",
    "You should have received a copy of the GNU General Public License\n",
    "along with this program.  If not, see <https://www.gnu.org/licenses/>."
   ]
  },
  {
   "cell_type": "code",
   "execution_count": 65,
   "metadata": {},
   "outputs": [],
   "source": [
    "import pandas as pd\n",
    "import matplotlib.pyplot as plt\n",
    "from sklearn.tree import DecisionTreeClassifier\n",
    "from sklearn.model_selection import train_test_split\n",
    "from sklearn import metrics\n",
    "from sklearn import tree\n",
    "from sklearn.metrics import *\n",
    "from sklearn.model_selection import cross_val_score\n",
    "from sklearn.ensemble import ExtraTreesClassifier\n",
    "from sklearn.datasets import make_classification\n",
    "from sklearn.model_selection import ShuffleSplit\n",
    "import copy\n",
    "pd.set_option('display.max_columns', None)"
   ]
  },
  {
   "cell_type": "markdown",
   "metadata": {},
   "source": [
    "Dataframe erroneo"
   ]
  },
  {
   "cell_type": "code",
   "execution_count": 3,
   "metadata": {},
   "outputs": [],
   "source": [
    "df = pd.read_csv(\"team_df.csv\")"
   ]
  },
  {
   "cell_type": "code",
   "execution_count": 14,
   "metadata": {},
   "outputs": [],
   "source": [
    "cols = df.columns\n",
    "X = copy.copy(df)"
   ]
  },
  {
   "cell_type": "code",
   "execution_count": 15,
   "metadata": {},
   "outputs": [
    {
     "data": {
      "text/html": [
       "<div>\n",
       "<style scoped>\n",
       "    .dataframe tbody tr th:only-of-type {\n",
       "        vertical-align: middle;\n",
       "    }\n",
       "\n",
       "    .dataframe tbody tr th {\n",
       "        vertical-align: top;\n",
       "    }\n",
       "\n",
       "    .dataframe thead th {\n",
       "        text-align: right;\n",
       "    }\n",
       "</style>\n",
       "<table border=\"1\" class=\"dataframe\">\n",
       "  <thead>\n",
       "    <tr style=\"text-align: right;\">\n",
       "      <th></th>\n",
       "      <th>gameid</th>\n",
       "      <th>gamelength</th>\n",
       "      <th>result</th>\n",
       "      <th>kills</th>\n",
       "      <th>deaths</th>\n",
       "      <th>assists</th>\n",
       "      <th>doublekills</th>\n",
       "      <th>triplekills</th>\n",
       "      <th>quadrakills</th>\n",
       "      <th>pentakills</th>\n",
       "      <th>...</th>\n",
       "      <th>opp_vspm</th>\n",
       "      <th>opp_totalgold</th>\n",
       "      <th>opp_earnedgold</th>\n",
       "      <th>opp_earned_gpm</th>\n",
       "      <th>opp_goldspent</th>\n",
       "      <th>opp_minionkills</th>\n",
       "      <th>opp_monsterkills</th>\n",
       "      <th>opp_monsterkillsownjungle</th>\n",
       "      <th>opp_monsterkillsenemyjungle</th>\n",
       "      <th>opp_cspm</th>\n",
       "    </tr>\n",
       "  </thead>\n",
       "  <tbody>\n",
       "    <tr>\n",
       "      <th>0</th>\n",
       "      <td>ESPORTSTMNT03/1241318</td>\n",
       "      <td>2220</td>\n",
       "      <td>1</td>\n",
       "      <td>17</td>\n",
       "      <td>11</td>\n",
       "      <td>33</td>\n",
       "      <td>3.0</td>\n",
       "      <td>-1.0</td>\n",
       "      <td>-1.0</td>\n",
       "      <td>-1.0</td>\n",
       "      <td>...</td>\n",
       "      <td>8.5946</td>\n",
       "      <td>62709</td>\n",
       "      <td>38687</td>\n",
       "      <td>1045.5946</td>\n",
       "      <td>62025.0</td>\n",
       "      <td>1021.0</td>\n",
       "      <td>271</td>\n",
       "      <td>193</td>\n",
       "      <td>5</td>\n",
       "      <td>34.9189</td>\n",
       "    </tr>\n",
       "    <tr>\n",
       "      <th>1</th>\n",
       "      <td>ESPORTSTMNT03/1241322</td>\n",
       "      <td>2227</td>\n",
       "      <td>-1</td>\n",
       "      <td>5</td>\n",
       "      <td>21</td>\n",
       "      <td>16</td>\n",
       "      <td>1.0</td>\n",
       "      <td>-1.0</td>\n",
       "      <td>-1.0</td>\n",
       "      <td>-1.0</td>\n",
       "      <td>...</td>\n",
       "      <td>10.6960</td>\n",
       "      <td>72004</td>\n",
       "      <td>47911</td>\n",
       "      <td>1290.8217</td>\n",
       "      <td>63975.0</td>\n",
       "      <td>976.0</td>\n",
       "      <td>270</td>\n",
       "      <td>126</td>\n",
       "      <td>48</td>\n",
       "      <td>33.5698</td>\n",
       "    </tr>\n",
       "    <tr>\n",
       "      <th>2</th>\n",
       "      <td>ESPORTSTMNT03/1241324</td>\n",
       "      <td>1711</td>\n",
       "      <td>1</td>\n",
       "      <td>21</td>\n",
       "      <td>4</td>\n",
       "      <td>34</td>\n",
       "      <td>4.0</td>\n",
       "      <td>1.0</td>\n",
       "      <td>1.0</td>\n",
       "      <td>-1.0</td>\n",
       "      <td>...</td>\n",
       "      <td>6.8030</td>\n",
       "      <td>42465</td>\n",
       "      <td>23635</td>\n",
       "      <td>828.8136</td>\n",
       "      <td>40375.0</td>\n",
       "      <td>748.0</td>\n",
       "      <td>136</td>\n",
       "      <td>107</td>\n",
       "      <td>0</td>\n",
       "      <td>30.9994</td>\n",
       "    </tr>\n",
       "    <tr>\n",
       "      <th>3</th>\n",
       "      <td>ESPORTSTMNT03/1241328</td>\n",
       "      <td>1999</td>\n",
       "      <td>-1</td>\n",
       "      <td>4</td>\n",
       "      <td>17</td>\n",
       "      <td>8</td>\n",
       "      <td>-1.0</td>\n",
       "      <td>-1.0</td>\n",
       "      <td>-1.0</td>\n",
       "      <td>-1.0</td>\n",
       "      <td>...</td>\n",
       "      <td>10.3552</td>\n",
       "      <td>64845</td>\n",
       "      <td>43077</td>\n",
       "      <td>1292.9565</td>\n",
       "      <td>57400.0</td>\n",
       "      <td>911.0</td>\n",
       "      <td>238</td>\n",
       "      <td>148</td>\n",
       "      <td>26</td>\n",
       "      <td>34.4872</td>\n",
       "    </tr>\n",
       "    <tr>\n",
       "      <th>4</th>\n",
       "      <td>ESPORTSTMNT03/1241386</td>\n",
       "      <td>1812</td>\n",
       "      <td>-1</td>\n",
       "      <td>3</td>\n",
       "      <td>21</td>\n",
       "      <td>7</td>\n",
       "      <td>-1.0</td>\n",
       "      <td>-1.0</td>\n",
       "      <td>-1.0</td>\n",
       "      <td>-1.0</td>\n",
       "      <td>...</td>\n",
       "      <td>9.8344</td>\n",
       "      <td>58837</td>\n",
       "      <td>38977</td>\n",
       "      <td>1290.6291</td>\n",
       "      <td>51785.0</td>\n",
       "      <td>802.0</td>\n",
       "      <td>197</td>\n",
       "      <td>118</td>\n",
       "      <td>20</td>\n",
       "      <td>33.0795</td>\n",
       "    </tr>\n",
       "  </tbody>\n",
       "</table>\n",
       "<p>5 rows × 114 columns</p>\n",
       "</div>"
      ],
      "text/plain": [
       "                  gameid  gamelength  result  kills  deaths  assists  \\\n",
       "0  ESPORTSTMNT03/1241318        2220       1     17      11       33   \n",
       "1  ESPORTSTMNT03/1241322        2227      -1      5      21       16   \n",
       "2  ESPORTSTMNT03/1241324        1711       1     21       4       34   \n",
       "3  ESPORTSTMNT03/1241328        1999      -1      4      17        8   \n",
       "4  ESPORTSTMNT03/1241386        1812      -1      3      21        7   \n",
       "\n",
       "   doublekills  triplekills  quadrakills  pentakills  ...  opp_vspm  \\\n",
       "0          3.0         -1.0         -1.0        -1.0  ...    8.5946   \n",
       "1          1.0         -1.0         -1.0        -1.0  ...   10.6960   \n",
       "2          4.0          1.0          1.0        -1.0  ...    6.8030   \n",
       "3         -1.0         -1.0         -1.0        -1.0  ...   10.3552   \n",
       "4         -1.0         -1.0         -1.0        -1.0  ...    9.8344   \n",
       "\n",
       "   opp_totalgold  opp_earnedgold  opp_earned_gpm  opp_goldspent  \\\n",
       "0          62709           38687       1045.5946        62025.0   \n",
       "1          72004           47911       1290.8217        63975.0   \n",
       "2          42465           23635        828.8136        40375.0   \n",
       "3          64845           43077       1292.9565        57400.0   \n",
       "4          58837           38977       1290.6291        51785.0   \n",
       "\n",
       "   opp_minionkills  opp_monsterkills  opp_monsterkillsownjungle  \\\n",
       "0           1021.0               271                        193   \n",
       "1            976.0               270                        126   \n",
       "2            748.0               136                        107   \n",
       "3            911.0               238                        148   \n",
       "4            802.0               197                        118   \n",
       "\n",
       "   opp_monsterkillsenemyjungle  opp_cspm  \n",
       "0                            5   34.9189  \n",
       "1                           48   33.5698  \n",
       "2                            0   30.9994  \n",
       "3                           26   34.4872  \n",
       "4                           20   33.0795  \n",
       "\n",
       "[5 rows x 114 columns]"
      ]
     },
     "execution_count": 15,
     "metadata": {},
     "output_type": "execute_result"
    }
   ],
   "source": [
    "X.head()"
   ]
  },
  {
   "cell_type": "code",
   "execution_count": 16,
   "metadata": {},
   "outputs": [],
   "source": [
    "X.drop(['gameid', 'result'], axis = 1, inplace = True)"
   ]
  },
  {
   "cell_type": "code",
   "execution_count": 18,
   "metadata": {},
   "outputs": [
    {
     "data": {
      "text/html": [
       "<div>\n",
       "<style scoped>\n",
       "    .dataframe tbody tr th:only-of-type {\n",
       "        vertical-align: middle;\n",
       "    }\n",
       "\n",
       "    .dataframe tbody tr th {\n",
       "        vertical-align: top;\n",
       "    }\n",
       "\n",
       "    .dataframe thead th {\n",
       "        text-align: right;\n",
       "    }\n",
       "</style>\n",
       "<table border=\"1\" class=\"dataframe\">\n",
       "  <thead>\n",
       "    <tr style=\"text-align: right;\">\n",
       "      <th></th>\n",
       "      <th>gamelength</th>\n",
       "      <th>kills</th>\n",
       "      <th>deaths</th>\n",
       "      <th>assists</th>\n",
       "      <th>doublekills</th>\n",
       "      <th>triplekills</th>\n",
       "      <th>quadrakills</th>\n",
       "      <th>pentakills</th>\n",
       "      <th>firstblood</th>\n",
       "      <th>team kpm</th>\n",
       "      <th>...</th>\n",
       "      <th>opp_vspm</th>\n",
       "      <th>opp_totalgold</th>\n",
       "      <th>opp_earnedgold</th>\n",
       "      <th>opp_earned_gpm</th>\n",
       "      <th>opp_goldspent</th>\n",
       "      <th>opp_minionkills</th>\n",
       "      <th>opp_monsterkills</th>\n",
       "      <th>opp_monsterkillsownjungle</th>\n",
       "      <th>opp_monsterkillsenemyjungle</th>\n",
       "      <th>opp_cspm</th>\n",
       "    </tr>\n",
       "  </thead>\n",
       "  <tbody>\n",
       "    <tr>\n",
       "      <th>0</th>\n",
       "      <td>2220</td>\n",
       "      <td>17</td>\n",
       "      <td>11</td>\n",
       "      <td>33</td>\n",
       "      <td>3.0</td>\n",
       "      <td>-1.0</td>\n",
       "      <td>-1.0</td>\n",
       "      <td>-1.0</td>\n",
       "      <td>-1.0</td>\n",
       "      <td>0.4595</td>\n",
       "      <td>...</td>\n",
       "      <td>8.5946</td>\n",
       "      <td>62709</td>\n",
       "      <td>38687</td>\n",
       "      <td>1045.5946</td>\n",
       "      <td>62025.0</td>\n",
       "      <td>1021.0</td>\n",
       "      <td>271</td>\n",
       "      <td>193</td>\n",
       "      <td>5</td>\n",
       "      <td>34.9189</td>\n",
       "    </tr>\n",
       "    <tr>\n",
       "      <th>1</th>\n",
       "      <td>2227</td>\n",
       "      <td>5</td>\n",
       "      <td>21</td>\n",
       "      <td>16</td>\n",
       "      <td>1.0</td>\n",
       "      <td>-1.0</td>\n",
       "      <td>-1.0</td>\n",
       "      <td>-1.0</td>\n",
       "      <td>-1.0</td>\n",
       "      <td>0.1347</td>\n",
       "      <td>...</td>\n",
       "      <td>10.6960</td>\n",
       "      <td>72004</td>\n",
       "      <td>47911</td>\n",
       "      <td>1290.8217</td>\n",
       "      <td>63975.0</td>\n",
       "      <td>976.0</td>\n",
       "      <td>270</td>\n",
       "      <td>126</td>\n",
       "      <td>48</td>\n",
       "      <td>33.5698</td>\n",
       "    </tr>\n",
       "    <tr>\n",
       "      <th>2</th>\n",
       "      <td>1711</td>\n",
       "      <td>21</td>\n",
       "      <td>4</td>\n",
       "      <td>34</td>\n",
       "      <td>4.0</td>\n",
       "      <td>1.0</td>\n",
       "      <td>1.0</td>\n",
       "      <td>-1.0</td>\n",
       "      <td>-1.0</td>\n",
       "      <td>0.7364</td>\n",
       "      <td>...</td>\n",
       "      <td>6.8030</td>\n",
       "      <td>42465</td>\n",
       "      <td>23635</td>\n",
       "      <td>828.8136</td>\n",
       "      <td>40375.0</td>\n",
       "      <td>748.0</td>\n",
       "      <td>136</td>\n",
       "      <td>107</td>\n",
       "      <td>0</td>\n",
       "      <td>30.9994</td>\n",
       "    </tr>\n",
       "    <tr>\n",
       "      <th>3</th>\n",
       "      <td>1999</td>\n",
       "      <td>4</td>\n",
       "      <td>17</td>\n",
       "      <td>8</td>\n",
       "      <td>-1.0</td>\n",
       "      <td>-1.0</td>\n",
       "      <td>-1.0</td>\n",
       "      <td>-1.0</td>\n",
       "      <td>-1.0</td>\n",
       "      <td>0.1201</td>\n",
       "      <td>...</td>\n",
       "      <td>10.3552</td>\n",
       "      <td>64845</td>\n",
       "      <td>43077</td>\n",
       "      <td>1292.9565</td>\n",
       "      <td>57400.0</td>\n",
       "      <td>911.0</td>\n",
       "      <td>238</td>\n",
       "      <td>148</td>\n",
       "      <td>26</td>\n",
       "      <td>34.4872</td>\n",
       "    </tr>\n",
       "    <tr>\n",
       "      <th>4</th>\n",
       "      <td>1812</td>\n",
       "      <td>3</td>\n",
       "      <td>21</td>\n",
       "      <td>7</td>\n",
       "      <td>-1.0</td>\n",
       "      <td>-1.0</td>\n",
       "      <td>-1.0</td>\n",
       "      <td>-1.0</td>\n",
       "      <td>-1.0</td>\n",
       "      <td>0.0993</td>\n",
       "      <td>...</td>\n",
       "      <td>9.8344</td>\n",
       "      <td>58837</td>\n",
       "      <td>38977</td>\n",
       "      <td>1290.6291</td>\n",
       "      <td>51785.0</td>\n",
       "      <td>802.0</td>\n",
       "      <td>197</td>\n",
       "      <td>118</td>\n",
       "      <td>20</td>\n",
       "      <td>33.0795</td>\n",
       "    </tr>\n",
       "  </tbody>\n",
       "</table>\n",
       "<p>5 rows × 112 columns</p>\n",
       "</div>"
      ],
      "text/plain": [
       "   gamelength  kills  deaths  assists  doublekills  triplekills  quadrakills  \\\n",
       "0        2220     17      11       33          3.0         -1.0         -1.0   \n",
       "1        2227      5      21       16          1.0         -1.0         -1.0   \n",
       "2        1711     21       4       34          4.0          1.0          1.0   \n",
       "3        1999      4      17        8         -1.0         -1.0         -1.0   \n",
       "4        1812      3      21        7         -1.0         -1.0         -1.0   \n",
       "\n",
       "   pentakills  firstblood  team kpm  ...  opp_vspm  opp_totalgold  \\\n",
       "0        -1.0        -1.0    0.4595  ...    8.5946          62709   \n",
       "1        -1.0        -1.0    0.1347  ...   10.6960          72004   \n",
       "2        -1.0        -1.0    0.7364  ...    6.8030          42465   \n",
       "3        -1.0        -1.0    0.1201  ...   10.3552          64845   \n",
       "4        -1.0        -1.0    0.0993  ...    9.8344          58837   \n",
       "\n",
       "   opp_earnedgold  opp_earned_gpm  opp_goldspent  opp_minionkills  \\\n",
       "0           38687       1045.5946        62025.0           1021.0   \n",
       "1           47911       1290.8217        63975.0            976.0   \n",
       "2           23635        828.8136        40375.0            748.0   \n",
       "3           43077       1292.9565        57400.0            911.0   \n",
       "4           38977       1290.6291        51785.0            802.0   \n",
       "\n",
       "   opp_monsterkills  opp_monsterkillsownjungle  opp_monsterkillsenemyjungle  \\\n",
       "0               271                        193                            5   \n",
       "1               270                        126                           48   \n",
       "2               136                        107                            0   \n",
       "3               238                        148                           26   \n",
       "4               197                        118                           20   \n",
       "\n",
       "   opp_cspm  \n",
       "0   34.9189  \n",
       "1   33.5698  \n",
       "2   30.9994  \n",
       "3   34.4872  \n",
       "4   33.0795  \n",
       "\n",
       "[5 rows x 112 columns]"
      ]
     },
     "execution_count": 18,
     "metadata": {},
     "output_type": "execute_result"
    }
   ],
   "source": [
    "X.head()"
   ]
  },
  {
   "cell_type": "code",
   "execution_count": 21,
   "metadata": {},
   "outputs": [
    {
     "data": {
      "text/plain": [
       "0       1\n",
       "1      -1\n",
       "2       1\n",
       "3      -1\n",
       "4      -1\n",
       "       ..\n",
       "4088   -1\n",
       "4089   -1\n",
       "4090    1\n",
       "4091   -1\n",
       "4092   -1\n",
       "Name: result, Length: 4093, dtype: int64"
      ]
     },
     "execution_count": 21,
     "metadata": {},
     "output_type": "execute_result"
    }
   ],
   "source": [
    "Y = df['result']\n",
    "Y"
   ]
  },
  {
   "cell_type": "code",
   "execution_count": 22,
   "metadata": {},
   "outputs": [],
   "source": [
    "Xtrain, Xtest, Ytrain, Ytest = train_test_split(X, Y, test_size = 0.3, random_state = 43)"
   ]
  },
  {
   "cell_type": "code",
   "execution_count": 23,
   "metadata": {},
   "outputs": [],
   "source": [
    "classifier = DecisionTreeClassifier()"
   ]
  },
  {
   "cell_type": "code",
   "execution_count": 24,
   "metadata": {},
   "outputs": [
    {
     "data": {
      "text/plain": [
       "DecisionTreeClassifier(ccp_alpha=0.0, class_weight=None, criterion='gini',\n",
       "                       max_depth=None, max_features=None, max_leaf_nodes=None,\n",
       "                       min_impurity_decrease=0.0, min_impurity_split=None,\n",
       "                       min_samples_leaf=1, min_samples_split=2,\n",
       "                       min_weight_fraction_leaf=0.0, presort='deprecated',\n",
       "                       random_state=None, splitter='best')"
      ]
     },
     "execution_count": 24,
     "metadata": {},
     "output_type": "execute_result"
    }
   ],
   "source": [
    "classifier.fit(Xtrain, Ytrain)"
   ]
  },
  {
   "cell_type": "code",
   "execution_count": 25,
   "metadata": {},
   "outputs": [],
   "source": [
    "Ypred = classifier.predict(Xtest)"
   ]
  },
  {
   "cell_type": "code",
   "execution_count": 26,
   "metadata": {},
   "outputs": [
    {
     "data": {
      "text/plain": [
       "0.9820846905537459"
      ]
     },
     "execution_count": 26,
     "metadata": {},
     "output_type": "execute_result"
    }
   ],
   "source": [
    "metrics.accuracy_score(Ytest, Ypred)"
   ]
  },
  {
   "cell_type": "markdown",
   "metadata": {},
   "source": [
    "# Dataframe arreglado"
   ]
  },
  {
   "cell_type": "code",
   "execution_count": 2,
   "metadata": {},
   "outputs": [],
   "source": [
    "fixed_df = pd.read_csv(\"team_df.csv\")"
   ]
  },
  {
   "cell_type": "code",
   "execution_count": 4,
   "metadata": {},
   "outputs": [],
   "source": [
    "cols = fixed_df.columns\n",
    "X = copy.copy(fixed_df)"
   ]
  },
  {
   "cell_type": "code",
   "execution_count": 5,
   "metadata": {},
   "outputs": [],
   "source": [
    "X.drop(['gameid', 'result'], axis = 1, inplace = True)"
   ]
  },
  {
   "cell_type": "code",
   "execution_count": 6,
   "metadata": {},
   "outputs": [],
   "source": [
    "Y = fixed_df['result']"
   ]
  },
  {
   "cell_type": "code",
   "execution_count": 7,
   "metadata": {},
   "outputs": [],
   "source": [
    "Xtrain, Xtest, Ytrain, Ytest = train_test_split(X, Y, test_size = 0.3, random_state = 43)"
   ]
  },
  {
   "cell_type": "code",
   "execution_count": 8,
   "metadata": {},
   "outputs": [],
   "source": [
    "classifier = DecisionTreeClassifier()"
   ]
  },
  {
   "cell_type": "code",
   "execution_count": 9,
   "metadata": {},
   "outputs": [
    {
     "data": {
      "text/plain": [
       "DecisionTreeClassifier(ccp_alpha=0.0, class_weight=None, criterion='gini',\n",
       "                       max_depth=None, max_features=None, max_leaf_nodes=None,\n",
       "                       min_impurity_decrease=0.0, min_impurity_split=None,\n",
       "                       min_samples_leaf=1, min_samples_split=2,\n",
       "                       min_weight_fraction_leaf=0.0, presort='deprecated',\n",
       "                       random_state=None, splitter='best')"
      ]
     },
     "execution_count": 9,
     "metadata": {},
     "output_type": "execute_result"
    }
   ],
   "source": [
    "classifier.fit(Xtrain, Ytrain)"
   ]
  },
  {
   "cell_type": "code",
   "execution_count": 10,
   "metadata": {},
   "outputs": [],
   "source": [
    "Ypred = classifier.predict(Xtest)"
   ]
  },
  {
   "cell_type": "code",
   "execution_count": 11,
   "metadata": {},
   "outputs": [
    {
     "data": {
      "text/plain": [
       "0.9812703583061889"
      ]
     },
     "execution_count": 11,
     "metadata": {},
     "output_type": "execute_result"
    }
   ],
   "source": [
    "metrics.accuracy_score(Ytest, Ypred)"
   ]
  },
  {
   "cell_type": "code",
   "execution_count": 14,
   "metadata": {
    "collapsed": true,
    "jupyter": {
     "outputs_hidden": true
    }
   },
   "outputs": [
    {
     "data": {
      "text/plain": [
       "array([0.00000000e+00, 0.00000000e+00, 0.00000000e+00, 2.81215216e-03,\n",
       "       0.00000000e+00, 0.00000000e+00, 0.00000000e+00, 0.00000000e+00,\n",
       "       0.00000000e+00, 4.15935341e-03, 0.00000000e+00, 0.00000000e+00,\n",
       "       0.00000000e+00, 0.00000000e+00, 0.00000000e+00, 0.00000000e+00,\n",
       "       0.00000000e+00, 0.00000000e+00, 0.00000000e+00, 0.00000000e+00,\n",
       "       0.00000000e+00, 0.00000000e+00, 0.00000000e+00, 0.00000000e+00,\n",
       "       0.00000000e+00, 0.00000000e+00, 0.00000000e+00, 0.00000000e+00,\n",
       "       0.00000000e+00, 4.36135921e-02, 8.84004398e-01, 0.00000000e+00,\n",
       "       0.00000000e+00, 2.47144516e-02, 0.00000000e+00, 0.00000000e+00,\n",
       "       0.00000000e+00, 0.00000000e+00, 0.00000000e+00, 0.00000000e+00,\n",
       "       0.00000000e+00, 0.00000000e+00, 0.00000000e+00, 2.10208374e-03,\n",
       "       0.00000000e+00, 0.00000000e+00, 0.00000000e+00, 0.00000000e+00,\n",
       "       1.55371407e-03, 2.10208374e-03, 0.00000000e+00, 1.37391094e-03,\n",
       "       0.00000000e+00, 0.00000000e+00, 8.04229023e-03, 0.00000000e+00,\n",
       "       0.00000000e+00, 0.00000000e+00, 0.00000000e+00, 0.00000000e+00,\n",
       "       0.00000000e+00, 0.00000000e+00, 0.00000000e+00, 9.34259440e-04,\n",
       "       1.39468068e-03, 0.00000000e+00, 0.00000000e+00, 0.00000000e+00,\n",
       "       0.00000000e+00, 0.00000000e+00, 0.00000000e+00, 0.00000000e+00,\n",
       "       0.00000000e+00, 0.00000000e+00, 5.01569088e-03, 7.00694580e-04,\n",
       "       2.78364156e-03, 0.00000000e+00, 0.00000000e+00, 0.00000000e+00,\n",
       "       0.00000000e+00, 0.00000000e+00, 4.65998656e-04, 4.64248185e-04,\n",
       "       0.00000000e+00, 0.00000000e+00, 0.00000000e+00, 0.00000000e+00,\n",
       "       0.00000000e+00, 0.00000000e+00, 9.34259440e-04, 0.00000000e+00,\n",
       "       0.00000000e+00, 1.40042601e-03, 0.00000000e+00, 0.00000000e+00,\n",
       "       0.00000000e+00, 0.00000000e+00, 0.00000000e+00, 0.00000000e+00,\n",
       "       0.00000000e+00, 0.00000000e+00, 0.00000000e+00, 1.68166699e-03,\n",
       "       0.00000000e+00, 6.40968015e-03, 1.32106821e-03, 0.00000000e+00,\n",
       "       0.00000000e+00, 0.00000000e+00, 0.00000000e+00, 2.01565529e-03])"
      ]
     },
     "execution_count": 14,
     "metadata": {},
     "output_type": "execute_result"
    }
   ],
   "source": [
    "#classifier.feature_importances_"
   ]
  },
  {
   "cell_type": "code",
   "execution_count": 15,
   "metadata": {},
   "outputs": [],
   "source": [
    "importance = classifier.feature_importances_"
   ]
  },
  {
   "cell_type": "code",
   "execution_count": 18,
   "metadata": {},
   "outputs": [
    {
     "name": "stdout",
     "output_type": "stream",
     "text": [
      "[3, 9, 29, 30, 33, 43, 48, 49, 51, 54, 63, 64, 74, 75, 76, 82, 83, 90, 93, 103, 105, 106, 111]\n"
     ]
    }
   ],
   "source": [
    "indexes = []\n",
    "values = []\n",
    "for i in range(len(importance)):\n",
    "    if importance[i] > 0.00:\n",
    "        indexes.append(i)\n",
    "        values.append(importance[i])\n",
    "        \n",
    "print(indexes)"
   ]
  },
  {
   "cell_type": "code",
   "execution_count": 19,
   "metadata": {},
   "outputs": [
    {
     "name": "stdout",
     "output_type": "stream",
     "text": [
      "3 kills 0.002812152161807213\n",
      "9 pentakills 0.004159353411182322\n",
      "29 opp_barons 0.04361359210627782\n",
      "30 firsttower 0.8840043979305351\n",
      "33 firstmidtower 0.02471445159245468\n",
      "43 wardskilled 0.0021020837409508907\n",
      "48 totalgold 0.0015537140693984831\n",
      "49 earnedgold 0.0021020837409508907\n",
      "51 goldspent 0.0013739109417979694\n",
      "54 monsterkills 0.008042290234323592\n",
      "63 opp_csat10 0.0009342594404226179\n",
      "64 golddiffat10 0.0013946806832731934\n",
      "74 xpdiffat15 0.005015690878190447\n",
      "75 csdiffat15 0.0007006945803169635\n",
      "76 opp_kills 0.0027836415551315335\n",
      "82 opp_pentakills 0.0004659986555134618\n",
      "83 opp_firstblood 0.0004642481852183914\n",
      "90 opp_firstbaron 0.0009342594404226179\n",
      "93 opp_firsttothreetowers 0.0014004260065715963\n",
      "103 opp_visionscore 0.0016816669927607122\n",
      "105 opp_totalgold 0.0064096801525876075\n",
      "106 opp_earnedgold 0.0013210682132672766\n",
      "111 opp_monsterkillsownjungle 0.002015655286644587\n"
     ]
    }
   ],
   "source": [
    "j = 0\n",
    "for i in indexes:\n",
    "    print(i, cols[i], values[j])\n",
    "    j += 1"
   ]
  },
  {
   "cell_type": "markdown",
   "metadata": {},
   "source": [
    "Dataframe completo"
   ]
  },
  {
   "cell_type": "code",
   "execution_count": 20,
   "metadata": {},
   "outputs": [],
   "source": [
    "df_complete = pd.read_csv('complete_df.csv')"
   ]
  },
  {
   "cell_type": "code",
   "execution_count": 21,
   "metadata": {},
   "outputs": [],
   "source": [
    "cols = df_complete.columns\n",
    "X = copy.copy(df_complete)"
   ]
  },
  {
   "cell_type": "code",
   "execution_count": 22,
   "metadata": {},
   "outputs": [],
   "source": [
    "X.drop(['gameid', 'result'], axis = 1, inplace = True)"
   ]
  },
  {
   "cell_type": "code",
   "execution_count": 23,
   "metadata": {},
   "outputs": [],
   "source": [
    "Y = df_complete['result']"
   ]
  },
  {
   "cell_type": "code",
   "execution_count": 24,
   "metadata": {},
   "outputs": [],
   "source": [
    "Xtrain, Xtest, Ytrain, Ytest = train_test_split(X, Y, test_size = 0.3, random_state = 43)"
   ]
  },
  {
   "cell_type": "code",
   "execution_count": 26,
   "metadata": {},
   "outputs": [],
   "source": [
    "classifier2 = DecisionTreeClassifier()"
   ]
  },
  {
   "cell_type": "code",
   "execution_count": 27,
   "metadata": {},
   "outputs": [
    {
     "data": {
      "text/plain": [
       "DecisionTreeClassifier(ccp_alpha=0.0, class_weight=None, criterion='gini',\n",
       "                       max_depth=None, max_features=None, max_leaf_nodes=None,\n",
       "                       min_impurity_decrease=0.0, min_impurity_split=None,\n",
       "                       min_samples_leaf=1, min_samples_split=2,\n",
       "                       min_weight_fraction_leaf=0.0, presort='deprecated',\n",
       "                       random_state=None, splitter='best')"
      ]
     },
     "execution_count": 27,
     "metadata": {},
     "output_type": "execute_result"
    }
   ],
   "source": [
    "classifier2.fit(Xtrain, Ytrain)"
   ]
  },
  {
   "cell_type": "code",
   "execution_count": 29,
   "metadata": {},
   "outputs": [],
   "source": [
    "Ypred = classifier2.predict(Xtest)"
   ]
  },
  {
   "cell_type": "code",
   "execution_count": 30,
   "metadata": {},
   "outputs": [
    {
     "data": {
      "text/plain": [
       "0.9796416938110749"
      ]
     },
     "execution_count": 30,
     "metadata": {},
     "output_type": "execute_result"
    }
   ],
   "source": [
    "metrics.accuracy_score(Ytest, Ypred)"
   ]
  },
  {
   "cell_type": "code",
   "execution_count": 31,
   "metadata": {
    "collapsed": true,
    "jupyter": {
     "outputs_hidden": true
    }
   },
   "outputs": [
    {
     "data": {
      "text/plain": [
       "array([0.00000000e+00, 0.00000000e+00, 0.00000000e+00, 0.00000000e+00,\n",
       "       0.00000000e+00, 0.00000000e+00, 0.00000000e+00, 0.00000000e+00,\n",
       "       0.00000000e+00, 0.00000000e+00, 0.00000000e+00, 0.00000000e+00,\n",
       "       0.00000000e+00, 0.00000000e+00, 1.05104187e-03, 0.00000000e+00,\n",
       "       0.00000000e+00, 0.00000000e+00, 0.00000000e+00, 0.00000000e+00,\n",
       "       0.00000000e+00, 0.00000000e+00, 0.00000000e+00, 0.00000000e+00,\n",
       "       0.00000000e+00, 0.00000000e+00, 0.00000000e+00, 0.00000000e+00,\n",
       "       0.00000000e+00, 4.36135921e-02, 8.82643048e-01, 0.00000000e+00,\n",
       "       0.00000000e+00, 2.47144516e-02, 0.00000000e+00, 0.00000000e+00,\n",
       "       0.00000000e+00, 0.00000000e+00, 0.00000000e+00, 0.00000000e+00,\n",
       "       0.00000000e+00, 0.00000000e+00, 0.00000000e+00, 0.00000000e+00,\n",
       "       0.00000000e+00, 0.00000000e+00, 0.00000000e+00, 0.00000000e+00,\n",
       "       0.00000000e+00, 0.00000000e+00, 0.00000000e+00, 0.00000000e+00,\n",
       "       0.00000000e+00, 0.00000000e+00, 6.44705038e-03, 0.00000000e+00,\n",
       "       0.00000000e+00, 0.00000000e+00, 0.00000000e+00, 0.00000000e+00,\n",
       "       0.00000000e+00, 0.00000000e+00, 0.00000000e+00, 0.00000000e+00,\n",
       "       0.00000000e+00, 0.00000000e+00, 0.00000000e+00, 0.00000000e+00,\n",
       "       0.00000000e+00, 0.00000000e+00, 0.00000000e+00, 0.00000000e+00,\n",
       "       0.00000000e+00, 0.00000000e+00, 0.00000000e+00, 0.00000000e+00,\n",
       "       2.78364156e-03, 0.00000000e+00, 0.00000000e+00, 0.00000000e+00,\n",
       "       0.00000000e+00, 0.00000000e+00, 4.65998656e-04, 4.64248185e-04,\n",
       "       0.00000000e+00, 0.00000000e+00, 0.00000000e+00, 0.00000000e+00,\n",
       "       0.00000000e+00, 0.00000000e+00, 0.00000000e+00, 0.00000000e+00,\n",
       "       0.00000000e+00, 0.00000000e+00, 0.00000000e+00, 0.00000000e+00,\n",
       "       0.00000000e+00, 0.00000000e+00, 0.00000000e+00, 0.00000000e+00,\n",
       "       0.00000000e+00, 0.00000000e+00, 0.00000000e+00, 0.00000000e+00,\n",
       "       0.00000000e+00, 6.40968015e-03, 0.00000000e+00, 0.00000000e+00,\n",
       "       0.00000000e+00, 0.00000000e+00, 0.00000000e+00, 0.00000000e+00,\n",
       "       0.00000000e+00, 0.00000000e+00, 0.00000000e+00, 0.00000000e+00,\n",
       "       0.00000000e+00, 0.00000000e+00, 0.00000000e+00, 0.00000000e+00,\n",
       "       0.00000000e+00, 0.00000000e+00, 0.00000000e+00, 0.00000000e+00,\n",
       "       0.00000000e+00, 0.00000000e+00, 0.00000000e+00, 2.29318226e-03,\n",
       "       0.00000000e+00, 0.00000000e+00, 0.00000000e+00, 0.00000000e+00,\n",
       "       4.36586623e-03, 0.00000000e+00, 0.00000000e+00, 0.00000000e+00,\n",
       "       0.00000000e+00, 5.80945752e-03, 0.00000000e+00, 0.00000000e+00,\n",
       "       0.00000000e+00, 0.00000000e+00, 0.00000000e+00, 0.00000000e+00,\n",
       "       0.00000000e+00, 0.00000000e+00, 0.00000000e+00, 0.00000000e+00,\n",
       "       0.00000000e+00, 0.00000000e+00, 0.00000000e+00, 0.00000000e+00,\n",
       "       0.00000000e+00, 0.00000000e+00, 0.00000000e+00, 0.00000000e+00,\n",
       "       0.00000000e+00, 0.00000000e+00, 0.00000000e+00, 0.00000000e+00,\n",
       "       0.00000000e+00, 0.00000000e+00, 0.00000000e+00, 0.00000000e+00,\n",
       "       0.00000000e+00, 0.00000000e+00, 0.00000000e+00, 0.00000000e+00,\n",
       "       0.00000000e+00, 0.00000000e+00, 0.00000000e+00, 0.00000000e+00,\n",
       "       0.00000000e+00, 0.00000000e+00, 0.00000000e+00, 0.00000000e+00,\n",
       "       0.00000000e+00, 0.00000000e+00, 0.00000000e+00, 0.00000000e+00,\n",
       "       0.00000000e+00, 0.00000000e+00, 0.00000000e+00, 0.00000000e+00,\n",
       "       0.00000000e+00, 0.00000000e+00, 0.00000000e+00, 0.00000000e+00,\n",
       "       0.00000000e+00, 0.00000000e+00, 0.00000000e+00, 0.00000000e+00,\n",
       "       0.00000000e+00, 0.00000000e+00, 0.00000000e+00, 0.00000000e+00,\n",
       "       0.00000000e+00, 0.00000000e+00, 0.00000000e+00, 0.00000000e+00,\n",
       "       0.00000000e+00, 0.00000000e+00, 0.00000000e+00, 0.00000000e+00,\n",
       "       0.00000000e+00, 0.00000000e+00, 0.00000000e+00, 3.49384136e-04,\n",
       "       0.00000000e+00, 0.00000000e+00, 0.00000000e+00, 0.00000000e+00,\n",
       "       0.00000000e+00, 0.00000000e+00, 0.00000000e+00, 0.00000000e+00,\n",
       "       0.00000000e+00, 0.00000000e+00, 0.00000000e+00, 0.00000000e+00,\n",
       "       0.00000000e+00, 0.00000000e+00, 0.00000000e+00, 0.00000000e+00,\n",
       "       0.00000000e+00, 0.00000000e+00, 0.00000000e+00, 0.00000000e+00,\n",
       "       0.00000000e+00, 0.00000000e+00, 1.05104187e-03, 0.00000000e+00,\n",
       "       0.00000000e+00, 0.00000000e+00, 0.00000000e+00, 0.00000000e+00,\n",
       "       9.34259440e-04, 0.00000000e+00, 0.00000000e+00, 0.00000000e+00,\n",
       "       0.00000000e+00, 0.00000000e+00, 0.00000000e+00, 0.00000000e+00,\n",
       "       0.00000000e+00, 0.00000000e+00, 0.00000000e+00, 0.00000000e+00,\n",
       "       0.00000000e+00, 0.00000000e+00, 0.00000000e+00, 0.00000000e+00,\n",
       "       0.00000000e+00, 0.00000000e+00, 0.00000000e+00, 0.00000000e+00,\n",
       "       0.00000000e+00, 0.00000000e+00, 0.00000000e+00, 0.00000000e+00,\n",
       "       0.00000000e+00, 0.00000000e+00, 0.00000000e+00, 0.00000000e+00,\n",
       "       0.00000000e+00, 0.00000000e+00, 0.00000000e+00, 0.00000000e+00,\n",
       "       0.00000000e+00, 0.00000000e+00, 0.00000000e+00, 0.00000000e+00,\n",
       "       0.00000000e+00, 0.00000000e+00, 0.00000000e+00, 0.00000000e+00,\n",
       "       0.00000000e+00, 0.00000000e+00, 0.00000000e+00, 0.00000000e+00,\n",
       "       0.00000000e+00, 0.00000000e+00, 0.00000000e+00, 0.00000000e+00,\n",
       "       0.00000000e+00, 0.00000000e+00, 0.00000000e+00, 0.00000000e+00,\n",
       "       0.00000000e+00, 0.00000000e+00, 0.00000000e+00, 0.00000000e+00,\n",
       "       0.00000000e+00, 0.00000000e+00, 0.00000000e+00, 0.00000000e+00,\n",
       "       0.00000000e+00, 0.00000000e+00, 0.00000000e+00, 0.00000000e+00,\n",
       "       0.00000000e+00, 0.00000000e+00, 0.00000000e+00, 0.00000000e+00,\n",
       "       0.00000000e+00, 0.00000000e+00, 0.00000000e+00, 0.00000000e+00,\n",
       "       0.00000000e+00, 0.00000000e+00, 0.00000000e+00, 0.00000000e+00,\n",
       "       0.00000000e+00, 0.00000000e+00, 0.00000000e+00, 0.00000000e+00,\n",
       "       0.00000000e+00, 0.00000000e+00, 0.00000000e+00, 0.00000000e+00,\n",
       "       0.00000000e+00, 0.00000000e+00, 0.00000000e+00, 0.00000000e+00,\n",
       "       0.00000000e+00, 3.50347290e-03, 0.00000000e+00, 0.00000000e+00,\n",
       "       0.00000000e+00, 0.00000000e+00, 0.00000000e+00, 0.00000000e+00,\n",
       "       0.00000000e+00, 0.00000000e+00, 0.00000000e+00, 0.00000000e+00,\n",
       "       0.00000000e+00, 0.00000000e+00, 0.00000000e+00, 0.00000000e+00,\n",
       "       0.00000000e+00, 0.00000000e+00, 0.00000000e+00, 0.00000000e+00,\n",
       "       0.00000000e+00, 2.62760468e-03, 0.00000000e+00, 0.00000000e+00,\n",
       "       0.00000000e+00, 0.00000000e+00, 0.00000000e+00, 0.00000000e+00,\n",
       "       0.00000000e+00, 0.00000000e+00, 0.00000000e+00, 0.00000000e+00,\n",
       "       0.00000000e+00, 0.00000000e+00, 0.00000000e+00, 0.00000000e+00,\n",
       "       0.00000000e+00, 0.00000000e+00, 0.00000000e+00, 0.00000000e+00,\n",
       "       0.00000000e+00, 0.00000000e+00, 0.00000000e+00, 0.00000000e+00,\n",
       "       0.00000000e+00, 0.00000000e+00, 0.00000000e+00, 0.00000000e+00,\n",
       "       0.00000000e+00, 0.00000000e+00, 0.00000000e+00, 0.00000000e+00,\n",
       "       9.34259440e-04, 0.00000000e+00, 0.00000000e+00, 0.00000000e+00,\n",
       "       0.00000000e+00, 0.00000000e+00, 2.64424646e-03, 0.00000000e+00,\n",
       "       0.00000000e+00, 0.00000000e+00, 0.00000000e+00, 0.00000000e+00,\n",
       "       0.00000000e+00, 0.00000000e+00, 7.00694580e-04, 0.00000000e+00,\n",
       "       1.39468068e-03, 0.00000000e+00, 0.00000000e+00, 0.00000000e+00,\n",
       "       0.00000000e+00, 0.00000000e+00, 0.00000000e+00, 0.00000000e+00,\n",
       "       0.00000000e+00, 0.00000000e+00, 0.00000000e+00, 0.00000000e+00,\n",
       "       0.00000000e+00, 0.00000000e+00, 0.00000000e+00, 0.00000000e+00,\n",
       "       0.00000000e+00, 0.00000000e+00, 1.76275366e-03, 0.00000000e+00,\n",
       "       0.00000000e+00, 2.10208374e-03, 0.00000000e+00, 0.00000000e+00,\n",
       "       0.00000000e+00, 0.00000000e+00, 9.34259440e-04, 0.00000000e+00,\n",
       "       0.00000000e+00, 0.00000000e+00, 0.00000000e+00, 0.00000000e+00,\n",
       "       0.00000000e+00, 0.00000000e+00, 0.00000000e+00, 0.00000000e+00,\n",
       "       0.00000000e+00, 0.00000000e+00, 0.00000000e+00, 0.00000000e+00,\n",
       "       0.00000000e+00, 0.00000000e+00, 0.00000000e+00, 0.00000000e+00,\n",
       "       0.00000000e+00, 0.00000000e+00, 0.00000000e+00, 0.00000000e+00,\n",
       "       0.00000000e+00, 0.00000000e+00, 0.00000000e+00, 0.00000000e+00,\n",
       "       0.00000000e+00, 0.00000000e+00, 0.00000000e+00, 0.00000000e+00,\n",
       "       0.00000000e+00, 0.00000000e+00, 0.00000000e+00, 0.00000000e+00,\n",
       "       0.00000000e+00, 0.00000000e+00, 0.00000000e+00, 0.00000000e+00,\n",
       "       0.00000000e+00, 0.00000000e+00, 0.00000000e+00, 0.00000000e+00,\n",
       "       0.00000000e+00, 0.00000000e+00, 0.00000000e+00, 0.00000000e+00,\n",
       "       0.00000000e+00, 0.00000000e+00, 0.00000000e+00, 0.00000000e+00,\n",
       "       0.00000000e+00, 0.00000000e+00, 0.00000000e+00, 0.00000000e+00,\n",
       "       0.00000000e+00, 0.00000000e+00, 0.00000000e+00, 0.00000000e+00,\n",
       "       0.00000000e+00, 0.00000000e+00, 0.00000000e+00, 0.00000000e+00,\n",
       "       0.00000000e+00, 0.00000000e+00, 0.00000000e+00, 0.00000000e+00,\n",
       "       0.00000000e+00, 0.00000000e+00, 0.00000000e+00, 0.00000000e+00,\n",
       "       0.00000000e+00, 0.00000000e+00, 0.00000000e+00, 0.00000000e+00,\n",
       "       0.00000000e+00, 0.00000000e+00, 0.00000000e+00, 0.00000000e+00,\n",
       "       0.00000000e+00, 0.00000000e+00, 0.00000000e+00, 0.00000000e+00,\n",
       "       0.00000000e+00, 0.00000000e+00, 0.00000000e+00, 0.00000000e+00,\n",
       "       0.00000000e+00, 0.00000000e+00, 0.00000000e+00, 0.00000000e+00,\n",
       "       0.00000000e+00, 0.00000000e+00, 0.00000000e+00, 0.00000000e+00,\n",
       "       0.00000000e+00, 0.00000000e+00, 0.00000000e+00, 0.00000000e+00,\n",
       "       0.00000000e+00, 0.00000000e+00, 0.00000000e+00, 0.00000000e+00,\n",
       "       0.00000000e+00, 0.00000000e+00, 0.00000000e+00, 0.00000000e+00,\n",
       "       0.00000000e+00, 0.00000000e+00, 0.00000000e+00, 0.00000000e+00,\n",
       "       0.00000000e+00, 0.00000000e+00, 0.00000000e+00, 0.00000000e+00,\n",
       "       0.00000000e+00, 0.00000000e+00, 0.00000000e+00, 0.00000000e+00,\n",
       "       0.00000000e+00, 0.00000000e+00, 0.00000000e+00, 0.00000000e+00,\n",
       "       0.00000000e+00, 0.00000000e+00])"
      ]
     },
     "execution_count": 31,
     "metadata": {},
     "output_type": "execute_result"
    }
   ],
   "source": [
    "classifier2.feature_importances_"
   ]
  },
  {
   "cell_type": "code",
   "execution_count": 32,
   "metadata": {},
   "outputs": [],
   "source": [
    "importance2 = classifier2.feature_importances_"
   ]
  },
  {
   "cell_type": "code",
   "execution_count": 33,
   "metadata": {},
   "outputs": [],
   "source": [
    "indexes = []\n",
    "values = []\n",
    "for i in range(len(importance2)):\n",
    "    if importance2[i] > 0.00:\n",
    "        indexes.append(i)\n",
    "        values.append(importance2[i])\n",
    "        \n",
    "#print(indexes)"
   ]
  },
  {
   "cell_type": "code",
   "execution_count": 34,
   "metadata": {},
   "outputs": [
    {
     "name": "stdout",
     "output_type": "stream",
     "text": [
      "14 dragons 0.0010510418704754454\n",
      "29 opp_barons 0.04361359210627782\n",
      "30 firsttower 0.882643048460205\n",
      "33 firstmidtower 0.02471445159245468\n",
      "54 monsterkills 0.006447050377950408\n",
      "76 opp_kills 0.0027836415551315335\n",
      "82 opp_pentakills 0.0004659986555134618\n",
      "83 opp_firstblood 0.0004642481852183914\n",
      "105 opp_totalgold 0.0064096801525876075\n",
      "127 blue_bot_deaths 0.0022931822628555172\n",
      "132 red_bot_deaths 0.004365866231205696\n",
      "137 blue_bot_assists 0.005809457516397996\n",
      "207 blue_bot_dpm 0.0003493841360961512\n",
      "230 red_jng_damagetakenperminute 0.0010510418704754454\n",
      "236 blue_mid_damagemitigatedperminute 0.0009342594404226179\n",
      "325 blue_jng_earnedgold 0.0035034729015848173\n",
      "345 blue_jng_earnedgoldshare 0.0026276046761886133\n",
      "376 blue_mid_minionkills 0.0009342594404226179\n",
      "382 red_bot_minionkills 0.0026442464623977324\n",
      "390 red_jng_monsterkills 0.0007006945803169635\n",
      "392 red_bot_monsterkills 0.0013946806832731934\n",
      "410 red_jng_monsterkillsenemyjungle 0.0017627536611747499\n",
      "413 red_sup_monsterkillsenemyjungle 0.0021020837409508907\n",
      "418 blue_sup_cspm 0.0009342594404226179\n"
     ]
    }
   ],
   "source": [
    "j = 0\n",
    "for i in indexes:\n",
    "    print(i, cols[i], values[j])\n",
    "    j += 1"
   ]
  },
  {
   "cell_type": "markdown",
   "metadata": {},
   "source": [
    "# Usando un ensemble"
   ]
  },
  {
   "cell_type": "code",
   "execution_count": 3,
   "metadata": {},
   "outputs": [],
   "source": [
    "df_teams = pd.read_csv('teams_df_final.csv')\n",
    "df = pd.read_csv('complete_df.csv')"
   ]
  },
  {
   "cell_type": "code",
   "execution_count": 4,
   "metadata": {},
   "outputs": [],
   "source": [
    "from sklearn.ensemble import ExtraTreesClassifier\n",
    "from sklearn.datasets import make_classification"
   ]
  },
  {
   "cell_type": "code",
   "execution_count": 6,
   "metadata": {},
   "outputs": [],
   "source": [
    "cols = df_teams.columns\n",
    "X = copy.copy(df_teams)"
   ]
  },
  {
   "cell_type": "code",
   "execution_count": 7,
   "metadata": {},
   "outputs": [],
   "source": [
    "X.drop(['gameid', 'result'], axis = 1, inplace = True)"
   ]
  },
  {
   "cell_type": "code",
   "execution_count": 9,
   "metadata": {},
   "outputs": [],
   "source": [
    "Y = df_teams['result']"
   ]
  },
  {
   "cell_type": "code",
   "execution_count": 10,
   "metadata": {},
   "outputs": [],
   "source": [
    "Xtrain, Xtest, Ytrain, Ytest = train_test_split(X, Y, test_size = 0.3, random_state = 43)"
   ]
  },
  {
   "cell_type": "code",
   "execution_count": 11,
   "metadata": {},
   "outputs": [],
   "source": [
    "clf = ExtraTreesClassifier(n_estimators = 100, random_state = 43)"
   ]
  },
  {
   "cell_type": "code",
   "execution_count": 12,
   "metadata": {},
   "outputs": [
    {
     "data": {
      "text/plain": [
       "ExtraTreesClassifier(bootstrap=False, ccp_alpha=0.0, class_weight=None,\n",
       "                     criterion='gini', max_depth=None, max_features='auto',\n",
       "                     max_leaf_nodes=None, max_samples=None,\n",
       "                     min_impurity_decrease=0.0, min_impurity_split=None,\n",
       "                     min_samples_leaf=1, min_samples_split=2,\n",
       "                     min_weight_fraction_leaf=0.0, n_estimators=100,\n",
       "                     n_jobs=None, oob_score=False, random_state=43, verbose=0,\n",
       "                     warm_start=False)"
      ]
     },
     "execution_count": 12,
     "metadata": {},
     "output_type": "execute_result"
    }
   ],
   "source": [
    "clf.fit(Xtrain, Ytrain)"
   ]
  },
  {
   "cell_type": "code",
   "execution_count": 13,
   "metadata": {},
   "outputs": [],
   "source": [
    "Ypred = clf.predict(Xtest)"
   ]
  },
  {
   "cell_type": "code",
   "execution_count": 14,
   "metadata": {},
   "outputs": [
    {
     "data": {
      "text/plain": [
       "0.9869706840390879"
      ]
     },
     "execution_count": 14,
     "metadata": {},
     "output_type": "execute_result"
    }
   ],
   "source": [
    "metrics.accuracy_score(Ytest, Ypred)"
   ]
  },
  {
   "cell_type": "code",
   "execution_count": 15,
   "metadata": {},
   "outputs": [],
   "source": [
    "importance3 = clf.feature_importances_"
   ]
  },
  {
   "cell_type": "code",
   "execution_count": 22,
   "metadata": {},
   "outputs": [],
   "source": [
    "indexes = []\n",
    "values = []\n",
    "for i in range(len(importance3)):\n",
    "    if importance3[i] > 0.00:\n",
    "        indexes.append(i)\n",
    "        values.append(importance3[i])\n",
    "        \n",
    "j = 0\n",
    "l = []\n",
    "for i in indexes:\n",
    "    #print(i, cols[i], values[j])\n",
    "    l.append([i, cols[i], values[j]])\n",
    "    j+= 1"
   ]
  },
  {
   "cell_type": "code",
   "execution_count": 23,
   "metadata": {},
   "outputs": [],
   "source": [
    "l.sort(key = lambda l : l[2])"
   ]
  },
  {
   "cell_type": "code",
   "execution_count": 28,
   "metadata": {
    "collapsed": true,
    "jupyter": {
     "outputs_hidden": true
    }
   },
   "outputs": [
    {
     "name": "stdout",
     "output_type": "stream",
     "text": [
      "[7, 'triplekills', 6.255031569748106e-05]\n",
      "[29, 'opp_barons', 0.09151523020090062]\n",
      "[30, 'firsttower', 0.07833709063716576]\n",
      "[34, 'firsttothreetowers', 0.07567334445026973]\n",
      "[33, 'firstmidtower', 0.0543619186538892]\n",
      "[25, 'heralds', 0.051744168413892566]\n",
      "[88, 'opp_oceans', 0.04942105938412081]\n",
      "[76, 'opp_kills', 0.044855930975827504]\n",
      "[105, 'opp_totalgold', 0.03878714664674009]\n",
      "[48, 'totalgold', 0.03664026521126539]\n",
      "[1, 'gamelength', 0.025564148305328275]\n",
      "[104, 'opp_vspm', 0.02359999393130134]\n",
      "[26, 'opp_heralds', 0.023096352965695656]\n",
      "[32, 'opp_towers', 0.02244487199320426]\n",
      "[82, 'opp_pentakills', 0.021866427608081298]\n",
      "[15, 'opp_dragons', 0.01902663426158276]\n",
      "[27, 'firstbaron', 0.018797883348370983]\n",
      "[77, 'opp_deaths', 0.017989219425886736]\n",
      "[13, 'firstdragon', 0.0170424022400253]\n",
      "[50, 'earned gpm', 0.016703284891451193]\n",
      "[12, 'ckpm', 0.016142092967190845]\n",
      "[2, 'result', 0.016031864490783896]\n",
      "[74, 'xpdiffat15', 0.016023479391506397]\n",
      "[75, 'csdiffat15', 0.013764920162322834]\n",
      "[14, 'dragons', 0.01346346234641076]\n",
      "[9, 'pentakills', 0.012667778904796156]\n",
      "[3, 'kills', 0.012520979257681211]\n",
      "[4, 'deaths', 0.012451080542636796]\n",
      "[103, 'opp_visionscore', 0.009414627404190823]\n",
      "[91, 'opp_firsttower', 0.007542218181423712]\n",
      "[31, 'towers', 0.007241896607305811]\n",
      "[47, 'vspm', 0.006889236460331339]\n",
      "[68, 'xpat15', 0.006588528637104465]\n",
      "[46, 'visionscore', 0.006147004194391716]\n",
      "[93, 'opp_firsttothreetowers', 0.005801308496608747]\n",
      "[71, 'opp_xpat15', 0.004700222531150291]\n",
      "[78, 'opp_assists', 0.004189524415147915]\n",
      "[90, 'opp_firstbaron', 0.003773548292816512]\n",
      "[5, 'assists', 0.0037421545246106914]\n",
      "[72, 'opp_csat15', 0.0037021274619516353]\n",
      "[108, 'opp_goldspent', 0.0031920826529349853]\n",
      "[49, 'earnedgold', 0.0030121915051342717]\n",
      "[110, 'opp_monsterkills', 0.002861954977961997]\n",
      "[92, 'opp_firstmidtower', 0.0025770149944880664]\n",
      "[36, 'opp_inhibitors', 0.0025658050337327115]\n",
      "[62, 'opp_xpat10', 0.002563833203629135]\n",
      "[35, 'inhibitors', 0.002266688182959124]\n",
      "[106, 'opp_earnedgold', 0.002255161558919381]\n",
      "[102, 'opp_controlwardsbought', 0.0022055620515387068]\n",
      "[20, 'clouds', 0.0021818238155990087]\n",
      "[21, 'oceans', 0.00202636528310914]\n",
      "[89, 'opp_firstherald', 0.0019686334811883205]\n",
      "[54, 'monsterkills', 0.0017960101208887758]\n",
      "[0, 'gameid', 0.0017060185229420689]\n",
      "[59, 'xpat10', 0.0016910780256267294]\n",
      "[24, 'firstherald', 0.0016350436960205306]\n",
      "[66, 'csdiffat10', 0.0016085367006397015]\n",
      "[23, 'opp_elders', 0.0015529332531079845]\n",
      "[55, 'monsterkillsownjungle', 0.0014837519733293038]\n",
      "[37, 'damagetochampions', 0.00142620492286023]\n",
      "[43, 'wardskilled', 0.0014105260529676345]\n",
      "[111, 'opp_monsterkillsownjungle', 0.001403342023552994]\n",
      "[94, 'opp_damagetochampions', 0.0013801087963388298]\n",
      "[44, 'wcpm', 0.001371026072529802]\n",
      "[28, 'barons', 0.0013267020065136595]\n",
      "[107, 'opp_earned_gpm', 0.0013130112891923484]\n",
      "[79, 'opp_doublekills', 0.0012555390162876736]\n",
      "[52, 'gspd', 0.001206281682283333]\n",
      "[10, 'firstblood', 0.0011836085010680712]\n",
      "[101, 'opp_wcpm', 0.0011818886632538044]\n",
      "[65, 'xpdiffat10', 0.0011677765304424082]\n",
      "[51, 'goldspent', 0.0011669148045764161]\n",
      "[45, 'controlwardsbought', 0.001123352896599782]\n",
      "[86, 'opp_mountains', 0.0010980535664801305]\n",
      "[53, 'minionkills', 0.0010962985117245548]\n",
      "[39, 'damagetakenperminute', 0.001067260864439261]\n",
      "[19, 'mountains', 0.001041541445091945]\n",
      "[16, 'elementaldrakes', 0.001020089262382194]\n",
      "[100, 'opp_wardskilled', 0.0009935933711931807]\n",
      "[96, 'opp_damagetakenperminute', 0.0009882825941292814]\n",
      "[6, 'doublekills', 0.0009722367825071637]\n",
      "[98, 'opp_wardsplaced', 0.0009327864982857991]\n",
      "[85, 'opp_infernals', 0.000913374701858278]\n",
      "[41, 'wardsplaced', 0.0009055127237179845]\n",
      "[95, 'opp_dpm', 0.0009011944267785077]\n",
      "[73, 'golddiffat15', 0.0008720379888143541]\n",
      "[17, 'opp_elementaldrakes', 0.0008646444489553652]\n",
      "[11, 'team kpm', 0.0008615022058215889]\n",
      "[63, 'opp_csat10', 0.0008597113290145021]\n",
      "[18, 'infernals', 0.0008259844455563889]\n",
      "[99, 'opp_wpm', 0.0008000100726044887]\n",
      "[109, 'opp_minionkills', 0.0007952231860164753]\n",
      "[70, 'opp_goldat15', 0.0007791299297964055]\n",
      "[83, 'opp_firstblood', 0.0007691293874560865]\n",
      "[58, 'goldat10', 0.0007658982398832785]\n",
      "[84, 'opp_team_kpm', 0.0007604540537415687]\n",
      "[61, 'opp_goldat10', 0.0007545555276806494]\n",
      "[60, 'csat10', 0.0007507290354468642]\n",
      "[56, 'monsterkillsenemyjungle', 0.0007395065843535931]\n",
      "[38, 'dpm', 0.0007285111274648655]\n",
      "[42, 'wpm', 0.0007214159879117277]\n",
      "[69, 'csat15', 0.0006953981715425565]\n",
      "[67, 'goldat15', 0.0006714863473054604]\n",
      "[57, 'cspm', 0.0006411436979985567]\n",
      "[40, 'damagemitigatedperminute', 0.0006299363062131673]\n",
      "[81, 'opp_quadrakills', 0.0006109404136394762]\n",
      "[97, 'opp_damagemitigatedperminute', 0.0006093074649165586]\n",
      "[22, 'elders', 0.0005634410752384125]\n",
      "[64, 'golddiffat10', 0.000547171348917484]\n",
      "[8, 'quadrakills', 0.0005182726335684351]\n",
      "[87, 'opp_clouds', 0.0004208813801961293]\n",
      "[80, 'opp_triplekills', 0.00011860143808087949]\n"
     ]
    }
   ],
   "source": [
    "for el in range(len(l)):\n",
    "    print(l[-el])"
   ]
  },
  {
   "cell_type": "markdown",
   "metadata": {},
   "source": [
    "# Extra trees con el dataframe completo"
   ]
  },
  {
   "cell_type": "code",
   "execution_count": 29,
   "metadata": {},
   "outputs": [],
   "source": [
    "cols = df.columns\n",
    "X = copy.copy(df)"
   ]
  },
  {
   "cell_type": "code",
   "execution_count": 30,
   "metadata": {},
   "outputs": [],
   "source": [
    "X.drop(['gameid', 'result'], axis = 1, inplace = True)\n",
    "Y = df_teams['result']"
   ]
  },
  {
   "cell_type": "code",
   "execution_count": 31,
   "metadata": {},
   "outputs": [],
   "source": [
    "Xtrain, Xtest, Ytrain, Ytest = train_test_split(X, Y, test_size = 0.3, random_state = 43)"
   ]
  },
  {
   "cell_type": "code",
   "execution_count": 32,
   "metadata": {},
   "outputs": [],
   "source": [
    "clf2 = ExtraTreesClassifier(n_estimators = 100, random_state = 43)"
   ]
  },
  {
   "cell_type": "code",
   "execution_count": 33,
   "metadata": {},
   "outputs": [
    {
     "data": {
      "text/plain": [
       "ExtraTreesClassifier(bootstrap=False, ccp_alpha=0.0, class_weight=None,\n",
       "                     criterion='gini', max_depth=None, max_features='auto',\n",
       "                     max_leaf_nodes=None, max_samples=None,\n",
       "                     min_impurity_decrease=0.0, min_impurity_split=None,\n",
       "                     min_samples_leaf=1, min_samples_split=2,\n",
       "                     min_weight_fraction_leaf=0.0, n_estimators=100,\n",
       "                     n_jobs=None, oob_score=False, random_state=43, verbose=0,\n",
       "                     warm_start=False)"
      ]
     },
     "execution_count": 33,
     "metadata": {},
     "output_type": "execute_result"
    }
   ],
   "source": [
    "clf2.fit(Xtrain, Ytrain)"
   ]
  },
  {
   "cell_type": "code",
   "execution_count": 35,
   "metadata": {},
   "outputs": [],
   "source": [
    "Ypred = clf2.predict(Xtest)"
   ]
  },
  {
   "cell_type": "code",
   "execution_count": 36,
   "metadata": {},
   "outputs": [
    {
     "data": {
      "text/plain": [
       "0.9820846905537459"
      ]
     },
     "execution_count": 36,
     "metadata": {},
     "output_type": "execute_result"
    }
   ],
   "source": [
    "metrics.accuracy_score(Ytest, Ypred)"
   ]
  },
  {
   "cell_type": "code",
   "execution_count": 41,
   "metadata": {},
   "outputs": [],
   "source": [
    "importance4 = clf2.feature_importances_"
   ]
  },
  {
   "cell_type": "code",
   "execution_count": 42,
   "metadata": {},
   "outputs": [],
   "source": [
    "indexes = []\n",
    "values = []\n",
    "for i in range(len(importance4)):\n",
    "    if importance4[i] > 0.00:\n",
    "        indexes.append(i)\n",
    "        values.append(importance4[i])\n",
    "        \n",
    "j = 0\n",
    "l = []\n",
    "for i in indexes:\n",
    "    #print(i, cols[i], values[j])\n",
    "    l.append([i, cols[i], values[j]])\n",
    "    j+= 1"
   ]
  },
  {
   "cell_type": "code",
   "execution_count": 43,
   "metadata": {},
   "outputs": [],
   "source": [
    "l.sort(key = lambda l : l[2])"
   ]
  },
  {
   "cell_type": "code",
   "execution_count": 44,
   "metadata": {
    "collapsed": true,
    "jupyter": {
     "outputs_hidden": true
    }
   },
   "outputs": [
    {
     "name": "stdout",
     "output_type": "stream",
     "text": [
      "[179, 'red_top_pentakills', 1.1072804333931743e-05]\n",
      "[30, 'firsttower', 0.07476534163983037]\n",
      "[29, 'opp_barons', 0.05781934270074014]\n",
      "[34, 'firsttothreetowers', 0.05219907094297596]\n",
      "[33, 'firstmidtower', 0.049316557410210404]\n",
      "[48, 'totalgold', 0.035974781831289306]\n",
      "[105, 'opp_totalgold', 0.03228212338616317]\n",
      "[27, 'firstbaron', 0.02612820439949028]\n",
      "[25, 'heralds', 0.0260760733798315]\n",
      "[74, 'xpdiffat15', 0.02071364813893308]\n",
      "[88, 'opp_oceans', 0.020440261196987986]\n",
      "[14, 'dragons', 0.017766366337580802]\n",
      "[141, 'red_mid_assists', 0.017511281979895835]\n",
      "[2, 'result', 0.014872508234517516]\n",
      "[15, 'opp_dragons', 0.014210429530206303]\n",
      "[91, 'opp_firsttower', 0.013675984845141638]\n",
      "[336, 'blue_mid_earned gpm', 0.013430048173966425]\n",
      "[26, 'opp_heralds', 0.013252794799647612]\n",
      "[340, 'red_jng_earned gpm', 0.012926146286916367]\n",
      "[75, 'csdiffat15', 0.011843564178835465]\n",
      "[13, 'firstdragon', 0.011541776901793087]\n",
      "[82, 'opp_pentakills', 0.011332947404071298]\n",
      "[32, 'opp_towers', 0.011241988913449113]\n",
      "[3, 'kills', 0.010480945462800963]\n",
      "[331, 'red_mid_earnedgold', 0.00917959761685487]\n",
      "[332, 'red_bot_earnedgold', 0.008806643511491855]\n",
      "[76, 'opp_kills', 0.008789657921557887]\n",
      "[134, 'blue_top_assists', 0.008675832734871157]\n",
      "[140, 'red_jng_assists', 0.008613727897806615]\n",
      "[334, 'blue_top_earned gpm', 0.00850938134486338]\n",
      "[9, 'pentakills', 0.008170460468673967]\n",
      "[138, 'blue_sup_assists', 0.008023059299586664]\n",
      "[136, 'blue_mid_assists', 0.007573637664483702]\n",
      "[47, 'vspm', 0.0074723881968912255]\n",
      "[125, 'blue_jng_deaths', 0.007173875612840348]\n",
      "[337, 'blue_bot_earned gpm', 0.007094896963509707]\n",
      "[139, 'red_top_assists', 0.006916887124335186]\n",
      "[123, 'red_sup_kills', 0.006347044415842703]\n",
      "[127, 'blue_bot_deaths', 0.006130815622691741]\n",
      "[135, 'blue_jng_assists', 0.005931423245490848]\n",
      "[120, 'red_jng_kills', 0.00579020396726262]\n",
      "[12, 'ckpm', 0.0055777366123983116]\n",
      "[132, 'red_bot_deaths', 0.005364132405175994]\n",
      "[28, 'barons', 0.005287910403770571]\n",
      "[341, 'red_mid_earned gpm', 0.005284856676675039]\n",
      "[1, 'gamelength', 0.005255107785673761]\n",
      "[333, 'red_sup_earnedgold', 0.005235027150496028]\n",
      "[4, 'deaths', 0.004984846628504907]\n",
      "[335, 'blue_jng_earned gpm', 0.004848215915553627]\n",
      "[103, 'opp_visionscore', 0.004747834230091792]\n",
      "[124, 'blue_top_deaths', 0.004717995202792134]\n",
      "[104, 'opp_vspm', 0.0047021581644452245]\n",
      "[137, 'blue_bot_assists', 0.0042394060406828376]\n",
      "[50, 'earned gpm', 0.004133801506880096]\n",
      "[77, 'opp_deaths', 0.00397561408658821]\n",
      "[126, 'blue_mid_deaths', 0.0038408987675402407]\n",
      "[119, 'red_top_kills', 0.0035797085752481807]\n",
      "[31, 'towers', 0.003571276372999673]\n",
      "[78, 'opp_assists', 0.0034586372205804112]\n",
      "[321, 'red_mid_totalgold', 0.0033652337636209478]\n",
      "[114, 'blue_top_kills', 0.0033557348248944613]\n",
      "[90, 'opp_firstbaron', 0.0033369830951231446]\n",
      "[327, 'blue_bot_earnedgold', 0.003317848417207071]\n",
      "[122, 'red_bot_kills', 0.0032600926107972683]\n",
      "[330, 'red_jng_earnedgold', 0.0031955427545321533]\n",
      "[89, 'opp_firstherald', 0.0031828847163551392]\n",
      "[339, 'red_top_earned gpm', 0.0031797997399680687]\n",
      "[117, 'blue_bot_kills', 0.003125193284039485]\n",
      "[326, 'blue_mid_earnedgold', 0.0029867229842481264]\n",
      "[133, 'red_sup_deaths', 0.002898021996502928]\n",
      "[319, 'red_top_totalgold', 0.002888743034355983]\n",
      "[145, 'blue_jng_doublekills', 0.0028879161704200135]\n",
      "[46, 'visionscore', 0.0024881358961411416]\n",
      "[110, 'opp_monsterkills', 0.0023866739877129953]\n",
      "[324, 'blue_top_earnedgold', 0.0022849777337407007]\n",
      "[338, 'blue_sup_earned gpm', 0.0022841420633860827]\n",
      "[130, 'red_jng_deaths', 0.0018497030589684762]\n",
      "[108, 'opp_goldspent', 0.0018249637728234751]\n",
      "[36, 'opp_inhibitors', 0.0018076152848289003]\n",
      "[313, 'red_sup_vspm', 0.0017535931635025595]\n",
      "[210, 'red_jng_dpm', 0.0017278697180916958]\n",
      "[329, 'red_top_earnedgold', 0.001726130349540032]\n",
      "[410, 'red_jng_monsterkillsenemyjungle', 0.0015689930583040147]\n",
      "[118, 'blue_sup_kills', 0.001538997827425688]\n",
      "[316, 'blue_mid_totalgold', 0.0015371298078735967]\n",
      "[21, 'oceans', 0.0015228216606940764]\n",
      "[142, 'red_bot_assists', 0.0015142017117917245]\n",
      "[328, 'blue_sup_earnedgold', 0.0015101929084751391]\n",
      "[314, 'blue_top_totalgold', 0.0015075522967761654]\n",
      "[92, 'opp_firstmidtower', 0.0014776911243867524]\n",
      "[323, 'red_sup_totalgold', 0.001434343498864854]\n",
      "[325, 'blue_jng_earnedgold', 0.0014334395184585026]\n",
      "[317, 'blue_bot_totalgold', 0.0013911982732780967]\n",
      "[115, 'blue_jng_kills', 0.0013730305254098945]\n",
      "[73, 'golddiffat15', 0.0013256876422120523]\n",
      "[49, 'earnedgold', 0.00132049715998103]\n",
      "[389, 'red_top_monsterkills', 0.0013106523323603112]\n",
      "[320, 'red_jng_totalgold', 0.001250310527293997]\n",
      "[128, 'blue_sup_deaths', 0.0012122830034320125]\n",
      "[23, 'opp_elders', 0.0011709456120090338]\n",
      "[101, 'opp_wcpm', 0.0010872181252845334]\n",
      "[69, 'csat15', 0.0010827528714205336]\n",
      "[5, 'assists', 0.001067480381018434]\n",
      "[93, 'opp_firsttothreetowers', 0.0010347759706882437]\n",
      "[160, 'red_jng_triplekills', 0.001017404512376173]\n",
      "[408, 'blue_sup_monsterkillsenemyjungle', 0.0010125814727320113]\n",
      "[405, 'blue_jng_monsterkillsenemyjungle', 0.0009518731367025128]\n",
      "[390, 'red_jng_monsterkills', 0.000948886527376977]\n",
      "[131, 'red_mid_deaths', 0.0009381316031999851]\n",
      "[144, 'blue_top_doublekills', 0.0009126742837737311]\n",
      "[315, 'blue_jng_totalgold', 0.000906361402736644]\n",
      "[312, 'red_bot_vspm', 0.0008889265353360648]\n",
      "[351, 'red_mid_earnedgoldshare', 0.0008873370825324856]\n",
      "[198, 'blue_sup_damagetochampions', 0.0008863882651153654]\n",
      "[54, 'monsterkills', 0.0008804562664805235]\n",
      "[519, 'red_top_golddiffat15', 0.0008686542732871118]\n",
      "[318, 'blue_sup_totalgold', 0.000852836963895861]\n",
      "[129, 'red_top_deaths', 0.0008515785956506182]\n",
      "[52, 'gspd', 0.0008500473677505083]\n",
      "[59, 'xpat10', 0.0008447983702861491]\n",
      "[71, 'opp_xpat15', 0.0008359284083520965]\n",
      "[94, 'opp_damagetochampions', 0.0008207968382719918]\n",
      "[297, 'blue_bot_visionscore', 0.0007865326514757498]\n",
      "[358, 'blue_sup_goldspent', 0.0007723963359165813]\n",
      "[205, 'blue_jng_dpm', 0.0007663027377090189]\n",
      "[79, 'opp_doublekills', 0.0007581686786045962]\n",
      "[352, 'red_bot_earnedgoldshare', 0.000737638390385384]\n",
      "[200, 'red_jng_damagetochampions', 0.0007352110667754111]\n",
      "[322, 'red_bot_totalgold', 0.0007346229123976462]\n",
      "[357, 'blue_bot_goldspent', 0.0007241540152423902]\n",
      "[150, 'red_jng_doublekills', 0.0007039460172114382]\n",
      "[147, 'blue_bot_doublekills', 0.0006841596463787824]\n",
      "[35, 'inhibitors', 0.0006777999720755945]\n",
      "[20, 'clouds', 0.000667062283940706]\n",
      "[368, 'blue_sup_total cs', 0.0006416740220834608]\n",
      "[37, 'damagetochampions', 0.0006312627787413323]\n",
      "[51, 'goldspent', 0.000626048769094335]\n",
      "[155, 'blue_jng_triplekills', 0.0006258862684831727]\n",
      "[384, 'blue_top_monsterkills', 0.0006214440979164975]\n",
      "[102, 'opp_controlwardsbought', 0.0006093439697055826]\n",
      "[11, 'team kpm', 0.0006056714317896915]\n",
      "[111, 'opp_monsterkillsownjungle', 0.0005999009253712168]\n",
      "[301, 'red_mid_visionscore', 0.0005939438324758825]\n",
      "[360, 'red_jng_goldspent', 0.0005717730389367347]\n",
      "[409, 'red_top_monsterkillsenemyjungle', 0.0005464684115993598]\n",
      "[204, 'blue_top_dpm', 0.000541225927346572]\n",
      "[342, 'red_bot_earned gpm', 0.0005390617788250042]\n",
      "[113, 'opp_cspm', 0.000532194146206173]\n",
      "[364, 'blue_top_total cs', 0.0005287086619364201]\n",
      "[159, 'red_top_triplekills', 0.00052741779614345]\n",
      "[224, 'blue_top_damagetakenperminute', 0.0005077233556827711]\n",
      "[68, 'xpat15', 0.0005039471020512333]\n",
      "[353, 'red_sup_earnedgoldshare', 0.0004999243374680896]\n",
      "[106, 'opp_earnedgold', 0.0004983860664572812]\n",
      "[84, 'opp_team_kpm', 0.00048457704065141917]\n",
      "[361, 'red_mid_goldspent', 0.0004840617129096125]\n",
      "[194, 'blue_top_damagetochampions', 0.0004796954468307819]\n",
      "[0, 'gameid', 0.00046479295796880054]\n",
      "[55, 'monsterkillsownjungle', 0.0004598210289543695]\n",
      "[207, 'blue_bot_dpm', 0.0004438680231812576]\n",
      "[16, 'elementaldrakes', 0.00044273529080248884]\n",
      "[382, 'red_bot_minionkills', 0.0004389995448226341]\n",
      "[112, 'opp_monsterkillsenemyjungle', 0.00043757209550726074]\n",
      "[307, 'blue_bot_vspm', 0.0004315484061728698]\n",
      "[240, 'red_jng_damagemitigatedperminute', 0.0004309463766221283]\n",
      "[53, 'minionkills', 0.0004224039967971907]\n",
      "[62, 'opp_xpat10', 0.00041892073009044186]\n",
      "[238, 'blue_sup_damagemitigatedperminute', 0.000416173916660083]\n",
      "[95, 'opp_dpm', 0.0004141037235730603]\n",
      "[490, 'red_jng_goldat15', 0.00041314368569084616]\n",
      "[404, 'blue_top_monsterkillsenemyjungle', 0.00041087271828348294]\n",
      "[298, 'blue_sup_visionscore', 0.0004096569761234059]\n",
      "[294, 'blue_top_visionscore', 0.00040789558402305157]\n",
      "[98, 'opp_wardsplaced', 0.0004026136853588308]\n",
      "[121, 'red_mid_kills', 0.0004024074139716846]\n",
      "[86, 'opp_mountains', 0.0004012008699512151]\n",
      "[355, 'blue_jng_goldspent', 0.0003996273676632263]\n",
      "[203, 'red_sup_damagetochampions', 0.0003995521213256291]\n",
      "[72, 'opp_csat15', 0.000395472617034089]\n",
      "[149, 'red_top_doublekills', 0.0003954338410246976]\n",
      "[308, 'blue_sup_vspm', 0.00039269977068130186]\n",
      "[388, 'blue_sup_monsterkills', 0.0003896603757982994]\n",
      "[415, 'blue_jng_cspm', 0.00038387847525083585]\n",
      "[284, 'blue_top_controlwardsbought', 0.0003799320680158885]\n",
      "[199, 'red_top_damagetochampions', 0.0003770284809795509]\n",
      "[192, 'red_bot_firstbloodkill', 0.0003757051169271175]\n",
      "[41, 'wardsplaced', 0.00037411231060356935]\n",
      "[531, 'red_mid_xpdiffat15', 0.00037215298516956143]\n",
      "[10, 'firstblood', 0.0003689291355833513]\n",
      "[228, 'blue_sup_damagetakenperminute', 0.00036519796366304004]\n",
      "[356, 'blue_mid_goldspent', 0.0003590185948933686]\n",
      "[528, 'blue_sup_xpdiffat15', 0.0003553214144113018]\n",
      "[265, 'blue_jng_wardskilled', 0.0003551859649633294]\n",
      "[96, 'opp_damagetakenperminute', 0.00035507024935245657]\n",
      "[359, 'red_top_goldspent', 0.00035419362801776224]\n",
      "[269, 'red_top_wardskilled', 0.0003512112271972924]\n",
      "[346, 'blue_mid_earnedgoldshare', 0.0003481636089177027]\n",
      "[100, 'opp_wardskilled', 0.00034779929203165166]\n",
      "[302, 'red_bot_visionscore', 0.00034558850788233333]\n",
      "[38, 'dpm', 0.0003447926132534501]\n",
      "[227, 'blue_bot_damagetakenperminute', 0.0003440186883527956]\n",
      "[414, 'blue_top_cspm', 0.0003412097623631999]\n",
      "[143, 'red_sup_assists', 0.0003407245419090849]\n",
      "[197, 'blue_bot_damagetochampions', 0.00033994900091048776]\n",
      "[354, 'blue_top_goldspent', 0.00033990684896860403]\n",
      "[523, 'red_sup_golddiffat15', 0.00033873411222615294]\n",
      "[489, 'red_top_goldat15', 0.00033774942874242484]\n",
      "[17, 'opp_elementaldrakes', 0.0003376509361883899]\n",
      "[65, 'xpdiffat10', 0.0003372913205285452]\n",
      "[344, 'blue_top_earnedgoldshare', 0.00033610812092504694]\n",
      "[525, 'blue_jng_xpdiffat15', 0.0003346026248849159]\n",
      "[236, 'blue_mid_damagemitigatedperminute', 0.0003343772337952129]\n",
      "[463, 'red_sup_golddiffat10', 0.0003336060452647317]\n",
      "[402, 'red_bot_monsterkillsownjungle', 0.0003275299428426981]\n",
      "[434, 'blue_top_xpat10', 0.0003264698676197291]\n",
      "[418, 'blue_sup_cspm', 0.0003240286274221066]\n",
      "[170, 'red_jng_quadrakills', 0.00032272424055869957]\n",
      "[350, 'red_jng_earnedgoldshare', 0.00032245232267935707]\n",
      "[225, 'blue_jng_damagetakenperminute', 0.00032229210051995793]\n",
      "[45, 'controlwardsbought', 0.00032139402307380043]\n",
      "[245, 'blue_jng_wardsplaced', 0.00032026951905334456]\n",
      "[255, 'blue_jng_wpm', 0.00031850816715929813]\n",
      "[427, 'blue_bot_goldat10', 0.00031842054873561704]\n",
      "[511, 'red_mid_csat15', 0.00031747182610131333]\n",
      "[56, 'monsterkillsenemyjungle', 0.00031710770481882625]\n",
      "[230, 'red_jng_damagetakenperminute', 0.0003165280180611852]\n",
      "[299, 'red_top_visionscore', 0.0003163294563228283]\n",
      "[373, 'red_sup_total cs', 0.00031374694139759573]\n",
      "[19, 'mountains', 0.00031328065871207033]\n",
      "[492, 'red_bot_goldat15', 0.000312561061202383]\n",
      "[365, 'blue_jng_total cs', 0.0003124787035664086]\n",
      "[295, 'blue_jng_visionscore', 0.00031026494975275646]\n",
      "[268, 'blue_sup_wardskilled', 0.0003066123435914602]\n",
      "[83, 'opp_firstblood', 0.0003046375179866113]\n",
      "[292, 'red_bot_controlwardsbought', 0.0003042363792216913]\n",
      "[473, 'red_sup_xpdiffat10', 0.0003039062239472965]\n",
      "[266, 'blue_mid_wardskilled', 0.0003037154091491999]\n",
      "[282, 'red_bot_wcpm', 0.0003018712533532371]\n",
      "[431, 'red_mid_goldat10', 0.00030089526830254714]\n",
      "[306, 'blue_mid_vspm', 0.00030074094772223757]\n",
      "[474, 'blue_top_csdiffat10', 0.0003006313054388556]\n",
      "[195, 'blue_jng_damagetochampions', 0.0002999100665371029]\n",
      "[498, 'blue_sup_xpat15', 0.0002987389889051053]\n",
      "[220, 'red_jng_damageshare', 0.00029735675117802395]\n",
      "[278, 'blue_sup_wcpm', 0.00029627249786427366]\n",
      "[349, 'red_top_earnedgoldshare', 0.0002932749309857268]\n",
      "[109, 'opp_minionkills', 0.0002930426719373315]\n",
      "[385, 'blue_jng_monsterkills', 0.0002919688533425741]\n",
      "[380, 'red_jng_minionkills', 0.000291846103697162]\n",
      "[461, 'red_mid_golddiffat10', 0.00029161385753094857]\n",
      "[417, 'blue_bot_cspm', 0.00029069655663590383]\n",
      "[462, 'red_bot_golddiffat10', 0.000289323394967071]\n",
      "[209, 'red_top_dpm', 0.0002892549183111368]\n",
      "[425, 'blue_jng_goldat10', 0.000289119250341038]\n",
      "[18, 'infernals', 0.00028830960482688936]\n",
      "[521, 'red_mid_golddiffat15', 0.0002881845724189784]\n",
      "[381, 'red_mid_minionkills', 0.0002876582290237552]\n",
      "[202, 'red_bot_damagetochampions', 0.0002870801861853036]\n",
      "[232, 'red_bot_damagetakenperminute', 0.00028700667041323217]\n",
      "[258, 'blue_sup_wpm', 0.0002869209303594121]\n",
      "[398, 'blue_sup_monsterkillsownjungle', 0.00028671436512541485]\n",
      "[348, 'blue_sup_earnedgoldshare', 0.00028585728362561815]\n",
      "[305, 'blue_jng_vspm', 0.00028582601732232005]\n",
      "[486, 'blue_mid_goldat15', 0.0002847147383663546]\n",
      "[399, 'red_top_monsterkillsownjungle', 0.0002825690023954432]\n",
      "[508, 'blue_sup_csat15', 0.00028240347347334503]\n",
      "[64, 'golddiffat10', 0.0002802316712817753]\n",
      "[296, 'blue_mid_visionscore', 0.0002801992364112181]\n",
      "[367, 'blue_bot_total cs', 0.0002791047245845124]\n",
      "[403, 'red_sup_monsterkillsownjungle', 0.0002790706423049266]\n",
      "[214, 'blue_top_damageshare', 0.0002788886223107668]\n",
      "[60, 'csat10', 0.000278183157159242]\n",
      "[455, 'blue_jng_golddiffat10', 0.0002774445140951263]\n",
      "[281, 'red_mid_wcpm', 0.0002759338023866342]\n",
      "[241, 'red_mid_damagemitigatedperminute', 0.000274883988227984]\n",
      "[538, 'blue_sup_csdiffat15', 0.00027416454684058727]\n",
      "[311, 'red_mid_vspm', 0.0002737305522042783]\n",
      "[39, 'damagetakenperminute', 0.00027256196018564594]\n",
      "[6, 'doublekills', 0.0002725150679719746]\n",
      "[226, 'blue_mid_damagetakenperminute', 0.0002717215497416263]\n",
      "[239, 'red_top_damagemitigatedperminute', 0.0002715321979287517]\n",
      "[270, 'red_jng_wardskilled', 0.00027002897439585427]\n",
      "[394, 'blue_top_monsterkillsownjungle', 0.00027001245539778283]\n",
      "[407, 'blue_bot_monsterkillsenemyjungle', 0.0002680777163939631]\n",
      "[286, 'blue_mid_controlwardsbought', 0.00026798447237710605]\n",
      "[347, 'blue_bot_earnedgoldshare', 0.0002676742090274157]\n",
      "[66, 'csdiffat10', 0.00026708620545366784]\n",
      "[233, 'red_sup_damagetakenperminute', 0.00026694094924397554]\n",
      "[260, 'red_jng_wpm', 0.00026667467559086564]\n",
      "[501, 'red_mid_xpat15', 0.0002651147396462874]\n",
      "[456, 'blue_mid_golddiffat10', 0.0002646791292685932]\n",
      "[229, 'red_top_damagetakenperminute', 0.0002638952117917585]\n",
      "[259, 'red_top_wpm', 0.00026105638827929556]\n",
      "[366, 'blue_mid_total cs', 0.000259647296326096]\n",
      "[526, 'blue_mid_xpdiffat15', 0.0002595629578661928]\n",
      "[433, 'red_sup_goldat10', 0.0002594085842498683]\n",
      "[485, 'blue_jng_goldat15', 0.00025788454750797223]\n",
      "[234, 'blue_top_damagemitigatedperminute', 0.0002569656417679867]\n",
      "[310, 'red_jng_vspm', 0.00025638807522559255]\n",
      "[436, 'blue_mid_xpat10', 0.0002561358816860805]\n",
      "[499, 'red_top_xpat15', 0.00025523322217441743]\n",
      "[309, 'red_top_vspm', 0.0002551541265547614]\n",
      "[58, 'goldat10', 0.00025482439320921276]\n",
      "[40, 'damagemitigatedperminute', 0.0002547481211903051]\n",
      "[370, 'red_jng_total cs', 0.0002545669851468847]\n",
      "[412, 'red_bot_monsterkillsenemyjungle', 0.00025215249993248127]\n",
      "[193, 'red_sup_firstbloodkill', 0.0002517377988654823]\n",
      "[276, 'blue_mid_wcpm', 0.00025155453053754415]\n",
      "[201, 'red_mid_damagetochampions', 0.0002513042572976648]\n",
      "[512, 'red_bot_csat15', 0.00025105326182752906]\n",
      "[420, 'red_jng_cspm', 0.00025091058981155037]\n",
      "[243, 'red_sup_damagemitigatedperminute', 0.0002505426780342464]\n",
      "[445, 'blue_jng_csat10', 0.00025051208426851907]\n",
      "[196, 'blue_mid_damagetochampions', 0.00025019403333305807]\n",
      "[392, 'red_bot_monsterkills', 0.0002501030695347473]\n",
      "[107, 'opp_earned_gpm', 0.00024977010950569343]\n",
      "[252, 'red_bot_wardsplaced', 0.0002495277227920765]\n",
      "[362, 'red_bot_goldspent', 0.0002491547912274075]\n",
      "[217, 'blue_bot_damageshare', 0.0002490032542626157]\n",
      "[279, 'red_top_wcpm', 0.000248885436026023]\n",
      "[280, 'red_jng_wcpm', 0.0002481617546469219]\n",
      "[287, 'blue_bot_controlwardsbought', 0.0002477966976605394]\n",
      "[211, 'red_mid_dpm', 0.0002474089004186766]\n",
      "[450, 'red_jng_csat10', 0.00024684834237108356]\n",
      "[208, 'blue_sup_dpm', 0.00024609975670904704]\n",
      "[231, 'red_mid_damagetakenperminute', 0.00024582531715584675]\n",
      "[472, 'red_bot_xpdiffat10', 0.0002444545323156489]\n",
      "[293, 'red_sup_controlwardsbought', 0.0002444295234060061]\n",
      "[369, 'red_top_total cs', 0.0002441564411932098]\n",
      "[509, 'red_top_csat15', 0.00024306336599663414]\n",
      "[475, 'blue_jng_csdiffat10', 0.00024305503723209796]\n",
      "[271, 'red_mid_wardskilled', 0.0002428347830013088]\n",
      "[273, 'red_sup_wardskilled', 0.00024250650949967395]\n",
      "[458, 'blue_sup_golddiffat10', 0.0002416788621969957]\n",
      "[374, 'blue_top_minionkills', 0.00024160292262748968]\n",
      "[497, 'blue_bot_xpat15', 0.00024071379702592566]\n",
      "[304, 'blue_top_vspm', 0.00024016619156408015]\n",
      "[430, 'red_jng_goldat10', 0.00023904040575306333]\n",
      "[363, 'red_sup_goldspent', 0.0002387764257833993]\n",
      "[42, 'wpm', 0.00023824494375987142]\n",
      "[44, 'wcpm', 0.00023766925600617183]\n",
      "[539, 'red_top_csdiffat15', 0.00023710400109502137]\n",
      "[480, 'red_jng_csdiffat10', 0.0002369587953293675]\n",
      "[235, 'blue_jng_damagemitigatedperminute', 0.00023596599775992046]\n",
      "[426, 'blue_mid_goldat10', 0.00023530737039360923]\n",
      "[522, 'red_bot_golddiffat15', 0.0002351880842556878]\n",
      "[283, 'red_sup_wcpm', 0.0002340261236183487]\n",
      "[504, 'blue_top_csat15', 0.00023377201842028766]\n",
      "[285, 'blue_jng_controlwardsbought', 0.0002325762159331239]\n",
      "[372, 'red_bot_total cs', 0.00023236197108281043]\n",
      "[416, 'blue_mid_cspm', 0.00023109765748895078]\n",
      "[116, 'blue_mid_kills', 0.00023005764070342904]\n",
      "[257, 'blue_bot_wpm', 0.00022996953205168413]\n",
      "[99, 'opp_wpm', 0.000229341994710532]\n",
      "[383, 'red_sup_minionkills', 0.00022918266004477055]\n",
      "[507, 'blue_bot_csat15', 0.00022842781299474028]\n",
      "[289, 'red_top_controlwardsbought', 0.00022792890544964472]\n",
      "[291, 'red_mid_controlwardsbought', 0.00022722478639316412]\n",
      "[470, 'red_jng_xpdiffat10', 0.00022673577227688157]\n",
      "[237, 'blue_bot_damagemitigatedperminute', 0.0002265451969392503]\n",
      "[248, 'blue_sup_wardsplaced', 0.000226287938989058]\n",
      "[505, 'blue_jng_csat15', 0.00022576735201116228]\n",
      "[460, 'red_jng_golddiffat10', 0.00022518381197459276]\n",
      "[513, 'red_sup_csat15', 0.00022504502065605697]\n",
      "[218, 'blue_sup_damageshare', 0.00022414688587259353]\n",
      "[438, 'blue_sup_xpat10', 0.00022236629310810616]\n",
      "[439, 'red_top_xpat10', 0.0002210098462882815]\n",
      "[440, 'red_jng_xpat10', 0.00021916206488072093]\n",
      "[377, 'blue_bot_minionkills', 0.0002187396191339108]\n",
      "[457, 'blue_bot_golddiffat10', 0.0002181958130914839]\n",
      "[488, 'blue_sup_goldat15', 0.0002180703623635467]\n",
      "[518, 'blue_sup_golddiffat15', 0.00021758574806498725]\n",
      "[479, 'red_top_csdiffat10', 0.00021697018085180893]\n",
      "[375, 'blue_jng_minionkills', 0.00021695330460289584]\n",
      "[379, 'red_top_minionkills', 0.00021615855473582988]\n",
      "[540, 'red_jng_csdiffat15', 0.00021574268724555392]\n",
      "[288, 'blue_sup_controlwardsbought', 0.0002140974464752676]\n",
      "[213, 'red_sup_dpm', 0.0002138944228051648]\n",
      "[454, 'blue_top_golddiffat10', 0.00021379472295356735]\n",
      "[378, 'blue_sup_minionkills', 0.0002137669256169678]\n",
      "[421, 'red_mid_cspm', 0.00021343583052051845]\n",
      "[391, 'red_mid_monsterkills', 0.00021330763415198443]\n",
      "[483, 'red_sup_csdiffat10', 0.00021330181658282203]\n",
      "[212, 'red_bot_dpm', 0.00021272209993873002]\n",
      "[148, 'blue_sup_doublekills', 0.0002124847124945485]\n",
      "[247, 'blue_bot_wardsplaced', 0.0002123309530880003]\n",
      "[386, 'blue_mid_monsterkills', 0.00021207224875036503]\n",
      "[345, 'blue_jng_earnedgoldshare', 0.0002118946270541622]\n",
      "[249, 'red_top_wardsplaced', 0.00021163193408819578]\n",
      "[435, 'blue_jng_xpat10', 0.00021155156817309856]\n",
      "[537, 'blue_bot_csdiffat15', 0.00021139590718257317]\n",
      "[246, 'blue_mid_wardsplaced', 0.00021119708921926565]\n",
      "[343, 'red_sup_earned gpm', 0.00021092370668720904]\n",
      "[452, 'red_bot_csat10', 0.00021085719912507627]\n",
      "[189, 'red_top_firstbloodkill', 0.00021068691833013613]\n",
      "[506, 'blue_mid_csat15', 0.00021068055242425305]\n",
      "[446, 'blue_mid_csat10', 0.00020998060401032105]\n",
      "[397, 'blue_bot_monsterkillsownjungle', 0.00020920227078440927]\n",
      "[536, 'blue_mid_csdiffat15', 0.00020775294845911521]\n",
      "[272, 'red_bot_wardskilled', 0.00020638725087889387]\n",
      "[520, 'red_jng_golddiffat15', 0.00020594714432604599]\n",
      "[215, 'blue_jng_damageshare', 0.0002051051123794959]\n",
      "[267, 'blue_bot_wardskilled', 0.00020454826385097813]\n",
      "[534, 'blue_top_csdiffat15', 0.00020318685477935686]\n",
      "[222, 'red_bot_damageshare', 0.00020258440592058058]\n",
      "[63, 'opp_csat10', 0.00020239984101880727]\n",
      "[165, 'blue_jng_quadrakills', 0.00020221038672404323]\n",
      "[503, 'red_sup_xpat15', 0.0002018893579530742]\n",
      "[61, 'opp_goldat10', 0.00020176577383014774]\n",
      "[524, 'blue_top_xpdiffat15', 0.00020157432533111274]\n",
      "[451, 'red_mid_csat10', 0.00020078390665298593]\n",
      "[477, 'blue_bot_csdiffat10', 0.00020061406876454652]\n",
      "[251, 'red_mid_wardsplaced', 0.0002005885857863797]\n",
      "[476, 'blue_mid_csdiffat10', 0.00019996822131224584]\n",
      "[185, 'blue_jng_firstbloodkill', 0.00019969388245596423]\n",
      "[448, 'blue_sup_csat10', 0.00019945956673317436]\n",
      "[443, 'red_sup_xpat10', 0.00019893752279491394]\n",
      "[422, 'red_bot_cspm', 0.0001987983967313137]\n",
      "[467, 'blue_bot_xpdiffat10', 0.00019875504043587858]\n",
      "[81, 'opp_quadrakills', 0.00019840466137287645]\n",
      "[502, 'red_bot_xpat15', 0.00019782943997424346]\n",
      "[85, 'opp_infernals', 0.00019712400697839976]\n",
      "[517, 'blue_bot_golddiffat15', 0.0001969468712383505]\n",
      "[535, 'blue_jng_csdiffat15', 0.0001943450873556352]\n",
      "[395, 'blue_jng_monsterkillsownjungle', 0.00019431759376014522]\n",
      "[510, 'red_jng_csat15', 0.00019378568655754942]\n",
      "[491, 'red_mid_goldat15', 0.00019372737057660194]\n",
      "[493, 'red_sup_goldat15', 0.00019330497278674804]\n",
      "[541, 'red_mid_csdiffat15', 0.00019209996214027958]\n",
      "[244, 'blue_top_wardsplaced', 0.00019162864536427973]\n",
      "[468, 'blue_sup_xpdiffat10', 0.00019140679754082158]\n",
      "[494, 'blue_top_xpat15', 0.00018945008617878709]\n",
      "[529, 'red_top_xpdiffat15', 0.00018831806227512956]\n",
      "[242, 'red_bot_damagemitigatedperminute', 0.0001875983007485445]\n",
      "[219, 'red_top_damageshare', 0.0001873235081687434]\n",
      "[43, 'wardskilled', 0.00018716194013433811]\n",
      "[514, 'blue_top_golddiffat15', 0.0001867234718683182]\n",
      "[223, 'red_sup_damageshare', 0.0001865362951789919]\n",
      "[250, 'red_jng_wardsplaced', 0.00018615185793978328]\n",
      "[400, 'red_jng_monsterkillsownjungle', 0.00018602158726075551]\n",
      "[423, 'red_sup_cspm', 0.00018510398157856557]\n",
      "[277, 'blue_bot_wcpm', 0.00018508197146109272]\n",
      "[487, 'blue_bot_goldat15', 0.0001846625236694502]\n",
      "[449, 'red_top_csat10', 0.00018379702970964151]\n",
      "[57, 'cspm', 0.00018321760977157344]\n",
      "[87, 'opp_clouds', 0.00018309216159182712]\n",
      "[188, 'blue_sup_firstbloodkill', 0.0001826556310394073]\n",
      "[303, 'red_sup_visionscore', 0.0001822144353859082]\n",
      "[484, 'blue_top_goldat15', 0.00018140172568494853]\n",
      "[471, 'red_mid_xpdiffat10', 0.00018128067502567877]\n",
      "[478, 'blue_sup_csdiffat10', 0.0001803522882918103]\n",
      "[411, 'red_mid_monsterkillsenemyjungle', 0.00018018888432264944]\n",
      "[300, 'red_jng_visionscore', 0.00018017136034730646]\n",
      "[393, 'red_sup_monsterkills', 0.00018003202585090746]\n",
      "[441, 'red_mid_xpat10', 0.00017767267193006514]\n",
      "[67, 'goldat15', 0.00017491949889344747]\n",
      "[183, 'red_sup_pentakills', 0.00017475452159078537]\n",
      "[530, 'red_jng_xpdiffat15', 0.0001747467737859576]\n",
      "[154, 'blue_top_triplekills', 0.00017390003923090298]\n",
      "[387, 'blue_bot_monsterkills', 0.00017307222114453655]\n",
      "[22, 'elders', 0.0001728020576270876]\n",
      "[262, 'red_bot_wpm', 0.00017240546361485813]\n",
      "[437, 'blue_bot_xpat10', 0.00017165702386616564]\n",
      "[274, 'blue_top_wcpm', 0.00017131920975528968]\n",
      "[495, 'blue_jng_xpat15', 0.00017115413752618932]\n",
      "[206, 'blue_mid_dpm', 0.00017114158757093733]\n",
      "[263, 'red_sup_wpm', 0.00016901012667367018]\n",
      "[24, 'firstherald', 0.0001686119057790156]\n",
      "[527, 'blue_bot_xpdiffat15', 0.00016790489380301866]\n",
      "[70, 'opp_goldat15', 0.0001675222289045729]\n",
      "[432, 'red_bot_goldat10', 0.00016626381095825881]\n",
      "[453, 'red_sup_csat10', 0.00016472771803535975]\n",
      "[466, 'blue_mid_xpdiffat10', 0.00016439538706058865]\n",
      "[496, 'blue_mid_xpat15', 0.00016378845846737696]\n",
      "[532, 'red_bot_xpdiffat15', 0.00016215374091851993]\n",
      "[261, 'red_mid_wpm', 0.00016079419445712832]\n",
      "[376, 'blue_mid_minionkills', 0.00016001918485313956]\n",
      "[516, 'blue_mid_golddiffat15', 0.00015946004199779678]\n",
      "[264, 'blue_top_wardskilled', 0.00015913737701017327]\n",
      "[469, 'red_top_xpdiffat10', 0.00015728472750611657]\n",
      "[254, 'blue_top_wpm', 0.00015681465737486244]\n",
      "[97, 'opp_damagemitigatedperminute', 0.00015623664637482115]\n",
      "[465, 'blue_jng_xpdiffat10', 0.00015618801676829764]\n",
      "[221, 'red_mid_damageshare', 0.0001539762066333258]\n",
      "[428, 'blue_sup_goldat10', 0.00015271313454776135]\n",
      "[459, 'red_top_golddiffat10', 0.00015211817409789896]\n",
      "[482, 'red_bot_csdiffat10', 0.000151146341316116]\n",
      "[464, 'blue_top_xpdiffat10', 0.0001498873551800579]\n",
      "[152, 'red_bot_doublekills', 0.00014961528902983267]\n",
      "[8, 'quadrakills', 0.0001472537036833613]\n",
      "[424, 'blue_top_goldat10', 0.00014663419769514463]\n",
      "[290, 'red_jng_controlwardsbought', 0.00014652936727044494]\n",
      "[275, 'blue_jng_wcpm', 0.00014623501521464875]\n",
      "[515, 'blue_jng_golddiffat15', 0.00014242826872386233]\n",
      "[186, 'blue_mid_firstbloodkill', 0.00013938236106472078]\n",
      "[256, 'blue_mid_wpm', 0.00013835265814235445]\n",
      "[419, 'red_top_cspm', 0.00013798589259223428]\n",
      "[371, 'red_mid_total cs', 0.00013670367295059708]\n",
      "[253, 'red_sup_wardsplaced', 0.00013636375655236044]\n",
      "[444, 'blue_top_csat10', 0.0001361247056089567]\n",
      "[216, 'blue_mid_damageshare', 0.00012843567736289815]\n",
      "[447, 'blue_bot_csat10', 0.00012753926811800303]\n",
      "[190, 'red_jng_firstbloodkill', 0.00012745150342794215]\n",
      "[429, 'red_top_goldat10', 0.00012709696893412]\n",
      "[184, 'blue_top_firstbloodkill', 0.0001244931805244521]\n",
      "[481, 'red_mid_csdiffat10', 0.00012136251026442111]\n",
      "[500, 'red_jng_xpat15', 0.00011943139783751811]\n",
      "[401, 'red_mid_monsterkillsownjungle', 0.00011462409171580252]\n",
      "[413, 'red_sup_monsterkillsenemyjungle', 0.00011225731679257358]\n",
      "[442, 'red_bot_xpat10', 0.00011045430682697891]\n",
      "[533, 'red_sup_xpdiffat15', 0.00011005014870226334]\n",
      "[146, 'blue_mid_doublekills', 0.00010463170164557428]\n",
      "[396, 'blue_mid_monsterkillsownjungle', 9.811143739083657e-05]\n",
      "[187, 'blue_bot_firstbloodkill', 9.567047350567976e-05]\n",
      "[157, 'blue_bot_triplekills', 8.29411911727008e-05]\n",
      "[182, 'red_bot_pentakills', 7.808149792648955e-05]\n",
      "[151, 'red_mid_doublekills', 5.438561195495133e-05]\n",
      "[167, 'blue_bot_quadrakills', 5.216191769720113e-05]\n",
      "[156, 'blue_mid_triplekills', 5.148359524653963e-05]\n",
      "[406, 'blue_mid_monsterkillsenemyjungle', 4.485942582265791e-05]\n",
      "[153, 'red_sup_doublekills', 4.072698109932525e-05]\n",
      "[162, 'red_bot_triplekills', 3.788348774846374e-05]\n",
      "[163, 'red_sup_triplekills', 3.742913684379049e-05]\n",
      "[158, 'blue_sup_triplekills', 3.74175302101065e-05]\n",
      "[180, 'red_jng_pentakills', 3.6036832648289935e-05]\n",
      "[80, 'opp_triplekills', 3.478931417174329e-05]\n",
      "[191, 'red_mid_firstbloodkill', 3.252615346535218e-05]\n",
      "[169, 'red_top_quadrakills', 2.3609650719071584e-05]\n",
      "[164, 'blue_top_quadrakills', 1.708445651914093e-05]\n",
      "[168, 'blue_sup_quadrakills', 1.3817980042896013e-05]\n",
      "[177, 'blue_bot_pentakills', 1.1762242355570463e-05]\n",
      "[7, 'triplekills', 1.1678243005282725e-05]\n"
     ]
    }
   ],
   "source": [
    "for el in range(len(l)):\n",
    "    print(l[-el])"
   ]
  },
  {
   "cell_type": "markdown",
   "metadata": {},
   "source": [
    "# Arbol de decision normal en DF de jugadores sin tomar en cuenta first tower"
   ]
  },
  {
   "cell_type": "code",
   "execution_count": 46,
   "metadata": {},
   "outputs": [],
   "source": [
    "cols = df_teams.columns\n",
    "X = copy.copy(df_teams)"
   ]
  },
  {
   "cell_type": "code",
   "execution_count": 47,
   "metadata": {},
   "outputs": [],
   "source": [
    "X.drop(['gameid', 'result', 'firsttower'], axis = 1, inplace = True)"
   ]
  },
  {
   "cell_type": "code",
   "execution_count": 49,
   "metadata": {},
   "outputs": [],
   "source": [
    "Y = df_teams['result']"
   ]
  },
  {
   "cell_type": "code",
   "execution_count": 50,
   "metadata": {},
   "outputs": [],
   "source": [
    "Xtrain, Xtest, Ytrain, Ytest = train_test_split(X, Y, test_size = 0.3, random_state = 43)"
   ]
  },
  {
   "cell_type": "code",
   "execution_count": 51,
   "metadata": {},
   "outputs": [],
   "source": [
    "classifier = DecisionTreeClassifier()"
   ]
  },
  {
   "cell_type": "code",
   "execution_count": 52,
   "metadata": {},
   "outputs": [
    {
     "data": {
      "text/plain": [
       "DecisionTreeClassifier(ccp_alpha=0.0, class_weight=None, criterion='gini',\n",
       "                       max_depth=None, max_features=None, max_leaf_nodes=None,\n",
       "                       min_impurity_decrease=0.0, min_impurity_split=None,\n",
       "                       min_samples_leaf=1, min_samples_split=2,\n",
       "                       min_weight_fraction_leaf=0.0, presort='deprecated',\n",
       "                       random_state=None, splitter='best')"
      ]
     },
     "execution_count": 52,
     "metadata": {},
     "output_type": "execute_result"
    }
   ],
   "source": [
    "classifier.fit(Xtrain, Ytrain)"
   ]
  },
  {
   "cell_type": "code",
   "execution_count": 53,
   "metadata": {},
   "outputs": [],
   "source": [
    "Ypred = classifier.predict(Xtest)"
   ]
  },
  {
   "cell_type": "code",
   "execution_count": 54,
   "metadata": {},
   "outputs": [
    {
     "data": {
      "text/plain": [
       "0.9853420195439739"
      ]
     },
     "execution_count": 54,
     "metadata": {},
     "output_type": "execute_result"
    }
   ],
   "source": [
    "metrics.accuracy_score(Ytest, Ypred)"
   ]
  },
  {
   "cell_type": "code",
   "execution_count": 55,
   "metadata": {},
   "outputs": [],
   "source": [
    "#classifier.feature_importances_"
   ]
  },
  {
   "cell_type": "code",
   "execution_count": 56,
   "metadata": {},
   "outputs": [],
   "source": [
    "importance = classifier.feature_importances_"
   ]
  },
  {
   "cell_type": "code",
   "execution_count": 57,
   "metadata": {},
   "outputs": [],
   "source": [
    "indexes = []\n",
    "values = []\n",
    "for i in range(len(importance)):\n",
    "    if importance[i] > 0.00:\n",
    "        indexes.append(i)\n",
    "        values.append(importance[i])\n",
    "        \n",
    "j = 0\n",
    "l = []\n",
    "for i in indexes:\n",
    "    #print(i, cols[i], values[j])\n",
    "    l.append([i, cols[i], values[j]])\n",
    "    j+= 1"
   ]
  },
  {
   "cell_type": "code",
   "execution_count": 58,
   "metadata": {},
   "outputs": [],
   "source": [
    "l.sort(key = lambda l : l[2])"
   ]
  },
  {
   "cell_type": "code",
   "execution_count": 59,
   "metadata": {},
   "outputs": [
    {
     "name": "stdout",
     "output_type": "stream",
     "text": [
      "[82, 'opp_pentakills', 0.0004642481852183914]\n",
      "[29, 'opp_barons', 0.8849386573709577]\n",
      "[28, 'barons', 0.04361359210627782]\n",
      "[32, 'opp_towers', 0.02471445159245468]\n",
      "[53, 'minionkills', 0.008042290234323592]\n",
      "[104, 'opp_vspm', 0.0064096801525876075]\n",
      "[73, 'golddiffat15', 0.005015690878190447]\n",
      "[9, 'pentakills', 0.004159353411182322]\n",
      "[3, 'kills', 0.002812152161807213]\n",
      "[75, 'csdiffat15', 0.0027836415551315335]\n",
      "[38, 'dpm', 0.0021020837409508907]\n",
      "[11, 'team kpm', 0.0021020837409508907]\n",
      "[110, 'opp_monsterkills', 0.002015655286644587]\n",
      "[37, 'damagetochampions', 0.0016816669927607122]\n",
      "[47, 'vspm', 0.0015537140693984831]\n",
      "[92, 'opp_firstmidtower', 0.0014004260065715963]\n",
      "[63, 'opp_csat10', 0.0013946806832731934]\n",
      "[105, 'opp_totalgold', 0.0013739109417979694]\n",
      "[66, 'csdiffat10', 0.0013210682132672766]\n",
      "[50, 'earned gpm', 0.0009342594404226179]\n",
      "[65, 'xpdiffat10', 0.0007006945803169635]\n",
      "[81, 'opp_quadrakills', 0.0004659986555134618]\n"
     ]
    }
   ],
   "source": [
    "for el in range(len(l)):\n",
    "    print(l[-el])"
   ]
  },
  {
   "cell_type": "code",
   "execution_count": 62,
   "metadata": {},
   "outputs": [],
   "source": [
    "winners = df_teams[df_teams['result'] == 1]"
   ]
  },
  {
   "cell_type": "code",
   "execution_count": 63,
   "metadata": {},
   "outputs": [
    {
     "data": {
      "text/plain": [
       "2151"
      ]
     },
     "execution_count": 63,
     "metadata": {},
     "output_type": "execute_result"
    }
   ],
   "source": [
    "len(winners)"
   ]
  },
  {
   "cell_type": "code",
   "execution_count": 64,
   "metadata": {},
   "outputs": [],
   "source": [
    "from sklearn.metrics import confusion_matrix"
   ]
  },
  {
   "cell_type": "code",
   "execution_count": 66,
   "metadata": {},
   "outputs": [
    {
     "data": {
      "text/plain": [
       "array([[588,   9],\n",
       "       [  9, 622]], dtype=int64)"
      ]
     },
     "execution_count": 66,
     "metadata": {},
     "output_type": "execute_result"
    }
   ],
   "source": [
    "confusion_matrix(Ytest, Ypred)"
   ]
  },
  {
   "cell_type": "markdown",
   "metadata": {},
   "source": [
    "# Cross Validation dataframe equipos"
   ]
  },
  {
   "cell_type": "code",
   "execution_count": 3,
   "metadata": {},
   "outputs": [],
   "source": [
    "df_teams = pd.read_csv('teams_df_final.csv')\n",
    "df = pd.read_csv('complete_df.csv')"
   ]
  },
  {
   "cell_type": "code",
   "execution_count": 4,
   "metadata": {},
   "outputs": [],
   "source": [
    "cols = df_teams.columns\n",
    "X = copy.copy(df_teams)"
   ]
  },
  {
   "cell_type": "code",
   "execution_count": 5,
   "metadata": {},
   "outputs": [],
   "source": [
    "X.drop(['gameid', 'result'], axis = 1, inplace = True)"
   ]
  },
  {
   "cell_type": "code",
   "execution_count": 6,
   "metadata": {},
   "outputs": [],
   "source": [
    "Y = df_teams['result']"
   ]
  },
  {
   "cell_type": "code",
   "execution_count": 7,
   "metadata": {},
   "outputs": [],
   "source": [
    "clf = ExtraTreesClassifier(n_estimators = 100, random_state = 43)"
   ]
  },
  {
   "cell_type": "code",
   "execution_count": 9,
   "metadata": {},
   "outputs": [],
   "source": [
    "shffl = ShuffleSplit(n_splits = 5, test_size = 0.3, random_state = 43)"
   ]
  },
  {
   "cell_type": "code",
   "execution_count": 11,
   "metadata": {},
   "outputs": [],
   "source": [
    "cv_results = cross_val_score(clf, X, Y, cv = shffl, scoring = 'f1')"
   ]
  },
  {
   "cell_type": "code",
   "execution_count": 12,
   "metadata": {},
   "outputs": [
    {
     "data": {
      "text/plain": [
       "array([0.98730159, 0.98566879, 0.99201278, 0.98901099, 0.99386503])"
      ]
     },
     "execution_count": 12,
     "metadata": {},
     "output_type": "execute_result"
    }
   ],
   "source": [
    "cv_results"
   ]
  },
  {
   "cell_type": "markdown",
   "metadata": {},
   "source": [
    "# Cross Validation dataframe equipos 10 folds"
   ]
  },
  {
   "cell_type": "code",
   "execution_count": 13,
   "metadata": {},
   "outputs": [],
   "source": [
    "df_teams = pd.read_csv('teams_df_final.csv')\n",
    "df = pd.read_csv('complete_df.csv')"
   ]
  },
  {
   "cell_type": "code",
   "execution_count": 14,
   "metadata": {},
   "outputs": [],
   "source": [
    "cols = df_teams.columns\n",
    "X = copy.copy(df_teams)"
   ]
  },
  {
   "cell_type": "code",
   "execution_count": 15,
   "metadata": {},
   "outputs": [],
   "source": [
    "X.drop(['gameid', 'result'], axis = 1, inplace = True)"
   ]
  },
  {
   "cell_type": "code",
   "execution_count": 16,
   "metadata": {},
   "outputs": [],
   "source": [
    "Y = df_teams['result']"
   ]
  },
  {
   "cell_type": "code",
   "execution_count": 17,
   "metadata": {},
   "outputs": [],
   "source": [
    "clf = ExtraTreesClassifier(n_estimators = 100, random_state = 43)"
   ]
  },
  {
   "cell_type": "code",
   "execution_count": 18,
   "metadata": {},
   "outputs": [],
   "source": [
    "shffl = ShuffleSplit(n_splits = 10, test_size = 0.3, random_state = 43)"
   ]
  },
  {
   "cell_type": "code",
   "execution_count": 19,
   "metadata": {},
   "outputs": [],
   "source": [
    "cv_results = cross_val_score(clf, X, Y, cv = shffl, scoring = 'f1')"
   ]
  },
  {
   "cell_type": "code",
   "execution_count": 20,
   "metadata": {},
   "outputs": [
    {
     "data": {
      "text/plain": [
       "array([0.98730159, 0.98566879, 0.99201278, 0.98901099, 0.99386503,\n",
       "       0.98989899, 0.99009901, 0.99153195, 0.98693313, 0.98825372])"
      ]
     },
     "execution_count": 20,
     "metadata": {},
     "output_type": "execute_result"
    }
   ],
   "source": [
    "cv_results"
   ]
  },
  {
   "cell_type": "code",
   "execution_count": 28,
   "metadata": {},
   "outputs": [],
   "source": [
    "cv_results_list = cv_results.tolist()"
   ]
  },
  {
   "cell_type": "code",
   "execution_count": 36,
   "metadata": {
    "collapsed": true,
    "jupyter": {
     "outputs_hidden": true
    }
   },
   "outputs": [
    {
     "data": {
      "text/plain": [
       "[0.9938650306748467,\n",
       " 0.9920127795527156,\n",
       " 0.99153194765204,\n",
       " 0.9900990099009901,\n",
       " 0.9898989898989898,\n",
       " 0.989010989010989,\n",
       " 0.9882537196554425,\n",
       " 0.9873015873015872,\n",
       " 0.9869331283627978,\n",
       " 0.9856687898089173]"
      ]
     },
     "execution_count": 36,
     "metadata": {},
     "output_type": "execute_result"
    }
   ],
   "source": [
    "sorted_results = sorted(cv_results_list, reverse = True)"
   ]
  },
  {
   "cell_type": "code",
   "execution_count": 22,
   "metadata": {},
   "outputs": [
    {
     "name": "stdout",
     "output_type": "stream",
     "text": [
      "Accuracy: 0.9895 (+/- 0.0048)\n"
     ]
    }
   ],
   "source": [
    "print(\"Accuracy: %0.4f (+/- %0.4f)\" % (cv_results.mean(), cv_results.std() * 2))"
   ]
  },
  {
   "cell_type": "code",
   "execution_count": 37,
   "metadata": {},
   "outputs": [
    {
     "name": "stdout",
     "output_type": "stream",
     "text": [
      "Best score: 0.9939\n"
     ]
    }
   ],
   "source": [
    "print(\"Best score: %0.4f\" % (sorted_results[0]))"
   ]
  },
  {
   "cell_type": "code",
   "execution_count": 38,
   "metadata": {},
   "outputs": [
    {
     "name": "stdout",
     "output_type": "stream",
     "text": [
      "Worst score: 0.9857\n"
     ]
    }
   ],
   "source": [
    "print(\"Worst score: %0.4f\" % (sorted_results[len(sorted_results) - 1]))"
   ]
  },
  {
   "cell_type": "markdown",
   "metadata": {},
   "source": [
    "# Cross Validation 10 folds dataframe completo"
   ]
  },
  {
   "cell_type": "code",
   "execution_count": 39,
   "metadata": {},
   "outputs": [],
   "source": [
    "cols = df.columns\n",
    "X = copy.copy(df)"
   ]
  },
  {
   "cell_type": "code",
   "execution_count": 40,
   "metadata": {},
   "outputs": [],
   "source": [
    "X.drop(['gameid', 'result'], axis = 1, inplace = True)"
   ]
  },
  {
   "cell_type": "code",
   "execution_count": 41,
   "metadata": {},
   "outputs": [],
   "source": [
    "Y = df_teams['result']"
   ]
  },
  {
   "cell_type": "code",
   "execution_count": 42,
   "metadata": {},
   "outputs": [],
   "source": [
    "clf = ExtraTreesClassifier(n_estimators = 100, random_state = 43)"
   ]
  },
  {
   "cell_type": "code",
   "execution_count": 43,
   "metadata": {},
   "outputs": [],
   "source": [
    "shffl = ShuffleSplit(n_splits = 10, test_size = 0.3, random_state = 43)"
   ]
  },
  {
   "cell_type": "code",
   "execution_count": 44,
   "metadata": {},
   "outputs": [],
   "source": [
    "cv_results = cross_val_score(clf, X, Y, cv = shffl, scoring = 'f1')"
   ]
  },
  {
   "cell_type": "code",
   "execution_count": 45,
   "metadata": {},
   "outputs": [
    {
     "data": {
      "text/plain": [
       "array([0.98248408, 0.98248408, 0.99280576, 0.98664572, 0.98845266,\n",
       "       0.98988327, 0.98707224, 0.98763524, 0.98535081, 0.98827209])"
      ]
     },
     "execution_count": 45,
     "metadata": {},
     "output_type": "execute_result"
    }
   ],
   "source": [
    "cv_results"
   ]
  },
  {
   "cell_type": "code",
   "execution_count": 46,
   "metadata": {},
   "outputs": [],
   "source": [
    "cv_results_list = cv_results.tolist()"
   ]
  },
  {
   "cell_type": "code",
   "execution_count": 47,
   "metadata": {
    "collapsed": true,
    "jupyter": {
     "outputs_hidden": true
    }
   },
   "outputs": [
    {
     "data": {
      "text/plain": [
       "[0.9928057553956834,\n",
       " 0.9898832684824903,\n",
       " 0.9884526558891455,\n",
       " 0.9882720875684128,\n",
       " 0.9876352395672333,\n",
       " 0.9870722433460076,\n",
       " 0.9866457187745482,\n",
       " 0.9853508095605242,\n",
       " 0.982484076433121,\n",
       " 0.982484076433121]"
      ]
     },
     "execution_count": 47,
     "metadata": {},
     "output_type": "execute_result"
    }
   ],
   "source": [
    "sorted_results = sorted(cv_results_list, reverse = True)"
   ]
  },
  {
   "cell_type": "code",
   "execution_count": 48,
   "metadata": {},
   "outputs": [
    {
     "name": "stdout",
     "output_type": "stream",
     "text": [
      "Accuracy: 0.9871 (+/- 0.0060)\n"
     ]
    }
   ],
   "source": [
    "print(\"Accuracy: %0.4f (+/- %0.4f)\" % (cv_results.mean(), cv_results.std() * 2))"
   ]
  },
  {
   "cell_type": "code",
   "execution_count": 49,
   "metadata": {},
   "outputs": [
    {
     "name": "stdout",
     "output_type": "stream",
     "text": [
      "Best score: 0.9928\n"
     ]
    }
   ],
   "source": [
    "print(\"Best score: %0.4f\" % (sorted_results[0]))"
   ]
  },
  {
   "cell_type": "code",
   "execution_count": 50,
   "metadata": {},
   "outputs": [
    {
     "name": "stdout",
     "output_type": "stream",
     "text": [
      "Worst score: 0.9825\n"
     ]
    }
   ],
   "source": [
    "print(\"Worst score: %0.4f\" % (sorted_results[len(sorted_results) - 1]))"
   ]
  },
  {
   "cell_type": "markdown",
   "metadata": {},
   "source": [
    "# Correlacion dataframe equipos"
   ]
  },
  {
   "cell_type": "code",
   "execution_count": 21,
   "metadata": {},
   "outputs": [],
   "source": [
    "df_teams = pd.read_csv('teams_df_final.csv')\n",
    "df = pd.read_csv('complete_df.csv')"
   ]
  },
  {
   "cell_type": "code",
   "execution_count": 22,
   "metadata": {},
   "outputs": [],
   "source": [
    "correlation = df_teams.corr()"
   ]
  },
  {
   "cell_type": "code",
   "execution_count": 23,
   "metadata": {},
   "outputs": [],
   "source": [
    "result_corr = correlation['result']"
   ]
  },
  {
   "cell_type": "code",
   "execution_count": 24,
   "metadata": {},
   "outputs": [],
   "source": [
    "df_result = pd.DataFrame(result_corr)"
   ]
  },
  {
   "cell_type": "code",
   "execution_count": 25,
   "metadata": {},
   "outputs": [
    {
     "data": {
      "text/html": [
       "<div>\n",
       "<style scoped>\n",
       "    .dataframe tbody tr th:only-of-type {\n",
       "        vertical-align: middle;\n",
       "    }\n",
       "\n",
       "    .dataframe tbody tr th {\n",
       "        vertical-align: top;\n",
       "    }\n",
       "\n",
       "    .dataframe thead th {\n",
       "        text-align: right;\n",
       "    }\n",
       "</style>\n",
       "<table border=\"1\" class=\"dataframe\">\n",
       "  <thead>\n",
       "    <tr style=\"text-align: right;\">\n",
       "      <th></th>\n",
       "      <th>result</th>\n",
       "    </tr>\n",
       "  </thead>\n",
       "  <tbody>\n",
       "    <tr>\n",
       "      <th>gamelength</th>\n",
       "      <td>-0.058379</td>\n",
       "    </tr>\n",
       "    <tr>\n",
       "      <th>result</th>\n",
       "      <td>1.000000</td>\n",
       "    </tr>\n",
       "    <tr>\n",
       "      <th>kills</th>\n",
       "      <td>0.649912</td>\n",
       "    </tr>\n",
       "    <tr>\n",
       "      <th>deaths</th>\n",
       "      <td>-0.712262</td>\n",
       "    </tr>\n",
       "    <tr>\n",
       "      <th>assists</th>\n",
       "      <td>0.650689</td>\n",
       "    </tr>\n",
       "    <tr>\n",
       "      <th>...</th>\n",
       "      <td>...</td>\n",
       "    </tr>\n",
       "    <tr>\n",
       "      <th>opp_minionkills</th>\n",
       "      <td>-0.084849</td>\n",
       "    </tr>\n",
       "    <tr>\n",
       "      <th>opp_monsterkills</th>\n",
       "      <td>-0.393583</td>\n",
       "    </tr>\n",
       "    <tr>\n",
       "      <th>opp_monsterkillsownjungle</th>\n",
       "      <td>-0.058098</td>\n",
       "    </tr>\n",
       "    <tr>\n",
       "      <th>opp_monsterkillsenemyjungle</th>\n",
       "      <td>-0.510468</td>\n",
       "    </tr>\n",
       "    <tr>\n",
       "      <th>opp_cspm</th>\n",
       "      <td>-0.304918</td>\n",
       "    </tr>\n",
       "  </tbody>\n",
       "</table>\n",
       "<p>113 rows × 1 columns</p>\n",
       "</div>"
      ],
      "text/plain": [
       "                               result\n",
       "gamelength                  -0.058379\n",
       "result                       1.000000\n",
       "kills                        0.649912\n",
       "deaths                      -0.712262\n",
       "assists                      0.650689\n",
       "...                               ...\n",
       "opp_minionkills             -0.084849\n",
       "opp_monsterkills            -0.393583\n",
       "opp_monsterkillsownjungle   -0.058098\n",
       "opp_monsterkillsenemyjungle -0.510468\n",
       "opp_cspm                    -0.304918\n",
       "\n",
       "[113 rows x 1 columns]"
      ]
     },
     "execution_count": 25,
     "metadata": {},
     "output_type": "execute_result"
    }
   ],
   "source": [
    "df_result"
   ]
  },
  {
   "cell_type": "code",
   "execution_count": 26,
   "metadata": {},
   "outputs": [],
   "source": [
    "names = df_result.index\n",
    "names = names.tolist()"
   ]
  },
  {
   "cell_type": "code",
   "execution_count": 47,
   "metadata": {},
   "outputs": [],
   "source": [
    "#names"
   ]
  },
  {
   "cell_type": "code",
   "execution_count": 28,
   "metadata": {},
   "outputs": [
    {
     "data": {
      "text/plain": [
       "<BarContainer object of 113 artists>"
      ]
     },
     "execution_count": 28,
     "metadata": {},
     "output_type": "execute_result"
    },
    {
     "data": {
      "image/png": "[encoded data removed]",
      "text/plain": [
       "<Figure size 2160x720 with 1 Axes>"
      ]
     },
     "metadata": {
      "needs_background": "light"
     },
     "output_type": "display_data"
    }
   ],
   "source": [
    "plt.figure(figsize = (30, 10))\n",
    "plt.xticks(rotation = 90)\n",
    "plt.bar(names, abs(result_corr))"
   ]
  },
  {
   "cell_type": "code",
   "execution_count": 29,
   "metadata": {},
   "outputs": [],
   "source": [
    "result_corr_list = result_corr.tolist()"
   ]
  },
  {
   "cell_type": "code",
   "execution_count": 30,
   "metadata": {},
   "outputs": [],
   "source": [
    "abs_result = [abs(x) for x in result_corr_list]"
   ]
  },
  {
   "cell_type": "code",
   "execution_count": 46,
   "metadata": {},
   "outputs": [],
   "source": [
    "#abs_result"
   ]
  },
  {
   "cell_type": "code",
   "execution_count": 45,
   "metadata": {},
   "outputs": [],
   "source": [
    "#names"
   ]
  },
  {
   "cell_type": "code",
   "execution_count": 33,
   "metadata": {},
   "outputs": [],
   "source": [
    "names_result = [[names[i], abs_result[i]] for i in range(len(abs_result))]"
   ]
  },
  {
   "cell_type": "code",
   "execution_count": 34,
   "metadata": {},
   "outputs": [],
   "source": [
    "names_result.sort(key = lambda names_result : names_result[1], reverse = True)"
   ]
  },
  {
   "cell_type": "code",
   "execution_count": 44,
   "metadata": {},
   "outputs": [],
   "source": [
    "#names_result"
   ]
  },
  {
   "cell_type": "code",
   "execution_count": 36,
   "metadata": {},
   "outputs": [],
   "source": [
    "above_thresh = [x for x in names_result if x[1] > 0.6 and x[1] < 1.0]"
   ]
  },
  {
   "cell_type": "code",
   "execution_count": 43,
   "metadata": {},
   "outputs": [],
   "source": [
    "#above_thresh"
   ]
  },
  {
   "cell_type": "code",
   "execution_count": 38,
   "metadata": {},
   "outputs": [],
   "source": [
    "above_thresh_names = [x[0] for x in above_thresh]\n",
    "above_thresh_values = [x[1] for x in above_thresh]"
   ]
  },
  {
   "cell_type": "code",
   "execution_count": 39,
   "metadata": {},
   "outputs": [
    {
     "data": {
      "text/plain": [
       "<BarContainer object of 24 artists>"
      ]
     },
     "execution_count": 39,
     "metadata": {},
     "output_type": "execute_result"
    },
    {
     "data": {
      "image/png": "[encoded data removed]",
      "text/plain": [
       "<Figure size 504x360 with 1 Axes>"
      ]
     },
     "metadata": {
      "needs_background": "light"
     },
     "output_type": "display_data"
    }
   ],
   "source": [
    "plt.figure(figsize = (7, 5))\n",
    "plt.xticks(rotation = 90)\n",
    "plt.bar(above_thresh_names, above_thresh_values)"
   ]
  },
  {
   "cell_type": "markdown",
   "metadata": {},
   "source": [
    "# Modelo con unicamente los atributos con una correlacion mayor a 0.6"
   ]
  },
  {
   "cell_type": "code",
   "execution_count": 40,
   "metadata": {},
   "outputs": [],
   "source": [
    "df_teams = pd.read_csv('teams_df_final.csv')\n",
    "df = pd.read_csv('complete_df.csv')"
   ]
  },
  {
   "cell_type": "code",
   "execution_count": 49,
   "metadata": {},
   "outputs": [],
   "source": [
    "X = df_teams[above_thresh_names]"
   ]
  },
  {
   "cell_type": "code",
   "execution_count": 50,
   "metadata": {},
   "outputs": [],
   "source": [
    "Y = df_teams['result']"
   ]
  },
  {
   "cell_type": "code",
   "execution_count": 51,
   "metadata": {},
   "outputs": [],
   "source": [
    "clf = ExtraTreesClassifier(n_estimators = 100, random_state = 43)"
   ]
  },
  {
   "cell_type": "code",
   "execution_count": 52,
   "metadata": {},
   "outputs": [],
   "source": [
    "shffl = ShuffleSplit(n_splits = 10, test_size = 0.3, random_state = 43)"
   ]
  },
  {
   "cell_type": "code",
   "execution_count": 53,
   "metadata": {},
   "outputs": [],
   "source": [
    "cv_results = cross_val_score(clf, X, Y, cv = shffl, scoring = 'f1')"
   ]
  },
  {
   "cell_type": "code",
   "execution_count": 54,
   "metadata": {},
   "outputs": [
    {
     "data": {
      "text/plain": [
       "array([0.98810468, 0.98649722, 0.99123506, 0.98899371, 0.99616858,\n",
       "       0.98911353, 0.99240122, 0.99230769, 0.98695318, 0.99217527])"
      ]
     },
     "execution_count": 54,
     "metadata": {},
     "output_type": "execute_result"
    }
   ],
   "source": [
    "cv_results"
   ]
  },
  {
   "cell_type": "code",
   "execution_count": 55,
   "metadata": {},
   "outputs": [],
   "source": [
    "cv_results_list = cv_results.tolist()"
   ]
  },
  {
   "cell_type": "code",
   "execution_count": 56,
   "metadata": {},
   "outputs": [],
   "source": [
    "sorted_results = sorted(cv_results_list, reverse = True)"
   ]
  },
  {
   "cell_type": "code",
   "execution_count": 57,
   "metadata": {},
   "outputs": [
    {
     "name": "stdout",
     "output_type": "stream",
     "text": [
      "Accuracy: 0.9904 (+/- 0.0057)\n"
     ]
    }
   ],
   "source": [
    "print(\"Accuracy: %0.4f (+/- %0.4f)\" % (cv_results.mean(), cv_results.std() * 2))"
   ]
  },
  {
   "cell_type": "code",
   "execution_count": 58,
   "metadata": {},
   "outputs": [
    {
     "name": "stdout",
     "output_type": "stream",
     "text": [
      "Best score: 0.9962\n"
     ]
    }
   ],
   "source": [
    "print(\"Best score: %0.4f\" % (sorted_results[0]))"
   ]
  },
  {
   "cell_type": "code",
   "execution_count": 59,
   "metadata": {},
   "outputs": [
    {
     "name": "stdout",
     "output_type": "stream",
     "text": [
      "Worst score: 0.9865\n"
     ]
    }
   ],
   "source": [
    "print(\"Worst score: %0.4f\" % (sorted_results[len(sorted_results) - 1]))"
   ]
  },
  {
   "cell_type": "markdown",
   "metadata": {},
   "source": [
    "# Modelo quitando redundancia de atributos por ejemplo: deaths y opp_kills contienen 'la misma informacion', en el sentido que las veces que muere el equipo azul son las mismas que la cantidad de asesinatos que tiene el equipo rojo"
   ]
  },
  {
   "cell_type": "code",
   "execution_count": 64,
   "metadata": {
    "collapsed": true,
    "jupyter": {
     "outputs_hidden": true
    }
   },
   "outputs": [
    {
     "data": {
      "text/plain": [
       "['opp_towers',\n",
       " 'towers',\n",
       " 'opp_earned_gpm',\n",
       " 'earned gpm',\n",
       " 'opp_inhibitors',\n",
       " 'gspd',\n",
       " 'inhibitors',\n",
       " 'opp_kills',\n",
       " 'deaths',\n",
       " 'opp_team_kpm',\n",
       " 'opp_assists',\n",
       " 'opp_firstbaron',\n",
       " 'team kpm',\n",
       " 'opp_barons',\n",
       " 'assists',\n",
       " 'kills',\n",
       " 'opp_deaths',\n",
       " 'opp_dragons',\n",
       " 'firstbaron',\n",
       " 'opp_elementaldrakes',\n",
       " 'dragons',\n",
       " 'elementaldrakes',\n",
       " 'opp_doublekills',\n",
       " 'opp_earnedgold']"
      ]
     },
     "execution_count": 64,
     "metadata": {},
     "output_type": "execute_result"
    }
   ],
   "source": [
    "#above_thresh_names"
   ]
  },
  {
   "cell_type": "code",
   "execution_count": 66,
   "metadata": {
    "collapsed": true,
    "jupyter": {
     "outputs_hidden": true
    }
   },
   "outputs": [
    {
     "data": {
      "text/html": [
       "<div>\n",
       "<style scoped>\n",
       "    .dataframe tbody tr th:only-of-type {\n",
       "        vertical-align: middle;\n",
       "    }\n",
       "\n",
       "    .dataframe tbody tr th {\n",
       "        vertical-align: top;\n",
       "    }\n",
       "\n",
       "    .dataframe thead th {\n",
       "        text-align: right;\n",
       "    }\n",
       "</style>\n",
       "<table border=\"1\" class=\"dataframe\">\n",
       "  <thead>\n",
       "    <tr style=\"text-align: right;\">\n",
       "      <th></th>\n",
       "      <th>opp_towers</th>\n",
       "      <th>towers</th>\n",
       "      <th>opp_earned_gpm</th>\n",
       "      <th>earned gpm</th>\n",
       "      <th>opp_inhibitors</th>\n",
       "      <th>gspd</th>\n",
       "      <th>inhibitors</th>\n",
       "      <th>opp_kills</th>\n",
       "      <th>deaths</th>\n",
       "      <th>opp_team_kpm</th>\n",
       "      <th>opp_assists</th>\n",
       "      <th>opp_firstbaron</th>\n",
       "      <th>team kpm</th>\n",
       "      <th>opp_barons</th>\n",
       "      <th>assists</th>\n",
       "      <th>kills</th>\n",
       "      <th>opp_deaths</th>\n",
       "      <th>opp_dragons</th>\n",
       "      <th>firstbaron</th>\n",
       "      <th>opp_elementaldrakes</th>\n",
       "      <th>dragons</th>\n",
       "      <th>elementaldrakes</th>\n",
       "      <th>opp_doublekills</th>\n",
       "      <th>opp_earnedgold</th>\n",
       "    </tr>\n",
       "  </thead>\n",
       "  <tbody>\n",
       "    <tr>\n",
       "      <th>0</th>\n",
       "      <td>4.0</td>\n",
       "      <td>8.0</td>\n",
       "      <td>1045.5946</td>\n",
       "      <td>1213.6486</td>\n",
       "      <td>0.0</td>\n",
       "      <td>0.004023</td>\n",
       "      <td>1.0</td>\n",
       "      <td>11</td>\n",
       "      <td>11</td>\n",
       "      <td>0.2973</td>\n",
       "      <td>25</td>\n",
       "      <td>0.0</td>\n",
       "      <td>0.4595</td>\n",
       "      <td>0.0</td>\n",
       "      <td>33</td>\n",
       "      <td>17</td>\n",
       "      <td>17</td>\n",
       "      <td>3.0</td>\n",
       "      <td>1.0</td>\n",
       "      <td>3.0</td>\n",
       "      <td>2.0</td>\n",
       "      <td>2.0</td>\n",
       "      <td>0.0</td>\n",
       "      <td>38687</td>\n",
       "    </tr>\n",
       "    <tr>\n",
       "      <th>1</th>\n",
       "      <td>9.0</td>\n",
       "      <td>2.0</td>\n",
       "      <td>1290.8217</td>\n",
       "      <td>894.2075</td>\n",
       "      <td>1.0</td>\n",
       "      <td>-0.122771</td>\n",
       "      <td>0.0</td>\n",
       "      <td>21</td>\n",
       "      <td>21</td>\n",
       "      <td>0.5658</td>\n",
       "      <td>41</td>\n",
       "      <td>1.0</td>\n",
       "      <td>0.1347</td>\n",
       "      <td>2.0</td>\n",
       "      <td>16</td>\n",
       "      <td>5</td>\n",
       "      <td>5</td>\n",
       "      <td>4.0</td>\n",
       "      <td>0.0</td>\n",
       "      <td>4.0</td>\n",
       "      <td>1.0</td>\n",
       "      <td>1.0</td>\n",
       "      <td>2.0</td>\n",
       "      <td>47911</td>\n",
       "    </tr>\n",
       "    <tr>\n",
       "      <th>2</th>\n",
       "      <td>1.0</td>\n",
       "      <td>10.0</td>\n",
       "      <td>828.8136</td>\n",
       "      <td>1376.3179</td>\n",
       "      <td>0.0</td>\n",
       "      <td>0.225957</td>\n",
       "      <td>2.0</td>\n",
       "      <td>4</td>\n",
       "      <td>4</td>\n",
       "      <td>0.1403</td>\n",
       "      <td>11</td>\n",
       "      <td>0.0</td>\n",
       "      <td>0.7364</td>\n",
       "      <td>0.0</td>\n",
       "      <td>34</td>\n",
       "      <td>21</td>\n",
       "      <td>21</td>\n",
       "      <td>0.0</td>\n",
       "      <td>1.0</td>\n",
       "      <td>0.0</td>\n",
       "      <td>4.0</td>\n",
       "      <td>4.0</td>\n",
       "      <td>1.0</td>\n",
       "      <td>23635</td>\n",
       "    </tr>\n",
       "    <tr>\n",
       "      <th>3</th>\n",
       "      <td>9.0</td>\n",
       "      <td>3.0</td>\n",
       "      <td>1292.9565</td>\n",
       "      <td>869.8649</td>\n",
       "      <td>1.0</td>\n",
       "      <td>-0.170132</td>\n",
       "      <td>0.0</td>\n",
       "      <td>17</td>\n",
       "      <td>17</td>\n",
       "      <td>0.5103</td>\n",
       "      <td>33</td>\n",
       "      <td>1.0</td>\n",
       "      <td>0.1201</td>\n",
       "      <td>2.0</td>\n",
       "      <td>8</td>\n",
       "      <td>4</td>\n",
       "      <td>4</td>\n",
       "      <td>3.0</td>\n",
       "      <td>0.0</td>\n",
       "      <td>3.0</td>\n",
       "      <td>2.0</td>\n",
       "      <td>2.0</td>\n",
       "      <td>3.0</td>\n",
       "      <td>43077</td>\n",
       "    </tr>\n",
       "    <tr>\n",
       "      <th>4</th>\n",
       "      <td>8.0</td>\n",
       "      <td>4.0</td>\n",
       "      <td>1290.6291</td>\n",
       "      <td>952.7483</td>\n",
       "      <td>1.0</td>\n",
       "      <td>-0.096665</td>\n",
       "      <td>0.0</td>\n",
       "      <td>21</td>\n",
       "      <td>21</td>\n",
       "      <td>0.6954</td>\n",
       "      <td>41</td>\n",
       "      <td>1.0</td>\n",
       "      <td>0.0993</td>\n",
       "      <td>2.0</td>\n",
       "      <td>7</td>\n",
       "      <td>3</td>\n",
       "      <td>3</td>\n",
       "      <td>4.0</td>\n",
       "      <td>0.0</td>\n",
       "      <td>4.0</td>\n",
       "      <td>1.0</td>\n",
       "      <td>1.0</td>\n",
       "      <td>3.0</td>\n",
       "      <td>38977</td>\n",
       "    </tr>\n",
       "    <tr>\n",
       "      <th>...</th>\n",
       "      <td>...</td>\n",
       "      <td>...</td>\n",
       "      <td>...</td>\n",
       "      <td>...</td>\n",
       "      <td>...</td>\n",
       "      <td>...</td>\n",
       "      <td>...</td>\n",
       "      <td>...</td>\n",
       "      <td>...</td>\n",
       "      <td>...</td>\n",
       "      <td>...</td>\n",
       "      <td>...</td>\n",
       "      <td>...</td>\n",
       "      <td>...</td>\n",
       "      <td>...</td>\n",
       "      <td>...</td>\n",
       "      <td>...</td>\n",
       "      <td>...</td>\n",
       "      <td>...</td>\n",
       "      <td>...</td>\n",
       "      <td>...</td>\n",
       "      <td>...</td>\n",
       "      <td>...</td>\n",
       "      <td>...</td>\n",
       "    </tr>\n",
       "    <tr>\n",
       "      <th>4088</th>\n",
       "      <td>9.0</td>\n",
       "      <td>1.0</td>\n",
       "      <td>1317.4348</td>\n",
       "      <td>813.5480</td>\n",
       "      <td>1.0</td>\n",
       "      <td>-0.194437</td>\n",
       "      <td>0.0</td>\n",
       "      <td>23</td>\n",
       "      <td>23</td>\n",
       "      <td>0.7662</td>\n",
       "      <td>30</td>\n",
       "      <td>1.0</td>\n",
       "      <td>0.2665</td>\n",
       "      <td>1.0</td>\n",
       "      <td>17</td>\n",
       "      <td>8</td>\n",
       "      <td>9</td>\n",
       "      <td>3.0</td>\n",
       "      <td>0.0</td>\n",
       "      <td>3.0</td>\n",
       "      <td>1.0</td>\n",
       "      <td>1.0</td>\n",
       "      <td>2.0</td>\n",
       "      <td>39545</td>\n",
       "    </tr>\n",
       "    <tr>\n",
       "      <th>4089</th>\n",
       "      <td>8.0</td>\n",
       "      <td>4.0</td>\n",
       "      <td>1160.8179</td>\n",
       "      <td>985.0022</td>\n",
       "      <td>1.0</td>\n",
       "      <td>0.036182</td>\n",
       "      <td>0.0</td>\n",
       "      <td>8</td>\n",
       "      <td>8</td>\n",
       "      <td>0.2066</td>\n",
       "      <td>22</td>\n",
       "      <td>1.0</td>\n",
       "      <td>0.0775</td>\n",
       "      <td>2.0</td>\n",
       "      <td>7</td>\n",
       "      <td>3</td>\n",
       "      <td>3</td>\n",
       "      <td>4.0</td>\n",
       "      <td>0.0</td>\n",
       "      <td>4.0</td>\n",
       "      <td>2.0</td>\n",
       "      <td>2.0</td>\n",
       "      <td>1.0</td>\n",
       "      <td>44943</td>\n",
       "    </tr>\n",
       "    <tr>\n",
       "      <th>4090</th>\n",
       "      <td>2.0</td>\n",
       "      <td>11.0</td>\n",
       "      <td>925.1613</td>\n",
       "      <td>1247.0009</td>\n",
       "      <td>0.0</td>\n",
       "      <td>0.131394</td>\n",
       "      <td>3.0</td>\n",
       "      <td>3</td>\n",
       "      <td>3</td>\n",
       "      <td>0.0785</td>\n",
       "      <td>5</td>\n",
       "      <td>0.0</td>\n",
       "      <td>0.2354</td>\n",
       "      <td>0.0</td>\n",
       "      <td>17</td>\n",
       "      <td>9</td>\n",
       "      <td>9</td>\n",
       "      <td>1.0</td>\n",
       "      <td>1.0</td>\n",
       "      <td>1.0</td>\n",
       "      <td>5.0</td>\n",
       "      <td>4.0</td>\n",
       "      <td>0.0</td>\n",
       "      <td>35372</td>\n",
       "    </tr>\n",
       "    <tr>\n",
       "      <th>4091</th>\n",
       "      <td>9.0</td>\n",
       "      <td>3.0</td>\n",
       "      <td>1224.7838</td>\n",
       "      <td>1001.5915</td>\n",
       "      <td>1.0</td>\n",
       "      <td>-0.072507</td>\n",
       "      <td>0.0</td>\n",
       "      <td>12</td>\n",
       "      <td>12</td>\n",
       "      <td>0.3312</td>\n",
       "      <td>35</td>\n",
       "      <td>1.0</td>\n",
       "      <td>0.1932</td>\n",
       "      <td>1.0</td>\n",
       "      <td>18</td>\n",
       "      <td>7</td>\n",
       "      <td>7</td>\n",
       "      <td>3.0</td>\n",
       "      <td>0.0</td>\n",
       "      <td>3.0</td>\n",
       "      <td>2.0</td>\n",
       "      <td>2.0</td>\n",
       "      <td>2.0</td>\n",
       "      <td>44378</td>\n",
       "    </tr>\n",
       "    <tr>\n",
       "      <th>4092</th>\n",
       "      <td>7.0</td>\n",
       "      <td>2.0</td>\n",
       "      <td>1325.6589</td>\n",
       "      <td>901.5116</td>\n",
       "      <td>1.0</td>\n",
       "      <td>-0.146845</td>\n",
       "      <td>0.0</td>\n",
       "      <td>21</td>\n",
       "      <td>21</td>\n",
       "      <td>0.8140</td>\n",
       "      <td>34</td>\n",
       "      <td>1.0</td>\n",
       "      <td>0.2713</td>\n",
       "      <td>1.0</td>\n",
       "      <td>8</td>\n",
       "      <td>7</td>\n",
       "      <td>7</td>\n",
       "      <td>2.0</td>\n",
       "      <td>0.0</td>\n",
       "      <td>2.0</td>\n",
       "      <td>2.0</td>\n",
       "      <td>2.0</td>\n",
       "      <td>1.0</td>\n",
       "      <td>34202</td>\n",
       "    </tr>\n",
       "  </tbody>\n",
       "</table>\n",
       "<p>4093 rows × 24 columns</p>\n",
       "</div>"
      ],
      "text/plain": [
       "      opp_towers  towers  opp_earned_gpm  earned gpm  opp_inhibitors  \\\n",
       "0            4.0     8.0       1045.5946   1213.6486             0.0   \n",
       "1            9.0     2.0       1290.8217    894.2075             1.0   \n",
       "2            1.0    10.0        828.8136   1376.3179             0.0   \n",
       "3            9.0     3.0       1292.9565    869.8649             1.0   \n",
       "4            8.0     4.0       1290.6291    952.7483             1.0   \n",
       "...          ...     ...             ...         ...             ...   \n",
       "4088         9.0     1.0       1317.4348    813.5480             1.0   \n",
       "4089         8.0     4.0       1160.8179    985.0022             1.0   \n",
       "4090         2.0    11.0        925.1613   1247.0009             0.0   \n",
       "4091         9.0     3.0       1224.7838   1001.5915             1.0   \n",
       "4092         7.0     2.0       1325.6589    901.5116             1.0   \n",
       "\n",
       "          gspd  inhibitors  opp_kills  deaths  opp_team_kpm  opp_assists  \\\n",
       "0     0.004023         1.0         11      11        0.2973           25   \n",
       "1    -0.122771         0.0         21      21        0.5658           41   \n",
       "2     0.225957         2.0          4       4        0.1403           11   \n",
       "3    -0.170132         0.0         17      17        0.5103           33   \n",
       "4    -0.096665         0.0         21      21        0.6954           41   \n",
       "...        ...         ...        ...     ...           ...          ...   \n",
       "4088 -0.194437         0.0         23      23        0.7662           30   \n",
       "4089  0.036182         0.0          8       8        0.2066           22   \n",
       "4090  0.131394         3.0          3       3        0.0785            5   \n",
       "4091 -0.072507         0.0         12      12        0.3312           35   \n",
       "4092 -0.146845         0.0         21      21        0.8140           34   \n",
       "\n",
       "      opp_firstbaron  team kpm  opp_barons  assists  kills  opp_deaths  \\\n",
       "0                0.0    0.4595         0.0       33     17          17   \n",
       "1                1.0    0.1347         2.0       16      5           5   \n",
       "2                0.0    0.7364         0.0       34     21          21   \n",
       "3                1.0    0.1201         2.0        8      4           4   \n",
       "4                1.0    0.0993         2.0        7      3           3   \n",
       "...              ...       ...         ...      ...    ...         ...   \n",
       "4088             1.0    0.2665         1.0       17      8           9   \n",
       "4089             1.0    0.0775         2.0        7      3           3   \n",
       "4090             0.0    0.2354         0.0       17      9           9   \n",
       "4091             1.0    0.1932         1.0       18      7           7   \n",
       "4092             1.0    0.2713         1.0        8      7           7   \n",
       "\n",
       "      opp_dragons  firstbaron  opp_elementaldrakes  dragons  elementaldrakes  \\\n",
       "0             3.0         1.0                  3.0      2.0              2.0   \n",
       "1             4.0         0.0                  4.0      1.0              1.0   \n",
       "2             0.0         1.0                  0.0      4.0              4.0   \n",
       "3             3.0         0.0                  3.0      2.0              2.0   \n",
       "4             4.0         0.0                  4.0      1.0              1.0   \n",
       "...           ...         ...                  ...      ...              ...   \n",
       "4088          3.0         0.0                  3.0      1.0              1.0   \n",
       "4089          4.0         0.0                  4.0      2.0              2.0   \n",
       "4090          1.0         1.0                  1.0      5.0              4.0   \n",
       "4091          3.0         0.0                  3.0      2.0              2.0   \n",
       "4092          2.0         0.0                  2.0      2.0              2.0   \n",
       "\n",
       "      opp_doublekills  opp_earnedgold  \n",
       "0                 0.0           38687  \n",
       "1                 2.0           47911  \n",
       "2                 1.0           23635  \n",
       "3                 3.0           43077  \n",
       "4                 3.0           38977  \n",
       "...               ...             ...  \n",
       "4088              2.0           39545  \n",
       "4089              1.0           44943  \n",
       "4090              0.0           35372  \n",
       "4091              2.0           44378  \n",
       "4092              1.0           34202  \n",
       "\n",
       "[4093 rows x 24 columns]"
      ]
     },
     "execution_count": 66,
     "metadata": {},
     "output_type": "execute_result"
    }
   ],
   "source": [
    "#X"
   ]
  },
  {
   "cell_type": "code",
   "execution_count": null,
   "metadata": {},
   "outputs": [],
   "source": [
    "X = df_teams[above_thresh_names] #hay que correr la secccion de correlacion antes de poder acceder a estas predicciones"
   ]
  },
  {
   "cell_type": "code",
   "execution_count": 67,
   "metadata": {},
   "outputs": [
    {
     "name": "stderr",
     "output_type": "stream",
     "text": [
      "C:\\Users\\kesha\\anaconda3\\envs\\ml\\lib\\site-packages\\pandas\\core\\frame.py:3990: SettingWithCopyWarning: \n",
      "A value is trying to be set on a copy of a slice from a DataFrame\n",
      "\n",
      "See the caveats in the documentation: https://pandas.pydata.org/pandas-docs/stable/user_guide/indexing.html#returning-a-view-versus-a-copy\n",
      "  return super().drop(\n"
     ]
    }
   ],
   "source": [
    "X.drop('deaths', axis = 1, inplace = True)\n",
    "X.drop('opp_deaths', axis = 1, inplace = True)\n",
    "X.drop('elementaldrakes', axis = 1, inplace = True)\n",
    "X.drop('opp_elementaldrakes', axis = 1, inplace = True)"
   ]
  },
  {
   "cell_type": "code",
   "execution_count": 68,
   "metadata": {},
   "outputs": [
    {
     "data": {
      "text/html": [
       "<div>\n",
       "<style scoped>\n",
       "    .dataframe tbody tr th:only-of-type {\n",
       "        vertical-align: middle;\n",
       "    }\n",
       "\n",
       "    .dataframe tbody tr th {\n",
       "        vertical-align: top;\n",
       "    }\n",
       "\n",
       "    .dataframe thead th {\n",
       "        text-align: right;\n",
       "    }\n",
       "</style>\n",
       "<table border=\"1\" class=\"dataframe\">\n",
       "  <thead>\n",
       "    <tr style=\"text-align: right;\">\n",
       "      <th></th>\n",
       "      <th>opp_towers</th>\n",
       "      <th>towers</th>\n",
       "      <th>opp_earned_gpm</th>\n",
       "      <th>earned gpm</th>\n",
       "      <th>opp_inhibitors</th>\n",
       "      <th>gspd</th>\n",
       "      <th>inhibitors</th>\n",
       "      <th>opp_kills</th>\n",
       "      <th>opp_team_kpm</th>\n",
       "      <th>opp_assists</th>\n",
       "      <th>opp_firstbaron</th>\n",
       "      <th>team kpm</th>\n",
       "      <th>opp_barons</th>\n",
       "      <th>assists</th>\n",
       "      <th>kills</th>\n",
       "      <th>opp_dragons</th>\n",
       "      <th>firstbaron</th>\n",
       "      <th>dragons</th>\n",
       "      <th>opp_doublekills</th>\n",
       "      <th>opp_earnedgold</th>\n",
       "    </tr>\n",
       "  </thead>\n",
       "  <tbody>\n",
       "    <tr>\n",
       "      <th>0</th>\n",
       "      <td>4.0</td>\n",
       "      <td>8.0</td>\n",
       "      <td>1045.5946</td>\n",
       "      <td>1213.6486</td>\n",
       "      <td>0.0</td>\n",
       "      <td>0.004023</td>\n",
       "      <td>1.0</td>\n",
       "      <td>11</td>\n",
       "      <td>0.2973</td>\n",
       "      <td>25</td>\n",
       "      <td>0.0</td>\n",
       "      <td>0.4595</td>\n",
       "      <td>0.0</td>\n",
       "      <td>33</td>\n",
       "      <td>17</td>\n",
       "      <td>3.0</td>\n",
       "      <td>1.0</td>\n",
       "      <td>2.0</td>\n",
       "      <td>0.0</td>\n",
       "      <td>38687</td>\n",
       "    </tr>\n",
       "    <tr>\n",
       "      <th>1</th>\n",
       "      <td>9.0</td>\n",
       "      <td>2.0</td>\n",
       "      <td>1290.8217</td>\n",
       "      <td>894.2075</td>\n",
       "      <td>1.0</td>\n",
       "      <td>-0.122771</td>\n",
       "      <td>0.0</td>\n",
       "      <td>21</td>\n",
       "      <td>0.5658</td>\n",
       "      <td>41</td>\n",
       "      <td>1.0</td>\n",
       "      <td>0.1347</td>\n",
       "      <td>2.0</td>\n",
       "      <td>16</td>\n",
       "      <td>5</td>\n",
       "      <td>4.0</td>\n",
       "      <td>0.0</td>\n",
       "      <td>1.0</td>\n",
       "      <td>2.0</td>\n",
       "      <td>47911</td>\n",
       "    </tr>\n",
       "    <tr>\n",
       "      <th>2</th>\n",
       "      <td>1.0</td>\n",
       "      <td>10.0</td>\n",
       "      <td>828.8136</td>\n",
       "      <td>1376.3179</td>\n",
       "      <td>0.0</td>\n",
       "      <td>0.225957</td>\n",
       "      <td>2.0</td>\n",
       "      <td>4</td>\n",
       "      <td>0.1403</td>\n",
       "      <td>11</td>\n",
       "      <td>0.0</td>\n",
       "      <td>0.7364</td>\n",
       "      <td>0.0</td>\n",
       "      <td>34</td>\n",
       "      <td>21</td>\n",
       "      <td>0.0</td>\n",
       "      <td>1.0</td>\n",
       "      <td>4.0</td>\n",
       "      <td>1.0</td>\n",
       "      <td>23635</td>\n",
       "    </tr>\n",
       "    <tr>\n",
       "      <th>3</th>\n",
       "      <td>9.0</td>\n",
       "      <td>3.0</td>\n",
       "      <td>1292.9565</td>\n",
       "      <td>869.8649</td>\n",
       "      <td>1.0</td>\n",
       "      <td>-0.170132</td>\n",
       "      <td>0.0</td>\n",
       "      <td>17</td>\n",
       "      <td>0.5103</td>\n",
       "      <td>33</td>\n",
       "      <td>1.0</td>\n",
       "      <td>0.1201</td>\n",
       "      <td>2.0</td>\n",
       "      <td>8</td>\n",
       "      <td>4</td>\n",
       "      <td>3.0</td>\n",
       "      <td>0.0</td>\n",
       "      <td>2.0</td>\n",
       "      <td>3.0</td>\n",
       "      <td>43077</td>\n",
       "    </tr>\n",
       "    <tr>\n",
       "      <th>4</th>\n",
       "      <td>8.0</td>\n",
       "      <td>4.0</td>\n",
       "      <td>1290.6291</td>\n",
       "      <td>952.7483</td>\n",
       "      <td>1.0</td>\n",
       "      <td>-0.096665</td>\n",
       "      <td>0.0</td>\n",
       "      <td>21</td>\n",
       "      <td>0.6954</td>\n",
       "      <td>41</td>\n",
       "      <td>1.0</td>\n",
       "      <td>0.0993</td>\n",
       "      <td>2.0</td>\n",
       "      <td>7</td>\n",
       "      <td>3</td>\n",
       "      <td>4.0</td>\n",
       "      <td>0.0</td>\n",
       "      <td>1.0</td>\n",
       "      <td>3.0</td>\n",
       "      <td>38977</td>\n",
       "    </tr>\n",
       "    <tr>\n",
       "      <th>...</th>\n",
       "      <td>...</td>\n",
       "      <td>...</td>\n",
       "      <td>...</td>\n",
       "      <td>...</td>\n",
       "      <td>...</td>\n",
       "      <td>...</td>\n",
       "      <td>...</td>\n",
       "      <td>...</td>\n",
       "      <td>...</td>\n",
       "      <td>...</td>\n",
       "      <td>...</td>\n",
       "      <td>...</td>\n",
       "      <td>...</td>\n",
       "      <td>...</td>\n",
       "      <td>...</td>\n",
       "      <td>...</td>\n",
       "      <td>...</td>\n",
       "      <td>...</td>\n",
       "      <td>...</td>\n",
       "      <td>...</td>\n",
       "    </tr>\n",
       "    <tr>\n",
       "      <th>4088</th>\n",
       "      <td>9.0</td>\n",
       "      <td>1.0</td>\n",
       "      <td>1317.4348</td>\n",
       "      <td>813.5480</td>\n",
       "      <td>1.0</td>\n",
       "      <td>-0.194437</td>\n",
       "      <td>0.0</td>\n",
       "      <td>23</td>\n",
       "      <td>0.7662</td>\n",
       "      <td>30</td>\n",
       "      <td>1.0</td>\n",
       "      <td>0.2665</td>\n",
       "      <td>1.0</td>\n",
       "      <td>17</td>\n",
       "      <td>8</td>\n",
       "      <td>3.0</td>\n",
       "      <td>0.0</td>\n",
       "      <td>1.0</td>\n",
       "      <td>2.0</td>\n",
       "      <td>39545</td>\n",
       "    </tr>\n",
       "    <tr>\n",
       "      <th>4089</th>\n",
       "      <td>8.0</td>\n",
       "      <td>4.0</td>\n",
       "      <td>1160.8179</td>\n",
       "      <td>985.0022</td>\n",
       "      <td>1.0</td>\n",
       "      <td>0.036182</td>\n",
       "      <td>0.0</td>\n",
       "      <td>8</td>\n",
       "      <td>0.2066</td>\n",
       "      <td>22</td>\n",
       "      <td>1.0</td>\n",
       "      <td>0.0775</td>\n",
       "      <td>2.0</td>\n",
       "      <td>7</td>\n",
       "      <td>3</td>\n",
       "      <td>4.0</td>\n",
       "      <td>0.0</td>\n",
       "      <td>2.0</td>\n",
       "      <td>1.0</td>\n",
       "      <td>44943</td>\n",
       "    </tr>\n",
       "    <tr>\n",
       "      <th>4090</th>\n",
       "      <td>2.0</td>\n",
       "      <td>11.0</td>\n",
       "      <td>925.1613</td>\n",
       "      <td>1247.0009</td>\n",
       "      <td>0.0</td>\n",
       "      <td>0.131394</td>\n",
       "      <td>3.0</td>\n",
       "      <td>3</td>\n",
       "      <td>0.0785</td>\n",
       "      <td>5</td>\n",
       "      <td>0.0</td>\n",
       "      <td>0.2354</td>\n",
       "      <td>0.0</td>\n",
       "      <td>17</td>\n",
       "      <td>9</td>\n",
       "      <td>1.0</td>\n",
       "      <td>1.0</td>\n",
       "      <td>5.0</td>\n",
       "      <td>0.0</td>\n",
       "      <td>35372</td>\n",
       "    </tr>\n",
       "    <tr>\n",
       "      <th>4091</th>\n",
       "      <td>9.0</td>\n",
       "      <td>3.0</td>\n",
       "      <td>1224.7838</td>\n",
       "      <td>1001.5915</td>\n",
       "      <td>1.0</td>\n",
       "      <td>-0.072507</td>\n",
       "      <td>0.0</td>\n",
       "      <td>12</td>\n",
       "      <td>0.3312</td>\n",
       "      <td>35</td>\n",
       "      <td>1.0</td>\n",
       "      <td>0.1932</td>\n",
       "      <td>1.0</td>\n",
       "      <td>18</td>\n",
       "      <td>7</td>\n",
       "      <td>3.0</td>\n",
       "      <td>0.0</td>\n",
       "      <td>2.0</td>\n",
       "      <td>2.0</td>\n",
       "      <td>44378</td>\n",
       "    </tr>\n",
       "    <tr>\n",
       "      <th>4092</th>\n",
       "      <td>7.0</td>\n",
       "      <td>2.0</td>\n",
       "      <td>1325.6589</td>\n",
       "      <td>901.5116</td>\n",
       "      <td>1.0</td>\n",
       "      <td>-0.146845</td>\n",
       "      <td>0.0</td>\n",
       "      <td>21</td>\n",
       "      <td>0.8140</td>\n",
       "      <td>34</td>\n",
       "      <td>1.0</td>\n",
       "      <td>0.2713</td>\n",
       "      <td>1.0</td>\n",
       "      <td>8</td>\n",
       "      <td>7</td>\n",
       "      <td>2.0</td>\n",
       "      <td>0.0</td>\n",
       "      <td>2.0</td>\n",
       "      <td>1.0</td>\n",
       "      <td>34202</td>\n",
       "    </tr>\n",
       "  </tbody>\n",
       "</table>\n",
       "<p>4093 rows × 20 columns</p>\n",
       "</div>"
      ],
      "text/plain": [
       "      opp_towers  towers  opp_earned_gpm  earned gpm  opp_inhibitors  \\\n",
       "0            4.0     8.0       1045.5946   1213.6486             0.0   \n",
       "1            9.0     2.0       1290.8217    894.2075             1.0   \n",
       "2            1.0    10.0        828.8136   1376.3179             0.0   \n",
       "3            9.0     3.0       1292.9565    869.8649             1.0   \n",
       "4            8.0     4.0       1290.6291    952.7483             1.0   \n",
       "...          ...     ...             ...         ...             ...   \n",
       "4088         9.0     1.0       1317.4348    813.5480             1.0   \n",
       "4089         8.0     4.0       1160.8179    985.0022             1.0   \n",
       "4090         2.0    11.0        925.1613   1247.0009             0.0   \n",
       "4091         9.0     3.0       1224.7838   1001.5915             1.0   \n",
       "4092         7.0     2.0       1325.6589    901.5116             1.0   \n",
       "\n",
       "          gspd  inhibitors  opp_kills  opp_team_kpm  opp_assists  \\\n",
       "0     0.004023         1.0         11        0.2973           25   \n",
       "1    -0.122771         0.0         21        0.5658           41   \n",
       "2     0.225957         2.0          4        0.1403           11   \n",
       "3    -0.170132         0.0         17        0.5103           33   \n",
       "4    -0.096665         0.0         21        0.6954           41   \n",
       "...        ...         ...        ...           ...          ...   \n",
       "4088 -0.194437         0.0         23        0.7662           30   \n",
       "4089  0.036182         0.0          8        0.2066           22   \n",
       "4090  0.131394         3.0          3        0.0785            5   \n",
       "4091 -0.072507         0.0         12        0.3312           35   \n",
       "4092 -0.146845         0.0         21        0.8140           34   \n",
       "\n",
       "      opp_firstbaron  team kpm  opp_barons  assists  kills  opp_dragons  \\\n",
       "0                0.0    0.4595         0.0       33     17          3.0   \n",
       "1                1.0    0.1347         2.0       16      5          4.0   \n",
       "2                0.0    0.7364         0.0       34     21          0.0   \n",
       "3                1.0    0.1201         2.0        8      4          3.0   \n",
       "4                1.0    0.0993         2.0        7      3          4.0   \n",
       "...              ...       ...         ...      ...    ...          ...   \n",
       "4088             1.0    0.2665         1.0       17      8          3.0   \n",
       "4089             1.0    0.0775         2.0        7      3          4.0   \n",
       "4090             0.0    0.2354         0.0       17      9          1.0   \n",
       "4091             1.0    0.1932         1.0       18      7          3.0   \n",
       "4092             1.0    0.2713         1.0        8      7          2.0   \n",
       "\n",
       "      firstbaron  dragons  opp_doublekills  opp_earnedgold  \n",
       "0            1.0      2.0              0.0           38687  \n",
       "1            0.0      1.0              2.0           47911  \n",
       "2            1.0      4.0              1.0           23635  \n",
       "3            0.0      2.0              3.0           43077  \n",
       "4            0.0      1.0              3.0           38977  \n",
       "...          ...      ...              ...             ...  \n",
       "4088         0.0      1.0              2.0           39545  \n",
       "4089         0.0      2.0              1.0           44943  \n",
       "4090         1.0      5.0              0.0           35372  \n",
       "4091         0.0      2.0              2.0           44378  \n",
       "4092         0.0      2.0              1.0           34202  \n",
       "\n",
       "[4093 rows x 20 columns]"
      ]
     },
     "execution_count": 68,
     "metadata": {},
     "output_type": "execute_result"
    }
   ],
   "source": [
    "X"
   ]
  },
  {
   "cell_type": "code",
   "execution_count": 69,
   "metadata": {},
   "outputs": [],
   "source": [
    "Y = df_teams['result']"
   ]
  },
  {
   "cell_type": "code",
   "execution_count": 70,
   "metadata": {},
   "outputs": [],
   "source": [
    "clf = ExtraTreesClassifier(n_estimators = 100, random_state = 43)"
   ]
  },
  {
   "cell_type": "code",
   "execution_count": 71,
   "metadata": {},
   "outputs": [],
   "source": [
    "shffl = ShuffleSplit(n_splits = 10, test_size = 0.3, random_state = 43)"
   ]
  },
  {
   "cell_type": "code",
   "execution_count": 72,
   "metadata": {},
   "outputs": [],
   "source": [
    "cv_results = cross_val_score(clf, X, Y, cv = shffl, scoring = 'f1')"
   ]
  },
  {
   "cell_type": "code",
   "execution_count": 73,
   "metadata": {},
   "outputs": [
    {
     "data": {
      "text/plain": [
       "array([0.99127676, 0.99047619, 0.99203822, 0.98977183, 0.99693721,\n",
       "       0.99066874, 0.99315589, 0.99461124, 0.98924731, 0.99217527])"
      ]
     },
     "execution_count": 73,
     "metadata": {},
     "output_type": "execute_result"
    }
   ],
   "source": [
    "cv_results"
   ]
  },
  {
   "cell_type": "code",
   "execution_count": 74,
   "metadata": {},
   "outputs": [],
   "source": [
    "cv_results_list = cv_results.tolist()"
   ]
  },
  {
   "cell_type": "code",
   "execution_count": 75,
   "metadata": {},
   "outputs": [],
   "source": [
    "sorted_results = sorted(cv_results_list, reverse = True)"
   ]
  },
  {
   "cell_type": "code",
   "execution_count": 76,
   "metadata": {},
   "outputs": [
    {
     "name": "stdout",
     "output_type": "stream",
     "text": [
      "Accuracy: 0.9920 (+/- 0.0045)\n"
     ]
    }
   ],
   "source": [
    "print(\"Accuracy: %0.4f (+/- %0.4f)\" % (cv_results.mean(), cv_results.std() * 2))"
   ]
  },
  {
   "cell_type": "code",
   "execution_count": 77,
   "metadata": {},
   "outputs": [
    {
     "name": "stdout",
     "output_type": "stream",
     "text": [
      "Best score: 0.9969\n"
     ]
    }
   ],
   "source": [
    "print(\"Best score: %0.4f\" % (sorted_results[0]))"
   ]
  },
  {
   "cell_type": "code",
   "execution_count": 78,
   "metadata": {},
   "outputs": [
    {
     "name": "stdout",
     "output_type": "stream",
     "text": [
      "Worst score: 0.9892\n"
     ]
    }
   ],
   "source": [
    "print(\"Worst score: %0.4f\" % (sorted_results[len(sorted_results) - 1]))"
   ]
  }
 ],
 "metadata": {
  "kernelspec": {
   "display_name": "Python 3",
   "language": "python",
   "name": "python3"
  },
  "language_info": {
   "codemirror_mode": {
    "name": "ipython",
    "version": 3
   },
   "file_extension": ".py",
   "mimetype": "text/x-python",
   "name": "python",
   "nbconvert_exporter": "python",
   "pygments_lexer": "ipython3",
   "version": "3.8.2"
  }
 },
 "nbformat": 4,
 "nbformat_minor": 4
}
