{
 "cells": [
  {
   "cell_type": "code",
   "execution_count": 1,
   "id": "f29baee3-f5bf-4c46-9f8c-4ce19278beba",
   "metadata": {},
   "outputs": [],
   "source": [
    "import pandas as pd\n",
    "import numpy as np\n",
    "import seaborn as sns\n",
    "import matplotlib.pyplot as plt\n",
    "from sklearn.tree import DecisionTreeClassifier\n",
    "from sklearn.model_selection import train_test_split\n",
    "from sklearn import metrics\n",
    "from sklearn import tree\n",
    "from sklearn.metrics import *\n",
    "from sklearn.model_selection import cross_val_score\n",
    "from sklearn.ensemble import ExtraTreesClassifier\n",
    "from sklearn.datasets import make_classification\n",
    "from sklearn.model_selection import ShuffleSplit\n",
    "from sklearn.feature_selection import SelectKBest\n",
    "from sklearn.feature_selection import chi2\n",
    "from sklearn.ensemble import ExtraTreesClassifier\n",
    "from sklearn.datasets import make_classification\n",
    "import copy\n",
    "pd.set_option('display.max_columns', None)"
   ]
  },
  {
   "cell_type": "code",
   "execution_count": 2,
   "id": "fc4e5712-d87f-4024-a680-c1f5607119fd",
   "metadata": {},
   "outputs": [],
   "source": [
    "avg_df = pd.read_csv('new_train_df.csv')\n",
    "worlds_test = pd.read_csv('worlds_test_df.csv')"
   ]
  },
  {
   "cell_type": "code",
   "execution_count": 3,
   "id": "12529be7-7bdd-41fb-b933-d771d87f6116",
   "metadata": {},
   "outputs": [],
   "source": [
    "#len(avg_df.columns.tolist()), len(worlds_test.columns.tolist())"
   ]
  },
  {
   "cell_type": "code",
   "execution_count": 4,
   "id": "6c23a9fc-e9cf-44c9-82ef-dc2ef066a0c6",
   "metadata": {},
   "outputs": [],
   "source": [
    "worlds_test.drop('Unnamed: 0', axis = 1, inplace = True)\n",
    "avg_df.drop('Unnamed: 0', axis = 1, inplace = True)"
   ]
  },
  {
   "cell_type": "code",
   "execution_count": 5,
   "id": "ee92f6c6-e8e6-40a2-af18-43690fb37f82",
   "metadata": {},
   "outputs": [],
   "source": [
    "#len(avg_df.columns.tolist()), len(worlds_test.columns.tolist())"
   ]
  },
  {
   "cell_type": "code",
   "execution_count": 6,
   "id": "a9da5105-288f-425c-b57f-50822776599c",
   "metadata": {},
   "outputs": [],
   "source": [
    "avg_df.drop(['team', 'opp_team'], axis = 1, inplace = True)"
   ]
  },
  {
   "cell_type": "markdown",
   "id": "46cf73ce-748f-4f8b-a6e8-3021889842f2",
   "metadata": {},
   "source": [
    "### Entrenando el modelo con el nuevo conjunto de datos"
   ]
  },
  {
   "cell_type": "code",
   "execution_count": 7,
   "id": "2211adbe-d35d-45fe-ab22-80e4cb7e6f82",
   "metadata": {},
   "outputs": [],
   "source": [
    "X = copy.copy(avg_df)"
   ]
  },
  {
   "cell_type": "code",
   "execution_count": 8,
   "id": "7f7d29ac-f7a4-451f-a2d8-0dc4fb16861a",
   "metadata": {},
   "outputs": [],
   "source": [
    "Y = avg_df['result']\n",
    "X.drop('result', axis = 1, inplace = True)"
   ]
  },
  {
   "cell_type": "code",
   "execution_count": 9,
   "id": "6d6177b0-1289-470d-967d-b0acaa5bf7e8",
   "metadata": {},
   "outputs": [
    {
     "data": {
      "text/plain": [
       "ExtraTreesClassifier(random_state=43)"
      ]
     },
     "execution_count": 9,
     "metadata": {},
     "output_type": "execute_result"
    }
   ],
   "source": [
    "clf = ExtraTreesClassifier(n_estimators = 100, random_state = 43)\n",
    "Xtrain, Xtest, Ytrain, Ytest = train_test_split(X, Y, test_size = 0.3, random_state = 43)\n",
    "clf.fit(Xtrain, Ytrain)"
   ]
  },
  {
   "cell_type": "code",
   "execution_count": 10,
   "id": "0a692d21-b636-4c51-bc78-4effbf9af283",
   "metadata": {},
   "outputs": [
    {
     "data": {
      "text/plain": [
       "0.6056278216741735"
      ]
     },
     "execution_count": 10,
     "metadata": {},
     "output_type": "execute_result"
    }
   ],
   "source": [
    "Ypred = clf.predict(Xtest)\n",
    "metrics.f1_score(Ytest, Ypred, average='macro')"
   ]
  },
  {
   "cell_type": "markdown",
   "id": "f123bd17-a3db-4be1-b37e-d88a90219555",
   "metadata": {},
   "source": [
    "### Extraccion de atributos importantes"
   ]
  },
  {
   "cell_type": "code",
   "execution_count": 11,
   "id": "67028851-862e-4e58-a23f-34c286d13709",
   "metadata": {},
   "outputs": [
    {
     "data": {
      "text/plain": [
       "<AxesSubplot:>"
      ]
     },
     "execution_count": 11,
     "metadata": {},
     "output_type": "execute_result"
    },
    {
     "data": {
      "image/png": "[encoded data removed]",
      "text/plain": [
       "<Figure size 432x288 with 1 Axes>"
      ]
     },
     "metadata": {
      "needs_background": "light"
     },
     "output_type": "display_data"
    }
   ],
   "source": [
    "feat_importances = pd.Series(clf.feature_importances_, index = X.columns)\n",
    "feat_importances.nlargest(20).plot(kind = 'barh')"
   ]
  },
  {
   "cell_type": "code",
   "execution_count": 12,
   "id": "dd7c52a6-59ad-4c5b-9e6e-cb8acfb170ae",
   "metadata": {},
   "outputs": [],
   "source": [
    "feat_importances.sort_values(ascending = False, inplace = True)\n",
    "f_i_l = feat_importances.tolist()\n",
    "f_i_l_n = list(feat_importances.index)\n",
    "feat_importance_list = [[f_i_l_n[i], f_i_l[i]] for i in range(len(f_i_l)) if i < 20]\n",
    "feature_list = [x[0] for x in feat_importance_list]"
   ]
  },
  {
   "cell_type": "markdown",
   "id": "856f8597-cdd2-4923-ad57-3c472111dced",
   "metadata": {},
   "source": [
    "### entrenamiento con los 20 atributos mas importantes"
   ]
  },
  {
   "cell_type": "code",
   "execution_count": 13,
   "id": "bc48d49a-9f51-4d24-8eee-6e03de7cff78",
   "metadata": {},
   "outputs": [],
   "source": [
    "X = avg_df[feature_list]\n",
    "Y = avg_df['result']"
   ]
  },
  {
   "cell_type": "code",
   "execution_count": 14,
   "id": "1a0891c6-a405-4a2a-8501-c69811213dd0",
   "metadata": {},
   "outputs": [
    {
     "data": {
      "text/plain": [
       "ExtraTreesClassifier(random_state=43)"
      ]
     },
     "execution_count": 14,
     "metadata": {},
     "output_type": "execute_result"
    }
   ],
   "source": [
    "clf_importance = ExtraTreesClassifier(n_estimators = 100, random_state = 43)\n",
    "Xtrain, Xtest, Ytrain, Ytest = train_test_split(X, Y, test_size = 0.3, random_state = 43)\n",
    "clf_importance.fit(Xtrain, Ytrain)"
   ]
  },
  {
   "cell_type": "code",
   "execution_count": 15,
   "id": "a835b2ff-1a29-49a4-b3b0-2e467fdeaf6b",
   "metadata": {},
   "outputs": [
    {
     "data": {
      "text/plain": [
       "0.6113158193338787"
      ]
     },
     "execution_count": 15,
     "metadata": {},
     "output_type": "execute_result"
    }
   ],
   "source": [
    "Ypred = clf_importance.predict(Xtest)\n",
    "metrics.f1_score(Ytest, Ypred, average='macro')"
   ]
  },
  {
   "cell_type": "code",
   "execution_count": 16,
   "id": "044dd0f6-ffe8-4c42-bcce-1a3f425b0234",
   "metadata": {},
   "outputs": [],
   "source": [
    "feature_list_worlds = ['towers',\n",
    " 'opp_towers',\n",
    " 'opp_inhibitors',\n",
    " 'inhibitors',\n",
    " 'firstbaron',\n",
    " 'opp_firstbaron',\n",
    " 'opp_assists',\n",
    " 'opp_earnedgpm',\n",
    " 'earnedgpm',\n",
    " 'kills',\n",
    " 'opp_earnedgold',\n",
    " 'barons',\n",
    " 'firsttothreetowers',\n",
    " 'opp_team kpm',\n",
    " 'opp_elementaldrakes',\n",
    " 'opp_barons',\n",
    " 'opp_doublekills',\n",
    " 'opp_dragons',\n",
    " 'gspd',\n",
    " 'dragons']"
   ]
  },
  {
   "cell_type": "code",
   "execution_count": 17,
   "id": "496b2454-037e-43fc-b1c6-b254e070d6c4",
   "metadata": {},
   "outputs": [],
   "source": [
    "Xtest = worlds_test[feature_list_worlds]\n",
    "Ytest = worlds_test['result']"
   ]
  },
  {
   "cell_type": "code",
   "execution_count": 18,
   "id": "119bcbb1-b066-471b-8d93-98b9d2d41204",
   "metadata": {},
   "outputs": [
    {
     "data": {
      "text/plain": [
       "0.5087719298245614"
      ]
     },
     "execution_count": 18,
     "metadata": {},
     "output_type": "execute_result"
    }
   ],
   "source": [
    "Ypred = clf_importance.predict(Xtest)\n",
    "#metrics.f1_score(Ytest, Ypred, average = 'macro')\n",
    "metrics.accuracy_score(Ytest, Ypred)"
   ]
  },
  {
   "cell_type": "code",
   "execution_count": 19,
   "id": "e95fc525-352d-49a6-8d7a-384969f641af",
   "metadata": {},
   "outputs": [],
   "source": [
    "from sklearn.metrics import confusion_matrix"
   ]
  },
  {
   "cell_type": "code",
   "execution_count": 20,
   "id": "b3c055f2-3e04-4b61-b0eb-0227c4dce262",
   "metadata": {},
   "outputs": [
    {
     "data": {
      "text/plain": [
       "array([[ 0, 56],\n",
       "       [ 0, 58]], dtype=int64)"
      ]
     },
     "execution_count": 20,
     "metadata": {},
     "output_type": "execute_result"
    }
   ],
   "source": [
    "confusion_matrix(Ytest, Ypred)"
   ]
  },
  {
   "cell_type": "code",
   "execution_count": 21,
   "id": "8828f39e-5a2c-4606-8ca9-1bbdcc5ad49f",
   "metadata": {},
   "outputs": [
    {
     "data": {
      "text/plain": [
       "array([1, 1, 1, 1, 1, 1, 1, 1, 1, 1, 1, 1, 1, 1, 1, 1, 1, 1, 1, 1, 1, 1,\n",
       "       1, 1, 1, 1, 1, 1, 1, 1, 1, 1, 1, 1, 1, 1, 1, 1, 1, 1, 1, 1, 1, 1,\n",
       "       1, 1, 1, 1, 1, 1, 1, 1, 1, 1, 1, 1, 1, 1, 1, 1, 1, 1, 1, 1, 1, 1,\n",
       "       1, 1, 1, 1, 1, 1, 1, 1, 1, 1, 1, 1, 1, 1, 1, 1, 1, 1, 1, 1, 1, 1,\n",
       "       1, 1, 1, 1, 1, 1, 1, 1, 1, 1, 1, 1, 1, 1, 1, 1, 1, 1, 1, 1, 1, 1,\n",
       "       1, 1, 1, 1], dtype=int64)"
      ]
     },
     "execution_count": 21,
     "metadata": {},
     "output_type": "execute_result"
    }
   ],
   "source": [
    "Ypred"
   ]
  },
  {
   "cell_type": "code",
   "execution_count": 22,
   "id": "47b00979-6964-4ec1-a733-b94ff9a22ce7",
   "metadata": {},
   "outputs": [
    {
     "data": {
      "text/plain": [
       "0      1\n",
       "1      1\n",
       "2      1\n",
       "3      0\n",
       "4      1\n",
       "      ..\n",
       "109    1\n",
       "110    1\n",
       "111    0\n",
       "112    0\n",
       "113    1\n",
       "Name: result, Length: 114, dtype: int64"
      ]
     },
     "execution_count": 22,
     "metadata": {},
     "output_type": "execute_result"
    }
   ],
   "source": [
    "Ytest"
   ]
  },
  {
   "cell_type": "code",
   "execution_count": 27,
   "id": "ea4ee39c-1ed4-4dea-9109-059448fbeed9",
   "metadata": {},
   "outputs": [
    {
     "data": {
      "text/plain": [
       "58"
      ]
     },
     "execution_count": 27,
     "metadata": {},
     "output_type": "execute_result"
    }
   ],
   "source": [
    "sum([1 for y in Ytest if y == 1])"
   ]
  },
  {
   "cell_type": "code",
   "execution_count": null,
   "id": "710f468e-23bc-4478-ba9e-fcedf332f5e6",
   "metadata": {},
   "outputs": [],
   "source": []
  }
 ],
 "metadata": {
  "kernelspec": {
   "display_name": "Python 3",
   "language": "python",
   "name": "python3"
  },
  "language_info": {
   "codemirror_mode": {
    "name": "ipython",
    "version": 3
   },
   "file_extension": ".py",
   "mimetype": "text/x-python",
   "name": "python",
   "nbconvert_exporter": "python",
   "pygments_lexer": "ipython3",
   "version": "3.8.8"
  }
 },
 "nbformat": 4,
 "nbformat_minor": 5
}
