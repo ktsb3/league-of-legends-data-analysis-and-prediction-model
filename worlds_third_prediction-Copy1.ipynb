{
 "cells": [
  {
   "cell_type": "code",
   "execution_count": 1,
   "id": "31880ff0-5d08-43c7-835c-8691154db28e",
   "metadata": {},
   "outputs": [],
   "source": [
    "import pandas as pd\n",
    "import numpy as np\n",
    "import seaborn as sns\n",
    "import matplotlib.pyplot as plt\n",
    "from sklearn.tree import DecisionTreeClassifier\n",
    "from sklearn.model_selection import train_test_split\n",
    "from sklearn import metrics\n",
    "from sklearn import tree\n",
    "from sklearn.metrics import *\n",
    "from sklearn.model_selection import cross_val_score\n",
    "from sklearn.ensemble import ExtraTreesClassifier\n",
    "from sklearn.datasets import make_classification\n",
    "from sklearn.model_selection import ShuffleSplit\n",
    "from sklearn.feature_selection import SelectKBest\n",
    "from sklearn.feature_selection import chi2\n",
    "from sklearn.ensemble import ExtraTreesClassifier\n",
    "from sklearn.datasets import make_classification\n",
    "import copy\n",
    "pd.set_option('display.max_columns', None)"
   ]
  },
  {
   "cell_type": "code",
   "execution_count": 2,
   "id": "01fb1d7d-def0-41f2-bbda-58ed6f62d192",
   "metadata": {},
   "outputs": [],
   "source": [
    "avg_df = pd.read_csv('players_train_df.csv')\n",
    "worlds_test = pd.read_csv('players_worlds_test.csv')"
   ]
  },
  {
   "cell_type": "code",
   "execution_count": 3,
   "id": "d28e8e76-c854-4c82-8b17-0150a36ab746",
   "metadata": {},
   "outputs": [],
   "source": [
    "worlds_test.drop('Unnamed: 0', axis = 1, inplace = True)\n",
    "avg_df.drop('Unnamed: 0', axis = 1, inplace = True)"
   ]
  },
  {
   "cell_type": "code",
   "execution_count": 4,
   "id": "5b19426f-dbe9-48b4-bb6d-0ecf2fe3b032",
   "metadata": {},
   "outputs": [],
   "source": [
    "avg_df.drop(['team', 'opp_team'], axis = 1, inplace = True)\n",
    "worlds_test.drop(['team', 'opp_team'], axis = 1, inplace = True)"
   ]
  },
  {
   "cell_type": "code",
   "execution_count": 5,
   "id": "a8a3c9d1-b04d-4706-8fcb-db6f38ace7d0",
   "metadata": {},
   "outputs": [],
   "source": [
    "columns = avg_df.columns.tolist()"
   ]
  },
  {
   "cell_type": "code",
   "execution_count": 6,
   "id": "6fbb3fc2-320a-4b89-8ac4-9f8c2597b56d",
   "metadata": {},
   "outputs": [
    {
     "data": {
      "text/plain": [
       "(1, 278, 554)"
      ]
     },
     "execution_count": 6,
     "metadata": {},
     "output_type": "execute_result"
    }
   ],
   "source": [
    "columns.index('result'), columns.index('opp_result'), columns.index('result.1')"
   ]
  },
  {
   "cell_type": "code",
   "execution_count": 7,
   "id": "34be33fb-7892-4eb3-be08-6e576960b966",
   "metadata": {},
   "outputs": [
    {
     "data": {
      "text/plain": [
       "('winrate', 'opp_winrate', 'result')"
      ]
     },
     "execution_count": 7,
     "metadata": {},
     "output_type": "execute_result"
    }
   ],
   "source": [
    "columns[1], columns[278], columns[554] = 'winrate', 'opp_winrate', 'result'\n",
    "columns[1], columns[278], columns[554]"
   ]
  },
  {
   "cell_type": "code",
   "execution_count": 8,
   "id": "18041fee-fb4e-4528-9585-c2eda349114f",
   "metadata": {},
   "outputs": [],
   "source": [
    "avg_df.columns = columns\n",
    "worlds_test.columns = columns"
   ]
  },
  {
   "cell_type": "markdown",
   "id": "2c6d3363-a871-4309-baba-93541227b292",
   "metadata": {},
   "source": [
    "### Entrenando el modelo con el nuevo conjunto de datos"
   ]
  },
  {
   "cell_type": "code",
   "execution_count": 9,
   "id": "cf181d49-d33b-4ca3-856a-96b7e1363f27",
   "metadata": {},
   "outputs": [],
   "source": [
    "X = copy.copy(avg_df)"
   ]
  },
  {
   "cell_type": "code",
   "execution_count": 10,
   "id": "56a4405f-6db2-4421-ae71-cfea0e2af695",
   "metadata": {},
   "outputs": [],
   "source": [
    "Y = avg_df['result']\n",
    "X.drop('result', axis = 1, inplace = True)"
   ]
  },
  {
   "cell_type": "code",
   "execution_count": 11,
   "id": "9cb71fd7-d92c-48c6-b2bb-6b8b92c6e797",
   "metadata": {},
   "outputs": [
    {
     "data": {
      "text/plain": [
       "ExtraTreesClassifier(random_state=43)"
      ]
     },
     "execution_count": 11,
     "metadata": {},
     "output_type": "execute_result"
    }
   ],
   "source": [
    "clf = ExtraTreesClassifier(n_estimators = 100, random_state = 43)\n",
    "Xtrain, Xtest, Ytrain, Ytest = train_test_split(X, Y, test_size = 0.3, random_state = 43)\n",
    "clf.fit(Xtrain, Ytrain)"
   ]
  },
  {
   "cell_type": "code",
   "execution_count": 12,
   "id": "75b7a423-5ed7-4cf0-b0f8-aeb9ac8011b4",
   "metadata": {},
   "outputs": [
    {
     "data": {
      "text/plain": [
       "0.6264587155963304"
      ]
     },
     "execution_count": 12,
     "metadata": {},
     "output_type": "execute_result"
    }
   ],
   "source": [
    "Ypred = clf.predict(Xtest)\n",
    "metrics.f1_score(Ytest, Ypred, average='macro')"
   ]
  },
  {
   "cell_type": "markdown",
   "id": "8f144a33-88b0-4069-a718-8644e1aaf5bf",
   "metadata": {},
   "source": [
    "### Extraccion de atributos importantes"
   ]
  },
  {
   "cell_type": "code",
   "execution_count": 14,
   "id": "d8670ead-f0b1-4a31-8abe-e0e70e7aea27",
   "metadata": {},
   "outputs": [
    {
     "data": {
      "text/plain": [
       "<AxesSubplot:>"
      ]
     },
     "execution_count": 14,
     "metadata": {},
     "output_type": "execute_result"
    },
    {
     "data": {
      "image/png": "[encoded data removed]",
      "text/plain": [
       "<Figure size 432x288 with 1 Axes>"
      ]
     },
     "metadata": {
      "needs_background": "light"
     },
     "output_type": "display_data"
    }
   ],
   "source": [
    "feat_importances = pd.Series(clf.feature_importances_, index = X.columns)\n",
    "feat_importances.nlargest(40).plot(kind = 'barh')"
   ]
  },
  {
   "cell_type": "code",
   "execution_count": 15,
   "id": "0531f641-ba66-4e64-952c-84aa0144037f",
   "metadata": {},
   "outputs": [],
   "source": [
    "feat_importances.sort_values(ascending = False, inplace = True)\n",
    "f_i_l = feat_importances.tolist()\n",
    "f_i_l_n = list(feat_importances.index)\n",
    "feat_importance_list = [[f_i_l_n[i], f_i_l[i]] for i in range(len(f_i_l)) if i < 40]\n",
    "feature_list = [x[0] for x in feat_importance_list]"
   ]
  },
  {
   "cell_type": "markdown",
   "id": "9f695416-327f-4770-bce3-347f8f849d7c",
   "metadata": {},
   "source": [
    "### entrenamiento con los 40 atributos mas importantes"
   ]
  },
  {
   "cell_type": "code",
   "execution_count": 16,
   "id": "571cf828-89db-4ac9-a0cf-4bb68bc303b3",
   "metadata": {},
   "outputs": [],
   "source": [
    "X = avg_df[feature_list]\n",
    "Y = avg_df['result']"
   ]
  },
  {
   "cell_type": "code",
   "execution_count": 17,
   "id": "5d4c3410-8c44-4b38-bd2c-091e94cc0c27",
   "metadata": {},
   "outputs": [
    {
     "data": {
      "text/plain": [
       "ExtraTreesClassifier(random_state=43)"
      ]
     },
     "execution_count": 17,
     "metadata": {},
     "output_type": "execute_result"
    }
   ],
   "source": [
    "clf_importance = ExtraTreesClassifier(n_estimators = 100, random_state = 43)\n",
    "Xtrain, Xtest, Ytrain, Ytest = train_test_split(X, Y, test_size = 0.3, random_state = 43)\n",
    "clf_importance.fit(Xtrain, Ytrain)"
   ]
  },
  {
   "cell_type": "code",
   "execution_count": 18,
   "id": "4b4e027f-c1c1-451a-9edf-d1908bd60a0a",
   "metadata": {},
   "outputs": [
    {
     "data": {
      "text/plain": [
       "0.6360959405179831"
      ]
     },
     "execution_count": 18,
     "metadata": {},
     "output_type": "execute_result"
    }
   ],
   "source": [
    "Ypred = clf_importance.predict(Xtest)\n",
    "metrics.f1_score(Ytest, Ypred, average='macro')"
   ]
  },
  {
   "cell_type": "markdown",
   "id": "4657c835-f5c5-48c7-b15a-9d5295701110",
   "metadata": {},
   "source": [
    "### prediccion en tiempo real"
   ]
  },
  {
   "cell_type": "code",
   "execution_count": 19,
   "id": "db220d32-5895-4a15-b885-4ad94e468641",
   "metadata": {},
   "outputs": [],
   "source": [
    "Xtest = worlds_test[feature_list]\n",
    "Ytest = worlds_test['result']"
   ]
  },
  {
   "cell_type": "code",
   "execution_count": 20,
   "id": "6c9f357a-f560-4797-899d-694d99cfb1b3",
   "metadata": {},
   "outputs": [
    {
     "data": {
      "text/plain": [
       "0.24675324675324675"
      ]
     },
     "execution_count": 20,
     "metadata": {},
     "output_type": "execute_result"
    }
   ],
   "source": [
    "Ypred = clf_importance.predict(Xtest)\n",
    "metrics.f1_score(Ytest, Ypred, average = 'macro')"
   ]
  },
  {
   "cell_type": "code",
   "execution_count": 21,
   "id": "9c824e1e-3063-4c44-a4e4-a91bbeb5a727",
   "metadata": {},
   "outputs": [
    {
     "data": {
      "text/plain": [
       "0.41911764705882354"
      ]
     },
     "execution_count": 21,
     "metadata": {},
     "output_type": "execute_result"
    }
   ],
   "source": [
    "metrics.accuracy_score(Ytest, Ypred)"
   ]
  },
  {
   "cell_type": "code",
   "execution_count": 22,
   "id": "21dc92ec-fdee-445c-a09c-f7082b34d8c2",
   "metadata": {},
   "outputs": [
    {
     "data": {
      "text/plain": [
       "array([ 1, -1, -1,  1,  1,  1, -1,  1,  1,  1, -1,  1,  1, -1,  1,  1, -1,\n",
       "        1, -1, -1, -1, -1,  1,  1,  1, -1,  1,  1, -1,  1, -1, -1,  1, -1,\n",
       "        1,  1,  1,  1, -1,  1, -1,  1, -1,  1,  1, -1,  1,  1, -1,  1,  1,\n",
       "        1,  1,  1,  1,  1,  1,  1, -1,  1, -1, -1, -1,  1,  1, -1,  1, -1,\n",
       "       -1,  1,  1,  1, -1, -1,  1, -1,  1,  1, -1,  1,  1,  1,  1, -1, -1,\n",
       "       -1, -1, -1,  1,  1,  1, -1, -1,  1, -1,  1, -1,  1, -1, -1,  1,  1,\n",
       "        1, -1, -1,  1, -1,  1, -1,  1, -1, -1,  1,  1, -1, -1,  1,  1,  1,\n",
       "       -1, -1,  1,  1, -1, -1,  1, -1,  1,  1,  1,  1,  1,  1,  1,  1,  1],\n",
       "      dtype=int64)"
      ]
     },
     "execution_count": 22,
     "metadata": {},
     "output_type": "execute_result"
    }
   ],
   "source": [
    "Ypred"
   ]
  },
  {
   "cell_type": "code",
   "execution_count": null,
   "id": "2e5bbacb-7606-420b-aaf1-82a1c5da175c",
   "metadata": {},
   "outputs": [],
   "source": []
  }
 ],
 "metadata": {
  "kernelspec": {
   "display_name": "Python 3",
   "language": "python",
   "name": "python3"
  },
  "language_info": {
   "codemirror_mode": {
    "name": "ipython",
    "version": 3
   },
   "file_extension": ".py",
   "mimetype": "text/x-python",
   "name": "python",
   "nbconvert_exporter": "python",
   "pygments_lexer": "ipython3",
   "version": "3.8.8"
  }
 },
 "nbformat": 4,
 "nbformat_minor": 5
}
