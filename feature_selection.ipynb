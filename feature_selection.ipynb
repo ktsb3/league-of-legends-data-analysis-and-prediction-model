{
 "cells": [
  {
   "cell_type": "code",
   "execution_count": 1,
   "metadata": {},
   "outputs": [],
   "source": [
    "import pandas as pd\n",
    "import numpy as np\n",
    "import seaborn as sns\n",
    "import matplotlib.pyplot as plt\n",
    "from sklearn.tree import DecisionTreeClassifier\n",
    "from sklearn.model_selection import train_test_split\n",
    "from sklearn import metrics\n",
    "from sklearn import tree\n",
    "from sklearn.metrics import *\n",
    "from sklearn.model_selection import cross_val_score\n",
    "from sklearn.ensemble import ExtraTreesClassifier\n",
    "from sklearn.datasets import make_classification\n",
    "from sklearn.model_selection import ShuffleSplit\n",
    "from sklearn.feature_selection import SelectKBest\n",
    "from sklearn.feature_selection import chi2\n",
    "from sklearn.ensemble import ExtraTreesClassifier\n",
    "from sklearn.datasets import make_classification\n",
    "import copy\n",
    "pd.set_option('display.max_columns', None)"
   ]
  },
  {
   "cell_type": "markdown",
   "metadata": {},
   "source": [
    "# Seleccion de parametros a partir de la importancia de los atributos"
   ]
  },
  {
   "cell_type": "code",
   "execution_count": 2,
   "metadata": {},
   "outputs": [],
   "source": [
    "df_teams = pd.read_csv('teams_df_final.csv')\n",
    "df = pd.read_csv('complete_df.csv')"
   ]
  },
  {
   "cell_type": "code",
   "execution_count": 3,
   "metadata": {},
   "outputs": [],
   "source": [
    "cols = df_teams.columns\n",
    "X = copy.copy(df_teams)"
   ]
  },
  {
   "cell_type": "code",
   "execution_count": 4,
   "metadata": {},
   "outputs": [],
   "source": [
    "X.drop(['gameid', 'result'], axis = 1, inplace = True)"
   ]
  },
  {
   "cell_type": "code",
   "execution_count": 5,
   "metadata": {},
   "outputs": [],
   "source": [
    "Y = df_teams['result']"
   ]
  },
  {
   "cell_type": "code",
   "execution_count": 6,
   "metadata": {},
   "outputs": [],
   "source": [
    "clf = ExtraTreesClassifier(n_estimators = 100, random_state = 43)"
   ]
  },
  {
   "cell_type": "code",
   "execution_count": 7,
   "metadata": {},
   "outputs": [],
   "source": [
    "Xtrain, Xtest, Ytrain, Ytest = train_test_split(X, Y, test_size = 0.3, random_state = 43)"
   ]
  },
  {
   "cell_type": "code",
   "execution_count": 8,
   "metadata": {},
   "outputs": [],
   "source": [
    "clf = ExtraTreesClassifier(n_estimators = 100, random_state = 43)"
   ]
  },
  {
   "cell_type": "code",
   "execution_count": 9,
   "metadata": {},
   "outputs": [
    {
     "data": {
      "text/plain": [
       "ExtraTreesClassifier(bootstrap=False, ccp_alpha=0.0, class_weight=None,\n",
       "                     criterion='gini', max_depth=None, max_features='auto',\n",
       "                     max_leaf_nodes=None, max_samples=None,\n",
       "                     min_impurity_decrease=0.0, min_impurity_split=None,\n",
       "                     min_samples_leaf=1, min_samples_split=2,\n",
       "                     min_weight_fraction_leaf=0.0, n_estimators=100,\n",
       "                     n_jobs=None, oob_score=False, random_state=43, verbose=0,\n",
       "                     warm_start=False)"
      ]
     },
     "execution_count": 9,
     "metadata": {},
     "output_type": "execute_result"
    }
   ],
   "source": [
    "clf.fit(Xtrain, Ytrain)"
   ]
  },
  {
   "cell_type": "code",
   "execution_count": 10,
   "metadata": {},
   "outputs": [],
   "source": [
    "Ypred = clf.predict(Xtest)"
   ]
  },
  {
   "cell_type": "code",
   "execution_count": 11,
   "metadata": {},
   "outputs": [
    {
     "data": {
      "text/plain": [
       "0.9869618304400913"
      ]
     },
     "execution_count": 11,
     "metadata": {},
     "output_type": "execute_result"
    }
   ],
   "source": [
    "metrics.f1_score(Ytest, Ypred, average='macro')"
   ]
  },
  {
   "cell_type": "code",
   "execution_count": 12,
   "metadata": {},
   "outputs": [],
   "source": [
    "importance3 = clf.feature_importances_"
   ]
  },
  {
   "cell_type": "code",
   "execution_count": 13,
   "metadata": {},
   "outputs": [],
   "source": [
    "feat_importances = pd.Series(clf.feature_importances_, index = X.columns)"
   ]
  },
  {
   "cell_type": "code",
   "execution_count": 14,
   "metadata": {},
   "outputs": [
    {
     "data": {
      "text/plain": [
       "<AxesSubplot:>"
      ]
     },
     "execution_count": 14,
     "metadata": {},
     "output_type": "execute_result"
    },
    {
     "data": {
      "image/png": "[encoded data removed]",
      "text/plain": [
       "<Figure size 432x288 with 1 Axes>"
      ]
     },
     "metadata": {
      "needs_background": "light"
     },
     "output_type": "display_data"
    }
   ],
   "source": [
    "feat_importances.nlargest(20).plot(kind = 'barh')"
   ]
  },
  {
   "cell_type": "code",
   "execution_count": 15,
   "metadata": {},
   "outputs": [],
   "source": [
    "feat_importances.sort_values(ascending = False, inplace = True)"
   ]
  },
  {
   "cell_type": "code",
   "execution_count": 16,
   "metadata": {},
   "outputs": [],
   "source": [
    "f_i_l = feat_importances.tolist()"
   ]
  },
  {
   "cell_type": "code",
   "execution_count": 17,
   "metadata": {},
   "outputs": [],
   "source": [
    "f_i_l_n = list(feat_importances.index)"
   ]
  },
  {
   "cell_type": "code",
   "execution_count": 18,
   "metadata": {},
   "outputs": [],
   "source": [
    "feat_importance_list = [[f_i_l_n[i], f_i_l[i]] for i in range(len(f_i_l)) if i < 20]"
   ]
  },
  {
   "cell_type": "markdown",
   "metadata": {},
   "source": [
    "### Modelo a unicamente con los 20 atributos mas importantes"
   ]
  },
  {
   "cell_type": "code",
   "execution_count": 19,
   "metadata": {},
   "outputs": [],
   "source": [
    "feature_list = [x[0] for x in feat_importance_list]"
   ]
  },
  {
   "cell_type": "code",
   "execution_count": 20,
   "metadata": {},
   "outputs": [],
   "source": [
    "X = df_teams[feature_list]"
   ]
  },
  {
   "cell_type": "code",
   "execution_count": 21,
   "metadata": {},
   "outputs": [],
   "source": [
    "Y = df_teams['result']"
   ]
  },
  {
   "cell_type": "code",
   "execution_count": 22,
   "metadata": {},
   "outputs": [],
   "source": [
    "clf_importance = ExtraTreesClassifier(n_estimators = 100, random_state = 43)"
   ]
  },
  {
   "cell_type": "code",
   "execution_count": 23,
   "metadata": {},
   "outputs": [],
   "source": [
    "Xtrain, Xtest, Ytrain, Ytest = train_test_split(X, Y, test_size = 0.3, random_state = 43)"
   ]
  },
  {
   "cell_type": "code",
   "execution_count": 24,
   "metadata": {},
   "outputs": [],
   "source": [
    "clf_importance = ExtraTreesClassifier(n_estimators = 100, random_state = 43)"
   ]
  },
  {
   "cell_type": "code",
   "execution_count": 25,
   "metadata": {},
   "outputs": [
    {
     "data": {
      "text/plain": [
       "ExtraTreesClassifier(bootstrap=False, ccp_alpha=0.0, class_weight=None,\n",
       "                     criterion='gini', max_depth=None, max_features='auto',\n",
       "                     max_leaf_nodes=None, max_samples=None,\n",
       "                     min_impurity_decrease=0.0, min_impurity_split=None,\n",
       "                     min_samples_leaf=1, min_samples_split=2,\n",
       "                     min_weight_fraction_leaf=0.0, n_estimators=100,\n",
       "                     n_jobs=None, oob_score=False, random_state=43, verbose=0,\n",
       "                     warm_start=False)"
      ]
     },
     "execution_count": 25,
     "metadata": {},
     "output_type": "execute_result"
    }
   ],
   "source": [
    "clf_importance.fit(Xtrain, Ytrain)"
   ]
  },
  {
   "cell_type": "code",
   "execution_count": 26,
   "metadata": {},
   "outputs": [],
   "source": [
    "Ypred = clf_importance.predict(Xtest)"
   ]
  },
  {
   "cell_type": "code",
   "execution_count": 27,
   "metadata": {},
   "outputs": [
    {
     "data": {
      "text/plain": [
       "0.9910358717760694"
      ]
     },
     "execution_count": 27,
     "metadata": {},
     "output_type": "execute_result"
    }
   ],
   "source": [
    "metrics.f1_score(Ytest, Ypred, average='macro')"
   ]
  },
  {
   "cell_type": "markdown",
   "metadata": {},
   "source": [
    "### Cross validation con los mismios 20 atritbutos"
   ]
  },
  {
   "cell_type": "code",
   "execution_count": 28,
   "metadata": {},
   "outputs": [],
   "source": [
    "X = df_teams[feature_list]"
   ]
  },
  {
   "cell_type": "code",
   "execution_count": 29,
   "metadata": {},
   "outputs": [],
   "source": [
    "Y = df_teams['result']"
   ]
  },
  {
   "cell_type": "code",
   "execution_count": 30,
   "metadata": {},
   "outputs": [],
   "source": [
    "clf = ExtraTreesClassifier(n_estimators = 100, random_state = 43)"
   ]
  },
  {
   "cell_type": "code",
   "execution_count": 31,
   "metadata": {},
   "outputs": [],
   "source": [
    "shffl = ShuffleSplit(n_splits = 10, test_size = 0.3, random_state = 43)"
   ]
  },
  {
   "cell_type": "code",
   "execution_count": 32,
   "metadata": {},
   "outputs": [],
   "source": [
    "cv_results = cross_val_score(clf, X, Y, cv = shffl, scoring = 'f1')"
   ]
  },
  {
   "cell_type": "code",
   "execution_count": 33,
   "metadata": {},
   "outputs": [
    {
     "data": {
      "text/plain": [
       "array([0.99127676, 0.98808578, 0.99203822, 0.99215071, 0.99923372,\n",
       "       0.99221184, 0.99392097, 0.99386503, 0.99076923, 0.99139953])"
      ]
     },
     "execution_count": 33,
     "metadata": {},
     "output_type": "execute_result"
    }
   ],
   "source": [
    "cv_results"
   ]
  },
  {
   "cell_type": "code",
   "execution_count": 34,
   "metadata": {},
   "outputs": [],
   "source": [
    "cv_results_list = cv_results.tolist()"
   ]
  },
  {
   "cell_type": "code",
   "execution_count": 35,
   "metadata": {},
   "outputs": [],
   "source": [
    "sorted_results = sorted(cv_results_list, reverse = True)"
   ]
  },
  {
   "cell_type": "code",
   "execution_count": 36,
   "metadata": {},
   "outputs": [
    {
     "name": "stdout",
     "output_type": "stream",
     "text": [
      "Accuracy: 0.9925 (+/- 0.0055)\n"
     ]
    }
   ],
   "source": [
    "print(\"Accuracy: %0.4f (+/- %0.4f)\" % (cv_results.mean(), cv_results.std() * 2))"
   ]
  },
  {
   "cell_type": "code",
   "execution_count": 37,
   "metadata": {},
   "outputs": [
    {
     "name": "stdout",
     "output_type": "stream",
     "text": [
      "Best score: 0.9992\n"
     ]
    }
   ],
   "source": [
    "print(\"Best score: %0.4f\" % (sorted_results[0]))"
   ]
  },
  {
   "cell_type": "code",
   "execution_count": 38,
   "metadata": {},
   "outputs": [],
   "source": [
    "feature_best = (\"Best score: %0.4f\" % (sorted_results[0]))"
   ]
  },
  {
   "cell_type": "code",
   "execution_count": 39,
   "metadata": {},
   "outputs": [
    {
     "name": "stdout",
     "output_type": "stream",
     "text": [
      "Worst score: 0.9881\n"
     ]
    }
   ],
   "source": [
    "print(\"Worst score: %0.4f\" % (sorted_results[len(sorted_results) - 1]))"
   ]
  },
  {
   "cell_type": "markdown",
   "metadata": {},
   "source": [
    "# Seleccion de parametros a partir de matriz de correlacion"
   ]
  },
  {
   "cell_type": "code",
   "execution_count": 40,
   "metadata": {},
   "outputs": [],
   "source": [
    "correlation = df_teams.corr()"
   ]
  },
  {
   "cell_type": "code",
   "execution_count": 41,
   "metadata": {},
   "outputs": [],
   "source": [
    "result_corr = correlation['result']"
   ]
  },
  {
   "cell_type": "code",
   "execution_count": 42,
   "metadata": {},
   "outputs": [],
   "source": [
    "df_result = pd.DataFrame(result_corr)"
   ]
  },
  {
   "cell_type": "code",
   "execution_count": 43,
   "metadata": {},
   "outputs": [
    {
     "data": {
      "text/html": [
       "<div>\n",
       "<style scoped>\n",
       "    .dataframe tbody tr th:only-of-type {\n",
       "        vertical-align: middle;\n",
       "    }\n",
       "\n",
       "    .dataframe tbody tr th {\n",
       "        vertical-align: top;\n",
       "    }\n",
       "\n",
       "    .dataframe thead th {\n",
       "        text-align: right;\n",
       "    }\n",
       "</style>\n",
       "<table border=\"1\" class=\"dataframe\">\n",
       "  <thead>\n",
       "    <tr style=\"text-align: right;\">\n",
       "      <th></th>\n",
       "      <th>result</th>\n",
       "    </tr>\n",
       "  </thead>\n",
       "  <tbody>\n",
       "    <tr>\n",
       "      <th>gamelength</th>\n",
       "      <td>-0.058379</td>\n",
       "    </tr>\n",
       "    <tr>\n",
       "      <th>result</th>\n",
       "      <td>1.000000</td>\n",
       "    </tr>\n",
       "    <tr>\n",
       "      <th>kills</th>\n",
       "      <td>0.649912</td>\n",
       "    </tr>\n",
       "    <tr>\n",
       "      <th>deaths</th>\n",
       "      <td>-0.712262</td>\n",
       "    </tr>\n",
       "    <tr>\n",
       "      <th>assists</th>\n",
       "      <td>0.650689</td>\n",
       "    </tr>\n",
       "    <tr>\n",
       "      <th>...</th>\n",
       "      <td>...</td>\n",
       "    </tr>\n",
       "    <tr>\n",
       "      <th>opp_minionkills</th>\n",
       "      <td>-0.084849</td>\n",
       "    </tr>\n",
       "    <tr>\n",
       "      <th>opp_monsterkills</th>\n",
       "      <td>-0.393583</td>\n",
       "    </tr>\n",
       "    <tr>\n",
       "      <th>opp_monsterkillsownjungle</th>\n",
       "      <td>-0.058098</td>\n",
       "    </tr>\n",
       "    <tr>\n",
       "      <th>opp_monsterkillsenemyjungle</th>\n",
       "      <td>-0.510468</td>\n",
       "    </tr>\n",
       "    <tr>\n",
       "      <th>opp_cspm</th>\n",
       "      <td>-0.304918</td>\n",
       "    </tr>\n",
       "  </tbody>\n",
       "</table>\n",
       "<p>113 rows × 1 columns</p>\n",
       "</div>"
      ],
      "text/plain": [
       "                               result\n",
       "gamelength                  -0.058379\n",
       "result                       1.000000\n",
       "kills                        0.649912\n",
       "deaths                      -0.712262\n",
       "assists                      0.650689\n",
       "...                               ...\n",
       "opp_minionkills             -0.084849\n",
       "opp_monsterkills            -0.393583\n",
       "opp_monsterkillsownjungle   -0.058098\n",
       "opp_monsterkillsenemyjungle -0.510468\n",
       "opp_cspm                    -0.304918\n",
       "\n",
       "[113 rows x 1 columns]"
      ]
     },
     "execution_count": 43,
     "metadata": {},
     "output_type": "execute_result"
    }
   ],
   "source": [
    "df_result"
   ]
  },
  {
   "cell_type": "code",
   "execution_count": 44,
   "metadata": {},
   "outputs": [],
   "source": [
    "names = df_result.index\n",
    "names = names.tolist()"
   ]
  },
  {
   "cell_type": "code",
   "execution_count": 45,
   "metadata": {},
   "outputs": [
    {
     "data": {
      "text/plain": [
       "<BarContainer object of 113 artists>"
      ]
     },
     "execution_count": 45,
     "metadata": {},
     "output_type": "execute_result"
    },
    {
     "data": {
      "image/png": "[encoded data removed]",
      "text/plain": [
       "<Figure size 720x1800 with 1 Axes>"
      ]
     },
     "metadata": {
      "needs_background": "light"
     },
     "output_type": "display_data"
    }
   ],
   "source": [
    "plt.figure(figsize = (10, 25))\n",
    "#plt.xticks(rotation = 90)\n",
    "plt.style.use('seaborn-dark-palette')\n",
    "plt.barh(names, abs(result_corr))"
   ]
  },
  {
   "cell_type": "code",
   "execution_count": 46,
   "metadata": {},
   "outputs": [],
   "source": [
    "result_corr_list = result_corr.tolist()"
   ]
  },
  {
   "cell_type": "code",
   "execution_count": 47,
   "metadata": {},
   "outputs": [],
   "source": [
    "abs_result = [abs(x) for x in result_corr_list]"
   ]
  },
  {
   "cell_type": "code",
   "execution_count": 48,
   "metadata": {},
   "outputs": [],
   "source": [
    "names_result = [[names[i], abs_result[i]] for i in range(len(abs_result))]"
   ]
  },
  {
   "cell_type": "code",
   "execution_count": 49,
   "metadata": {},
   "outputs": [],
   "source": [
    "names_result.sort(key = lambda names_result : names_result[1], reverse = True)"
   ]
  },
  {
   "cell_type": "code",
   "execution_count": 50,
   "metadata": {},
   "outputs": [],
   "source": [
    "above_thresh = [x for x in names_result if x[1] > 0.6 and x[1] < 1.0]"
   ]
  },
  {
   "cell_type": "code",
   "execution_count": 51,
   "metadata": {},
   "outputs": [],
   "source": [
    "above_thresh_names = [x[0] for x in above_thresh]\n",
    "above_thresh_values = [x[1] for x in above_thresh]"
   ]
  },
  {
   "cell_type": "code",
   "execution_count": 52,
   "metadata": {},
   "outputs": [
    {
     "data": {
      "text/plain": [
       "<BarContainer object of 24 artists>"
      ]
     },
     "execution_count": 52,
     "metadata": {},
     "output_type": "execute_result"
    },
    {
     "data": {
      "image/png": "[encoded data removed]",
      "text/plain": [
       "<Figure size 360x504 with 1 Axes>"
      ]
     },
     "metadata": {
      "needs_background": "light"
     },
     "output_type": "display_data"
    }
   ],
   "source": [
    "plt.figure(figsize = (5, 7))\n",
    "#plt.xticks(rotation = 90)\n",
    "plt.barh(above_thresh_names, above_thresh_values)"
   ]
  },
  {
   "cell_type": "markdown",
   "metadata": {},
   "source": [
    "### modelo unicamente con los 20 atributos con mayor correlacion"
   ]
  },
  {
   "cell_type": "code",
   "execution_count": 53,
   "metadata": {},
   "outputs": [],
   "source": [
    "X = df_teams[above_thresh_names]"
   ]
  },
  {
   "cell_type": "code",
   "execution_count": 54,
   "metadata": {},
   "outputs": [
    {
     "name": "stderr",
     "output_type": "stream",
     "text": [
      "C:\\Users\\kesha\\anaconda3\\envs\\ml\\lib\\site-packages\\pandas\\core\\frame.py:3990: SettingWithCopyWarning: \n",
      "A value is trying to be set on a copy of a slice from a DataFrame\n",
      "\n",
      "See the caveats in the documentation: https://pandas.pydata.org/pandas-docs/stable/user_guide/indexing.html#returning-a-view-versus-a-copy\n",
      "  return super().drop(\n"
     ]
    }
   ],
   "source": [
    "X.drop('deaths', axis = 1, inplace = True)\n",
    "X.drop('opp_deaths', axis = 1, inplace = True)\n",
    "X.drop('elementaldrakes', axis = 1, inplace = True)\n",
    "X.drop('opp_elementaldrakes', axis = 1, inplace = True)"
   ]
  },
  {
   "cell_type": "code",
   "execution_count": 55,
   "metadata": {},
   "outputs": [],
   "source": [
    "Y = df_teams['result']"
   ]
  },
  {
   "cell_type": "code",
   "execution_count": 56,
   "metadata": {},
   "outputs": [],
   "source": [
    "clf = ExtraTreesClassifier(n_estimators = 100, random_state = 43)"
   ]
  },
  {
   "cell_type": "code",
   "execution_count": 57,
   "metadata": {},
   "outputs": [],
   "source": [
    "Xtrain, Xtest, Ytrain, Ytest = train_test_split(X, Y, test_size = 0.3, random_state = 43)"
   ]
  },
  {
   "cell_type": "code",
   "execution_count": 58,
   "metadata": {},
   "outputs": [],
   "source": [
    "clf_importance = ExtraTreesClassifier(n_estimators = 100, random_state = 43)"
   ]
  },
  {
   "cell_type": "code",
   "execution_count": 59,
   "metadata": {},
   "outputs": [
    {
     "data": {
      "text/plain": [
       "ExtraTreesClassifier(bootstrap=False, ccp_alpha=0.0, class_weight=None,\n",
       "                     criterion='gini', max_depth=None, max_features='auto',\n",
       "                     max_leaf_nodes=None, max_samples=None,\n",
       "                     min_impurity_decrease=0.0, min_impurity_split=None,\n",
       "                     min_samples_leaf=1, min_samples_split=2,\n",
       "                     min_weight_fraction_leaf=0.0, n_estimators=100,\n",
       "                     n_jobs=None, oob_score=False, random_state=43, verbose=0,\n",
       "                     warm_start=False)"
      ]
     },
     "execution_count": 59,
     "metadata": {},
     "output_type": "execute_result"
    }
   ],
   "source": [
    "clf_importance.fit(Xtrain, Ytrain)"
   ]
  },
  {
   "cell_type": "code",
   "execution_count": 60,
   "metadata": {},
   "outputs": [],
   "source": [
    "Ypred = clf_importance.predict(Xtest)"
   ]
  },
  {
   "cell_type": "code",
   "execution_count": 61,
   "metadata": {},
   "outputs": [
    {
     "data": {
      "text/plain": [
       "0.9910358717760694"
      ]
     },
     "execution_count": 61,
     "metadata": {},
     "output_type": "execute_result"
    }
   ],
   "source": [
    "metrics.f1_score(Ytest, Ypred, average='macro')"
   ]
  },
  {
   "cell_type": "markdown",
   "metadata": {},
   "source": [
    "### Cross Validation con los mismos 20 atributos"
   ]
  },
  {
   "cell_type": "code",
   "execution_count": 62,
   "metadata": {},
   "outputs": [],
   "source": [
    "X = df_teams[above_thresh_names]"
   ]
  },
  {
   "cell_type": "code",
   "execution_count": 63,
   "metadata": {},
   "outputs": [
    {
     "name": "stderr",
     "output_type": "stream",
     "text": [
      "C:\\Users\\kesha\\anaconda3\\envs\\ml\\lib\\site-packages\\pandas\\core\\frame.py:3990: SettingWithCopyWarning: \n",
      "A value is trying to be set on a copy of a slice from a DataFrame\n",
      "\n",
      "See the caveats in the documentation: https://pandas.pydata.org/pandas-docs/stable/user_guide/indexing.html#returning-a-view-versus-a-copy\n",
      "  return super().drop(\n"
     ]
    }
   ],
   "source": [
    "X.drop('deaths', axis = 1, inplace = True)\n",
    "X.drop('opp_deaths', axis = 1, inplace = True)\n",
    "X.drop('elementaldrakes', axis = 1, inplace = True)\n",
    "X.drop('opp_elementaldrakes', axis = 1, inplace = True)"
   ]
  },
  {
   "cell_type": "code",
   "execution_count": 64,
   "metadata": {},
   "outputs": [],
   "source": [
    "Y = df_teams['result']"
   ]
  },
  {
   "cell_type": "code",
   "execution_count": 65,
   "metadata": {},
   "outputs": [],
   "source": [
    "clf = ExtraTreesClassifier(n_estimators = 100, random_state = 43)"
   ]
  },
  {
   "cell_type": "code",
   "execution_count": 66,
   "metadata": {},
   "outputs": [],
   "source": [
    "shffl = ShuffleSplit(n_splits = 10, test_size = 0.3, random_state = 43)"
   ]
  },
  {
   "cell_type": "code",
   "execution_count": 67,
   "metadata": {},
   "outputs": [],
   "source": [
    "cv_results = cross_val_score(clf, X, Y, cv = shffl, scoring = 'f1')"
   ]
  },
  {
   "cell_type": "code",
   "execution_count": 68,
   "metadata": {},
   "outputs": [
    {
     "data": {
      "text/plain": [
       "array([0.99127676, 0.99047619, 0.99203822, 0.98977183, 0.99693721,\n",
       "       0.99066874, 0.99315589, 0.99461124, 0.98924731, 0.99217527])"
      ]
     },
     "execution_count": 68,
     "metadata": {},
     "output_type": "execute_result"
    }
   ],
   "source": [
    "cv_results"
   ]
  },
  {
   "cell_type": "code",
   "execution_count": 69,
   "metadata": {},
   "outputs": [],
   "source": [
    "cv_results_list = cv_results.tolist()"
   ]
  },
  {
   "cell_type": "code",
   "execution_count": 70,
   "metadata": {},
   "outputs": [],
   "source": [
    "sorted_results = sorted(cv_results_list, reverse = True)"
   ]
  },
  {
   "cell_type": "code",
   "execution_count": 71,
   "metadata": {},
   "outputs": [
    {
     "name": "stdout",
     "output_type": "stream",
     "text": [
      "Accuracy: 0.9920 (+/- 0.0045)\n"
     ]
    }
   ],
   "source": [
    "print(\"Accuracy: %0.4f (+/- %0.4f)\" % (cv_results.mean(), cv_results.std() * 2))"
   ]
  },
  {
   "cell_type": "code",
   "execution_count": 72,
   "metadata": {},
   "outputs": [
    {
     "name": "stdout",
     "output_type": "stream",
     "text": [
      "Best score: 0.9969\n"
     ]
    }
   ],
   "source": [
    "print(\"Best score: %0.4f\" % (sorted_results[0]))"
   ]
  },
  {
   "cell_type": "code",
   "execution_count": 73,
   "metadata": {},
   "outputs": [],
   "source": [
    "matrix_best = (\"Best score: %0.4f\" % (sorted_results[0]))"
   ]
  },
  {
   "cell_type": "code",
   "execution_count": 74,
   "metadata": {},
   "outputs": [
    {
     "name": "stdout",
     "output_type": "stream",
     "text": [
      "Worst score: 0.9892\n"
     ]
    }
   ],
   "source": [
    "print(\"Worst score: %0.4f\" % (sorted_results[len(sorted_results) - 1]))"
   ]
  },
  {
   "cell_type": "markdown",
   "metadata": {},
   "source": [
    "# No se uso seleccion univariada de atributos porque existen columnas con valores negativos, y pierden su significancia si son alterados"
   ]
  },
  {
   "cell_type": "markdown",
   "metadata": {},
   "source": [
    "# Comparando los atributos mas importantes segun matriz de correlacion contra los atributos mas importantes segun el modelo"
   ]
  },
  {
   "cell_type": "code",
   "execution_count": 75,
   "metadata": {},
   "outputs": [],
   "source": [
    "above_thresh_names = ['opp_towers',\n",
    " 'towers',\n",
    " 'opp_earned_gpm',\n",
    " 'earned gpm',\n",
    " 'opp_inhibitors',\n",
    " 'gspd',\n",
    " 'inhibitors',\n",
    " 'opp_kills',\n",
    " 'opp_team_kpm',\n",
    " 'opp_assists',\n",
    " 'opp_firstbaron',\n",
    " 'team kpm',\n",
    " 'opp_barons',\n",
    " 'assists',\n",
    " 'kills',\n",
    " 'opp_dragons',\n",
    " 'firstbaron',\n",
    " 'dragons',\n",
    " 'opp_doublekills',\n",
    " 'opp_earnedgold']"
   ]
  },
  {
   "cell_type": "code",
   "execution_count": 76,
   "metadata": {},
   "outputs": [],
   "source": [
    "above_thresh_values = [0.8901373176107132,\n",
    " 0.8823298412669925,\n",
    " 0.8433143396067136,\n",
    " 0.8275655866333085,\n",
    " 0.76872556885389,\n",
    " 0.7501027214637753,\n",
    " 0.7376836216123817,\n",
    " 0.7135747920501458,\n",
    " 0.7077045700557374,\n",
    " 0.7041109000019554,\n",
    " 0.6852898033585781,\n",
    " 0.6577418497344966,\n",
    " 0.6555922646231906,\n",
    " 0.6506891871178019,\n",
    " 0.6499121889000263,\n",
    " 0.6477472344579055,\n",
    " 0.6420016836947757,\n",
    " 0.6170631930271167,\n",
    " 0.605690404029703,\n",
    " 0.6056421679457699]"
   ]
  },
  {
   "cell_type": "code",
   "execution_count": 77,
   "metadata": {},
   "outputs": [],
   "source": [
    "above_thresh_list = [[above_thresh_names[i], above_thresh_values[i]] for i in range(len(above_thresh_names))]"
   ]
  },
  {
   "cell_type": "code",
   "execution_count": 78,
   "metadata": {},
   "outputs": [
    {
     "name": "stdout",
     "output_type": "stream",
     "text": [
      "feature importance:  towers :  0.09151523020090062  |  matrix correlation:  opp_towers :  0.8901373176107132\n",
      "-----------------------------------------------------\n",
      "feature importance:  opp_towers :  0.07833709063716576  |  matrix correlation:  towers :  0.8823298412669925\n",
      "-----------------------------------------------------\n",
      "feature importance:  opp_inhibitors :  0.07567334445026973  |  matrix correlation:  opp_earned_gpm :  0.8433143396067136\n",
      "-----------------------------------------------------\n",
      "feature importance:  inhibitors :  0.0543619186538892  |  matrix correlation:  earned gpm :  0.8275655866333085\n",
      "-----------------------------------------------------\n",
      "feature importance:  firstbaron :  0.051744168413892566  |  matrix correlation:  opp_inhibitors :  0.76872556885389\n",
      "-----------------------------------------------------\n",
      "feature importance:  opp_firstbaron :  0.04942105938412081  |  matrix correlation:  gspd :  0.7501027214637753\n",
      "-----------------------------------------------------\n",
      "feature importance:  opp_assists :  0.044855930975827504  |  matrix correlation:  inhibitors :  0.7376836216123817\n",
      "-----------------------------------------------------\n",
      "feature importance:  opp_earned_gpm :  0.03878714664674009  |  matrix correlation:  opp_kills :  0.7135747920501458\n",
      "-----------------------------------------------------\n",
      "feature importance:  earned gpm :  0.03664026521126539  |  matrix correlation:  opp_team_kpm :  0.7077045700557374\n",
      "-----------------------------------------------------\n",
      "feature importance:  kills :  0.025564148305328275  |  matrix correlation:  opp_assists :  0.7041109000019554\n",
      "-----------------------------------------------------\n",
      "feature importance:  opp_earnedgold :  0.02359999393130134  |  matrix correlation:  opp_firstbaron :  0.6852898033585781\n",
      "-----------------------------------------------------\n",
      "feature importance:  barons :  0.023096352965695656  |  matrix correlation:  team kpm :  0.6577418497344966\n",
      "-----------------------------------------------------\n",
      "feature importance:  firsttothreetowers :  0.02244487199320426  |  matrix correlation:  opp_barons :  0.6555922646231906\n",
      "-----------------------------------------------------\n",
      "feature importance:  opp_team_kpm :  0.021866427608081298  |  matrix correlation:  assists :  0.6506891871178019\n",
      "-----------------------------------------------------\n",
      "feature importance:  opp_elementaldrakes :  0.01902663426158276  |  matrix correlation:  kills :  0.6499121889000263\n",
      "-----------------------------------------------------\n",
      "feature importance:  opp_barons :  0.018797883348370983  |  matrix correlation:  opp_dragons :  0.6477472344579055\n",
      "-----------------------------------------------------\n",
      "feature importance:  opp_doublekills :  0.017989219425886736  |  matrix correlation:  firstbaron :  0.6420016836947757\n",
      "-----------------------------------------------------\n",
      "feature importance:  opp_dragons :  0.0170424022400253  |  matrix correlation:  dragons :  0.6170631930271167\n",
      "-----------------------------------------------------\n",
      "feature importance:  gspd :  0.016703284891451193  |  matrix correlation:  opp_doublekills :  0.605690404029703\n",
      "-----------------------------------------------------\n",
      "feature importance:  dragons :  0.016142092967190845  |  matrix correlation:  opp_earnedgold :  0.6056421679457699\n",
      "-----------------------------------------------------\n"
     ]
    }
   ],
   "source": [
    "for i in range(len(above_thresh_list)):\n",
    "    print(\"feature importance: \", feat_importance_list[i][0], \": \", \n",
    "          feat_importance_list[i][1],\" | \", \"matrix correlation: \", \n",
    "          above_thresh_list[i][0], \": \", above_thresh_list[i][1])\n",
    "    print(\"-----------------------------------------------------\")"
   ]
  },
  {
   "cell_type": "markdown",
   "metadata": {},
   "source": [
    "# Cuantos atributos coinciden?"
   ]
  },
  {
   "cell_type": "code",
   "execution_count": 83,
   "metadata": {},
   "outputs": [],
   "source": [
    "f_i_20 = f_i_l_n[:20]"
   ]
  },
  {
   "cell_type": "code",
   "execution_count": 85,
   "metadata": {},
   "outputs": [
    {
     "name": "stdout",
     "output_type": "stream",
     "text": [
      "opp_towers\n",
      "towers\n",
      "opp_earned_gpm\n",
      "earned gpm\n",
      "opp_inhibitors\n",
      "gspd\n",
      "inhibitors\n",
      "opp_team_kpm\n",
      "opp_assists\n",
      "opp_firstbaron\n",
      "opp_barons\n",
      "kills\n",
      "opp_dragons\n",
      "firstbaron\n",
      "dragons\n",
      "opp_doublekills\n",
      "opp_earnedgold\n",
      "17 / 20 atributos coinciden\n"
     ]
    }
   ],
   "source": [
    "suma = 0\n",
    "for i in above_thresh_names:\n",
    "    if i in f_i_20:\n",
    "        print(i)\n",
    "        suma += 1\n",
    "        \n",
    "print(suma, \"/ 20 atributos coinciden\")"
   ]
  },
  {
   "cell_type": "code",
   "execution_count": 86,
   "metadata": {},
   "outputs": [
    {
     "name": "stdout",
     "output_type": "stream",
     "text": [
      "opp_kills\n",
      "team kpm\n",
      "assists\n"
     ]
    }
   ],
   "source": [
    "for i in above_thresh_names:\n",
    "    if i not in f_i_20:\n",
    "        print(i)"
   ]
  },
  {
   "cell_type": "markdown",
   "metadata": {},
   "source": [
    "# Comparacion de mejor puntuacion de modelos"
   ]
  },
  {
   "cell_type": "markdown",
   "metadata": {},
   "source": [
    "### Matriz de correlacion"
   ]
  },
  {
   "cell_type": "code",
   "execution_count": 79,
   "metadata": {},
   "outputs": [
    {
     "name": "stdout",
     "output_type": "stream",
     "text": [
      "Best score: 0.9969\n"
     ]
    }
   ],
   "source": [
    "print(matrix_best)"
   ]
  },
  {
   "cell_type": "markdown",
   "metadata": {},
   "source": [
    "### Feature importance"
   ]
  },
  {
   "cell_type": "code",
   "execution_count": 80,
   "metadata": {},
   "outputs": [
    {
     "name": "stdout",
     "output_type": "stream",
     "text": [
      "Best score: 0.9992\n"
     ]
    }
   ],
   "source": [
    "print(feature_best)"
   ]
  },
  {
   "cell_type": "markdown",
   "metadata": {},
   "source": [
    "# Referencia\n",
    "https://towardsdatascience.com/feature-selection-techniques-in-machine-learning-with-python-f24e7da3f36e"
   ]
  }
 ],
 "metadata": {
  "kernelspec": {
   "display_name": "Python 3.8.2 64-bit ('ml': conda)",
   "language": "python",
   "name": "python38264bitmlconda9788fc4c5eda4b37a9cfcc85a456aecd"
  },
  "language_info": {
   "codemirror_mode": {
    "name": "ipython",
    "version": 3
   },
   "file_extension": ".py",
   "mimetype": "text/x-python",
   "name": "python",
   "nbconvert_exporter": "python",
   "pygments_lexer": "ipython3",
   "version": "3.8.2"
  }
 },
 "nbformat": 4,
 "nbformat_minor": 4
}
